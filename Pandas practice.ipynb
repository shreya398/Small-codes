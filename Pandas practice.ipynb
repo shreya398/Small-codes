{
 "cells": [
  {
   "cell_type": "code",
   "execution_count": 2,
   "id": "11e302e0",
   "metadata": {},
   "outputs": [],
   "source": [
    "import pandas as pd\n",
    "import numpy as np\n",
    "import matplotlib.pyplot as plt"
   ]
  },
  {
   "cell_type": "code",
   "execution_count": 2,
   "id": "c92e5285",
   "metadata": {},
   "outputs": [],
   "source": [
    "#Creating a #Seriesby passing a list of values, letting pandas create a default integer index"
   ]
  },
  {
   "cell_type": "code",
   "execution_count": 16,
   "id": "e0af0b73",
   "metadata": {},
   "outputs": [],
   "source": [
    "s=pd.Series([1,2,3,np.nan,5,6])"
   ]
  },
  {
   "cell_type": "code",
   "execution_count": 17,
   "id": "3fb3643c",
   "metadata": {},
   "outputs": [
    {
     "data": {
      "text/plain": [
       "0    1.0\n",
       "1    2.0\n",
       "2    3.0\n",
       "3    NaN\n",
       "4    5.0\n",
       "5    6.0\n",
       "dtype: float64"
      ]
     },
     "execution_count": 17,
     "metadata": {},
     "output_type": "execute_result"
    }
   ],
   "source": [
    "s"
   ]
  },
  {
   "cell_type": "code",
   "execution_count": 18,
   "id": "73195b8f",
   "metadata": {},
   "outputs": [],
   "source": [
    "#Creating a DataFrameby passing a numpy array, with a datetime index and labeled columns"
   ]
  },
  {
   "cell_type": "code",
   "execution_count": 19,
   "id": "8c94857b",
   "metadata": {},
   "outputs": [],
   "source": [
    "dates=pd.date_range('20230202',periods=8)"
   ]
  },
  {
   "cell_type": "code",
   "execution_count": 20,
   "id": "ca15dfa5",
   "metadata": {},
   "outputs": [
    {
     "data": {
      "text/plain": [
       "DatetimeIndex(['2023-02-02', '2023-02-03', '2023-02-04', '2023-02-05',\n",
       "               '2023-02-06', '2023-02-07', '2023-02-08', '2023-02-09'],\n",
       "              dtype='datetime64[ns]', freq='D')"
      ]
     },
     "execution_count": 20,
     "metadata": {},
     "output_type": "execute_result"
    }
   ],
   "source": [
    "dates"
   ]
  },
  {
   "cell_type": "code",
   "execution_count": 21,
   "id": "098c6644",
   "metadata": {},
   "outputs": [],
   "source": [
    "df=pd.DataFrame(np.random.randn(8,4), index=dates,columns=('A','B','C','D'))"
   ]
  },
  {
   "cell_type": "code",
   "execution_count": 22,
   "id": "cd626ee0",
   "metadata": {},
   "outputs": [
    {
     "data": {
      "text/html": [
       "<div>\n",
       "<style scoped>\n",
       "    .dataframe tbody tr th:only-of-type {\n",
       "        vertical-align: middle;\n",
       "    }\n",
       "\n",
       "    .dataframe tbody tr th {\n",
       "        vertical-align: top;\n",
       "    }\n",
       "\n",
       "    .dataframe thead th {\n",
       "        text-align: right;\n",
       "    }\n",
       "</style>\n",
       "<table border=\"1\" class=\"dataframe\">\n",
       "  <thead>\n",
       "    <tr style=\"text-align: right;\">\n",
       "      <th></th>\n",
       "      <th>A</th>\n",
       "      <th>B</th>\n",
       "      <th>C</th>\n",
       "      <th>D</th>\n",
       "    </tr>\n",
       "  </thead>\n",
       "  <tbody>\n",
       "    <tr>\n",
       "      <th>2023-02-02</th>\n",
       "      <td>0.781687</td>\n",
       "      <td>-0.144852</td>\n",
       "      <td>0.369145</td>\n",
       "      <td>-0.449051</td>\n",
       "    </tr>\n",
       "    <tr>\n",
       "      <th>2023-02-03</th>\n",
       "      <td>-2.124750</td>\n",
       "      <td>0.230910</td>\n",
       "      <td>1.647256</td>\n",
       "      <td>0.326528</td>\n",
       "    </tr>\n",
       "    <tr>\n",
       "      <th>2023-02-04</th>\n",
       "      <td>-0.056833</td>\n",
       "      <td>-0.328209</td>\n",
       "      <td>-0.104489</td>\n",
       "      <td>0.664616</td>\n",
       "    </tr>\n",
       "    <tr>\n",
       "      <th>2023-02-05</th>\n",
       "      <td>-2.192784</td>\n",
       "      <td>0.492167</td>\n",
       "      <td>0.664405</td>\n",
       "      <td>-0.018719</td>\n",
       "    </tr>\n",
       "    <tr>\n",
       "      <th>2023-02-06</th>\n",
       "      <td>1.308745</td>\n",
       "      <td>-0.603420</td>\n",
       "      <td>0.822724</td>\n",
       "      <td>-1.030479</td>\n",
       "    </tr>\n",
       "    <tr>\n",
       "      <th>2023-02-07</th>\n",
       "      <td>-0.462398</td>\n",
       "      <td>-0.272734</td>\n",
       "      <td>0.010598</td>\n",
       "      <td>0.265294</td>\n",
       "    </tr>\n",
       "    <tr>\n",
       "      <th>2023-02-08</th>\n",
       "      <td>1.187461</td>\n",
       "      <td>0.118086</td>\n",
       "      <td>-0.517469</td>\n",
       "      <td>0.489792</td>\n",
       "    </tr>\n",
       "    <tr>\n",
       "      <th>2023-02-09</th>\n",
       "      <td>-0.468160</td>\n",
       "      <td>0.616962</td>\n",
       "      <td>0.630218</td>\n",
       "      <td>0.650224</td>\n",
       "    </tr>\n",
       "  </tbody>\n",
       "</table>\n",
       "</div>"
      ],
      "text/plain": [
       "                   A         B         C         D\n",
       "2023-02-02  0.781687 -0.144852  0.369145 -0.449051\n",
       "2023-02-03 -2.124750  0.230910  1.647256  0.326528\n",
       "2023-02-04 -0.056833 -0.328209 -0.104489  0.664616\n",
       "2023-02-05 -2.192784  0.492167  0.664405 -0.018719\n",
       "2023-02-06  1.308745 -0.603420  0.822724 -1.030479\n",
       "2023-02-07 -0.462398 -0.272734  0.010598  0.265294\n",
       "2023-02-08  1.187461  0.118086 -0.517469  0.489792\n",
       "2023-02-09 -0.468160  0.616962  0.630218  0.650224"
      ]
     },
     "execution_count": 22,
     "metadata": {},
     "output_type": "execute_result"
    }
   ],
   "source": [
    "df"
   ]
  },
  {
   "cell_type": "code",
   "execution_count": 23,
   "id": "f0fdbfc1",
   "metadata": {},
   "outputs": [
    {
     "ename": "SyntaxError",
     "evalue": "invalid syntax (2768640324.py, line 4)",
     "output_type": "error",
     "traceback": [
      "\u001b[1;36m  Input \u001b[1;32mIn [23]\u001b[1;36m\u001b[0m\n\u001b[1;33m    'D' : np.array([3] * 4,dtype='int32'),\u001b[0m\n\u001b[1;37m    ^\u001b[0m\n\u001b[1;31mSyntaxError\u001b[0m\u001b[1;31m:\u001b[0m invalid syntax\n"
     ]
    }
   ],
   "source": [
    " df2 = pd.DataFrame({ 'A' : 1.,\n",
    "                      'B' : pd.Timestamp('20130102'), \n",
    "                      'C' : pd.Series(1,index=list(range(4)),dtype='float32')\n",
    "                      'D' : np.array([3] * 4,dtype='int32'),\n",
    "                      'E' : pd.Categorical([\"test\",\"train\",\"test\",\"train\"])\n",
    "                      'F' : 'foo' })\n"
   ]
  },
  {
   "cell_type": "code",
   "execution_count": 24,
   "id": "1560cbca",
   "metadata": {},
   "outputs": [
    {
     "ename": "SyntaxError",
     "evalue": "invalid syntax (2763397827.py, line 1)",
     "output_type": "error",
     "traceback": [
      "\u001b[1;36m  Input \u001b[1;32mIn [24]\u001b[1;36m\u001b[0m\n\u001b[1;33m    df2.<TAB>\u001b[0m\n\u001b[1;37m        ^\u001b[0m\n\u001b[1;31mSyntaxError\u001b[0m\u001b[1;31m:\u001b[0m invalid syntax\n"
     ]
    }
   ],
   "source": [
    "df2.<TAB>\n"
   ]
  },
  {
   "cell_type": "code",
   "execution_count": 25,
   "id": "8df320be",
   "metadata": {},
   "outputs": [
    {
     "data": {
      "text/html": [
       "<div>\n",
       "<style scoped>\n",
       "    .dataframe tbody tr th:only-of-type {\n",
       "        vertical-align: middle;\n",
       "    }\n",
       "\n",
       "    .dataframe tbody tr th {\n",
       "        vertical-align: top;\n",
       "    }\n",
       "\n",
       "    .dataframe thead th {\n",
       "        text-align: right;\n",
       "    }\n",
       "</style>\n",
       "<table border=\"1\" class=\"dataframe\">\n",
       "  <thead>\n",
       "    <tr style=\"text-align: right;\">\n",
       "      <th></th>\n",
       "      <th>A</th>\n",
       "      <th>B</th>\n",
       "      <th>C</th>\n",
       "      <th>D</th>\n",
       "    </tr>\n",
       "  </thead>\n",
       "  <tbody>\n",
       "    <tr>\n",
       "      <th>2023-02-02</th>\n",
       "      <td>0.781687</td>\n",
       "      <td>-0.144852</td>\n",
       "      <td>0.369145</td>\n",
       "      <td>-0.449051</td>\n",
       "    </tr>\n",
       "    <tr>\n",
       "      <th>2023-02-03</th>\n",
       "      <td>-2.124750</td>\n",
       "      <td>0.230910</td>\n",
       "      <td>1.647256</td>\n",
       "      <td>0.326528</td>\n",
       "    </tr>\n",
       "    <tr>\n",
       "      <th>2023-02-04</th>\n",
       "      <td>-0.056833</td>\n",
       "      <td>-0.328209</td>\n",
       "      <td>-0.104489</td>\n",
       "      <td>0.664616</td>\n",
       "    </tr>\n",
       "    <tr>\n",
       "      <th>2023-02-05</th>\n",
       "      <td>-2.192784</td>\n",
       "      <td>0.492167</td>\n",
       "      <td>0.664405</td>\n",
       "      <td>-0.018719</td>\n",
       "    </tr>\n",
       "    <tr>\n",
       "      <th>2023-02-06</th>\n",
       "      <td>1.308745</td>\n",
       "      <td>-0.603420</td>\n",
       "      <td>0.822724</td>\n",
       "      <td>-1.030479</td>\n",
       "    </tr>\n",
       "  </tbody>\n",
       "</table>\n",
       "</div>"
      ],
      "text/plain": [
       "                   A         B         C         D\n",
       "2023-02-02  0.781687 -0.144852  0.369145 -0.449051\n",
       "2023-02-03 -2.124750  0.230910  1.647256  0.326528\n",
       "2023-02-04 -0.056833 -0.328209 -0.104489  0.664616\n",
       "2023-02-05 -2.192784  0.492167  0.664405 -0.018719\n",
       "2023-02-06  1.308745 -0.603420  0.822724 -1.030479"
      ]
     },
     "execution_count": 25,
     "metadata": {},
     "output_type": "execute_result"
    }
   ],
   "source": [
    "df.head()"
   ]
  },
  {
   "cell_type": "code",
   "execution_count": 26,
   "id": "f64eed19",
   "metadata": {},
   "outputs": [
    {
     "data": {
      "text/html": [
       "<div>\n",
       "<style scoped>\n",
       "    .dataframe tbody tr th:only-of-type {\n",
       "        vertical-align: middle;\n",
       "    }\n",
       "\n",
       "    .dataframe tbody tr th {\n",
       "        vertical-align: top;\n",
       "    }\n",
       "\n",
       "    .dataframe thead th {\n",
       "        text-align: right;\n",
       "    }\n",
       "</style>\n",
       "<table border=\"1\" class=\"dataframe\">\n",
       "  <thead>\n",
       "    <tr style=\"text-align: right;\">\n",
       "      <th></th>\n",
       "      <th>A</th>\n",
       "      <th>B</th>\n",
       "      <th>C</th>\n",
       "      <th>D</th>\n",
       "    </tr>\n",
       "  </thead>\n",
       "  <tbody>\n",
       "    <tr>\n",
       "      <th>2023-02-08</th>\n",
       "      <td>1.187461</td>\n",
       "      <td>0.118086</td>\n",
       "      <td>-0.517469</td>\n",
       "      <td>0.489792</td>\n",
       "    </tr>\n",
       "    <tr>\n",
       "      <th>2023-02-09</th>\n",
       "      <td>-0.468160</td>\n",
       "      <td>0.616962</td>\n",
       "      <td>0.630218</td>\n",
       "      <td>0.650224</td>\n",
       "    </tr>\n",
       "  </tbody>\n",
       "</table>\n",
       "</div>"
      ],
      "text/plain": [
       "                   A         B         C         D\n",
       "2023-02-08  1.187461  0.118086 -0.517469  0.489792\n",
       "2023-02-09 -0.468160  0.616962  0.630218  0.650224"
      ]
     },
     "execution_count": 26,
     "metadata": {},
     "output_type": "execute_result"
    }
   ],
   "source": [
    "df.tail(2)"
   ]
  },
  {
   "cell_type": "code",
   "execution_count": 27,
   "id": "257caefa",
   "metadata": {},
   "outputs": [
    {
     "data": {
      "text/plain": [
       "DatetimeIndex(['2023-02-02', '2023-02-03', '2023-02-04', '2023-02-05',\n",
       "               '2023-02-06', '2023-02-07', '2023-02-08', '2023-02-09'],\n",
       "              dtype='datetime64[ns]', freq='D')"
      ]
     },
     "execution_count": 27,
     "metadata": {},
     "output_type": "execute_result"
    }
   ],
   "source": [
    "df.index"
   ]
  },
  {
   "cell_type": "code",
   "execution_count": 28,
   "id": "fb20bd4a",
   "metadata": {},
   "outputs": [
    {
     "data": {
      "text/plain": [
       "Index(['A', 'B', 'C', 'D'], dtype='object')"
      ]
     },
     "execution_count": 28,
     "metadata": {},
     "output_type": "execute_result"
    }
   ],
   "source": [
    "df.columns"
   ]
  },
  {
   "cell_type": "code",
   "execution_count": 29,
   "id": "e4eff05f",
   "metadata": {},
   "outputs": [
    {
     "data": {
      "text/plain": [
       "array([[ 0.7816872 , -0.14485197,  0.36914534, -0.44905059],\n",
       "       [-2.12475032,  0.23090988,  1.64725643,  0.32652794],\n",
       "       [-0.05683295, -0.32820879, -0.10448905,  0.66461626],\n",
       "       [-2.19278399,  0.49216737,  0.66440536, -0.01871858],\n",
       "       [ 1.30874531, -0.60341997,  0.82272408, -1.03047945],\n",
       "       [-0.46239828, -0.27273357,  0.01059794,  0.2652937 ],\n",
       "       [ 1.18746074,  0.11808613, -0.51746939,  0.48979185],\n",
       "       [-0.46816025,  0.61696177,  0.6302178 ,  0.65022396]])"
      ]
     },
     "execution_count": 29,
     "metadata": {},
     "output_type": "execute_result"
    }
   ],
   "source": [
    "df.values"
   ]
  },
  {
   "cell_type": "code",
   "execution_count": 30,
   "id": "c6b71486",
   "metadata": {},
   "outputs": [
    {
     "data": {
      "text/html": [
       "<div>\n",
       "<style scoped>\n",
       "    .dataframe tbody tr th:only-of-type {\n",
       "        vertical-align: middle;\n",
       "    }\n",
       "\n",
       "    .dataframe tbody tr th {\n",
       "        vertical-align: top;\n",
       "    }\n",
       "\n",
       "    .dataframe thead th {\n",
       "        text-align: right;\n",
       "    }\n",
       "</style>\n",
       "<table border=\"1\" class=\"dataframe\">\n",
       "  <thead>\n",
       "    <tr style=\"text-align: right;\">\n",
       "      <th></th>\n",
       "      <th>A</th>\n",
       "      <th>B</th>\n",
       "      <th>C</th>\n",
       "      <th>D</th>\n",
       "    </tr>\n",
       "  </thead>\n",
       "  <tbody>\n",
       "    <tr>\n",
       "      <th>count</th>\n",
       "      <td>8.000000</td>\n",
       "      <td>8.000000</td>\n",
       "      <td>8.000000</td>\n",
       "      <td>8.000000</td>\n",
       "    </tr>\n",
       "    <tr>\n",
       "      <th>mean</th>\n",
       "      <td>-0.253379</td>\n",
       "      <td>0.013614</td>\n",
       "      <td>0.440299</td>\n",
       "      <td>0.112276</td>\n",
       "    </tr>\n",
       "    <tr>\n",
       "      <th>std</th>\n",
       "      <td>1.361689</td>\n",
       "      <td>0.423565</td>\n",
       "      <td>0.664735</td>\n",
       "      <td>0.590936</td>\n",
       "    </tr>\n",
       "    <tr>\n",
       "      <th>min</th>\n",
       "      <td>-2.192784</td>\n",
       "      <td>-0.603420</td>\n",
       "      <td>-0.517469</td>\n",
       "      <td>-1.030479</td>\n",
       "    </tr>\n",
       "    <tr>\n",
       "      <th>25%</th>\n",
       "      <td>-0.882308</td>\n",
       "      <td>-0.286602</td>\n",
       "      <td>-0.018174</td>\n",
       "      <td>-0.126302</td>\n",
       "    </tr>\n",
       "    <tr>\n",
       "      <th>50%</th>\n",
       "      <td>-0.259616</td>\n",
       "      <td>-0.013383</td>\n",
       "      <td>0.499682</td>\n",
       "      <td>0.295911</td>\n",
       "    </tr>\n",
       "    <tr>\n",
       "      <th>75%</th>\n",
       "      <td>0.883131</td>\n",
       "      <td>0.296224</td>\n",
       "      <td>0.703985</td>\n",
       "      <td>0.529900</td>\n",
       "    </tr>\n",
       "    <tr>\n",
       "      <th>max</th>\n",
       "      <td>1.308745</td>\n",
       "      <td>0.616962</td>\n",
       "      <td>1.647256</td>\n",
       "      <td>0.664616</td>\n",
       "    </tr>\n",
       "  </tbody>\n",
       "</table>\n",
       "</div>"
      ],
      "text/plain": [
       "              A         B         C         D\n",
       "count  8.000000  8.000000  8.000000  8.000000\n",
       "mean  -0.253379  0.013614  0.440299  0.112276\n",
       "std    1.361689  0.423565  0.664735  0.590936\n",
       "min   -2.192784 -0.603420 -0.517469 -1.030479\n",
       "25%   -0.882308 -0.286602 -0.018174 -0.126302\n",
       "50%   -0.259616 -0.013383  0.499682  0.295911\n",
       "75%    0.883131  0.296224  0.703985  0.529900\n",
       "max    1.308745  0.616962  1.647256  0.664616"
      ]
     },
     "execution_count": 30,
     "metadata": {},
     "output_type": "execute_result"
    }
   ],
   "source": [
    "df.describe()"
   ]
  },
  {
   "cell_type": "code",
   "execution_count": 31,
   "id": "cd09972f",
   "metadata": {},
   "outputs": [
    {
     "data": {
      "text/html": [
       "<div>\n",
       "<style scoped>\n",
       "    .dataframe tbody tr th:only-of-type {\n",
       "        vertical-align: middle;\n",
       "    }\n",
       "\n",
       "    .dataframe tbody tr th {\n",
       "        vertical-align: top;\n",
       "    }\n",
       "\n",
       "    .dataframe thead th {\n",
       "        text-align: right;\n",
       "    }\n",
       "</style>\n",
       "<table border=\"1\" class=\"dataframe\">\n",
       "  <thead>\n",
       "    <tr style=\"text-align: right;\">\n",
       "      <th></th>\n",
       "      <th>2023-02-02</th>\n",
       "      <th>2023-02-03</th>\n",
       "      <th>2023-02-04</th>\n",
       "      <th>2023-02-05</th>\n",
       "      <th>2023-02-06</th>\n",
       "      <th>2023-02-07</th>\n",
       "      <th>2023-02-08</th>\n",
       "      <th>2023-02-09</th>\n",
       "    </tr>\n",
       "  </thead>\n",
       "  <tbody>\n",
       "    <tr>\n",
       "      <th>A</th>\n",
       "      <td>0.781687</td>\n",
       "      <td>-2.124750</td>\n",
       "      <td>-0.056833</td>\n",
       "      <td>-2.192784</td>\n",
       "      <td>1.308745</td>\n",
       "      <td>-0.462398</td>\n",
       "      <td>1.187461</td>\n",
       "      <td>-0.468160</td>\n",
       "    </tr>\n",
       "    <tr>\n",
       "      <th>B</th>\n",
       "      <td>-0.144852</td>\n",
       "      <td>0.230910</td>\n",
       "      <td>-0.328209</td>\n",
       "      <td>0.492167</td>\n",
       "      <td>-0.603420</td>\n",
       "      <td>-0.272734</td>\n",
       "      <td>0.118086</td>\n",
       "      <td>0.616962</td>\n",
       "    </tr>\n",
       "    <tr>\n",
       "      <th>C</th>\n",
       "      <td>0.369145</td>\n",
       "      <td>1.647256</td>\n",
       "      <td>-0.104489</td>\n",
       "      <td>0.664405</td>\n",
       "      <td>0.822724</td>\n",
       "      <td>0.010598</td>\n",
       "      <td>-0.517469</td>\n",
       "      <td>0.630218</td>\n",
       "    </tr>\n",
       "    <tr>\n",
       "      <th>D</th>\n",
       "      <td>-0.449051</td>\n",
       "      <td>0.326528</td>\n",
       "      <td>0.664616</td>\n",
       "      <td>-0.018719</td>\n",
       "      <td>-1.030479</td>\n",
       "      <td>0.265294</td>\n",
       "      <td>0.489792</td>\n",
       "      <td>0.650224</td>\n",
       "    </tr>\n",
       "  </tbody>\n",
       "</table>\n",
       "</div>"
      ],
      "text/plain": [
       "   2023-02-02  2023-02-03  2023-02-04  2023-02-05  2023-02-06  2023-02-07  \\\n",
       "A    0.781687   -2.124750   -0.056833   -2.192784    1.308745   -0.462398   \n",
       "B   -0.144852    0.230910   -0.328209    0.492167   -0.603420   -0.272734   \n",
       "C    0.369145    1.647256   -0.104489    0.664405    0.822724    0.010598   \n",
       "D   -0.449051    0.326528    0.664616   -0.018719   -1.030479    0.265294   \n",
       "\n",
       "   2023-02-08  2023-02-09  \n",
       "A    1.187461   -0.468160  \n",
       "B    0.118086    0.616962  \n",
       "C   -0.517469    0.630218  \n",
       "D    0.489792    0.650224  "
      ]
     },
     "execution_count": 31,
     "metadata": {},
     "output_type": "execute_result"
    }
   ],
   "source": [
    "df.T"
   ]
  },
  {
   "cell_type": "code",
   "execution_count": 32,
   "id": "269fb88f",
   "metadata": {},
   "outputs": [
    {
     "data": {
      "text/html": [
       "<div>\n",
       "<style scoped>\n",
       "    .dataframe tbody tr th:only-of-type {\n",
       "        vertical-align: middle;\n",
       "    }\n",
       "\n",
       "    .dataframe tbody tr th {\n",
       "        vertical-align: top;\n",
       "    }\n",
       "\n",
       "    .dataframe thead th {\n",
       "        text-align: right;\n",
       "    }\n",
       "</style>\n",
       "<table border=\"1\" class=\"dataframe\">\n",
       "  <thead>\n",
       "    <tr style=\"text-align: right;\">\n",
       "      <th></th>\n",
       "      <th>A</th>\n",
       "      <th>B</th>\n",
       "      <th>C</th>\n",
       "      <th>D</th>\n",
       "    </tr>\n",
       "  </thead>\n",
       "  <tbody>\n",
       "    <tr>\n",
       "      <th>2023-02-02</th>\n",
       "      <td>0.781687</td>\n",
       "      <td>-0.144852</td>\n",
       "      <td>0.369145</td>\n",
       "      <td>-0.449051</td>\n",
       "    </tr>\n",
       "    <tr>\n",
       "      <th>2023-02-03</th>\n",
       "      <td>-2.124750</td>\n",
       "      <td>0.230910</td>\n",
       "      <td>1.647256</td>\n",
       "      <td>0.326528</td>\n",
       "    </tr>\n",
       "    <tr>\n",
       "      <th>2023-02-04</th>\n",
       "      <td>-0.056833</td>\n",
       "      <td>-0.328209</td>\n",
       "      <td>-0.104489</td>\n",
       "      <td>0.664616</td>\n",
       "    </tr>\n",
       "    <tr>\n",
       "      <th>2023-02-05</th>\n",
       "      <td>-2.192784</td>\n",
       "      <td>0.492167</td>\n",
       "      <td>0.664405</td>\n",
       "      <td>-0.018719</td>\n",
       "    </tr>\n",
       "    <tr>\n",
       "      <th>2023-02-06</th>\n",
       "      <td>1.308745</td>\n",
       "      <td>-0.603420</td>\n",
       "      <td>0.822724</td>\n",
       "      <td>-1.030479</td>\n",
       "    </tr>\n",
       "    <tr>\n",
       "      <th>2023-02-07</th>\n",
       "      <td>-0.462398</td>\n",
       "      <td>-0.272734</td>\n",
       "      <td>0.010598</td>\n",
       "      <td>0.265294</td>\n",
       "    </tr>\n",
       "    <tr>\n",
       "      <th>2023-02-08</th>\n",
       "      <td>1.187461</td>\n",
       "      <td>0.118086</td>\n",
       "      <td>-0.517469</td>\n",
       "      <td>0.489792</td>\n",
       "    </tr>\n",
       "    <tr>\n",
       "      <th>2023-02-09</th>\n",
       "      <td>-0.468160</td>\n",
       "      <td>0.616962</td>\n",
       "      <td>0.630218</td>\n",
       "      <td>0.650224</td>\n",
       "    </tr>\n",
       "  </tbody>\n",
       "</table>\n",
       "</div>"
      ],
      "text/plain": [
       "                   A         B         C         D\n",
       "2023-02-02  0.781687 -0.144852  0.369145 -0.449051\n",
       "2023-02-03 -2.124750  0.230910  1.647256  0.326528\n",
       "2023-02-04 -0.056833 -0.328209 -0.104489  0.664616\n",
       "2023-02-05 -2.192784  0.492167  0.664405 -0.018719\n",
       "2023-02-06  1.308745 -0.603420  0.822724 -1.030479\n",
       "2023-02-07 -0.462398 -0.272734  0.010598  0.265294\n",
       "2023-02-08  1.187461  0.118086 -0.517469  0.489792\n",
       "2023-02-09 -0.468160  0.616962  0.630218  0.650224"
      ]
     },
     "execution_count": 32,
     "metadata": {},
     "output_type": "execute_result"
    }
   ],
   "source": [
    "df.sort_index(axis=1, ascending=True)"
   ]
  },
  {
   "cell_type": "code",
   "execution_count": 33,
   "id": "60f6ca45",
   "metadata": {},
   "outputs": [
    {
     "data": {
      "text/html": [
       "<div>\n",
       "<style scoped>\n",
       "    .dataframe tbody tr th:only-of-type {\n",
       "        vertical-align: middle;\n",
       "    }\n",
       "\n",
       "    .dataframe tbody tr th {\n",
       "        vertical-align: top;\n",
       "    }\n",
       "\n",
       "    .dataframe thead th {\n",
       "        text-align: right;\n",
       "    }\n",
       "</style>\n",
       "<table border=\"1\" class=\"dataframe\">\n",
       "  <thead>\n",
       "    <tr style=\"text-align: right;\">\n",
       "      <th></th>\n",
       "      <th>A</th>\n",
       "      <th>B</th>\n",
       "      <th>C</th>\n",
       "      <th>D</th>\n",
       "    </tr>\n",
       "  </thead>\n",
       "  <tbody>\n",
       "    <tr>\n",
       "      <th>2023-02-06</th>\n",
       "      <td>1.308745</td>\n",
       "      <td>-0.603420</td>\n",
       "      <td>0.822724</td>\n",
       "      <td>-1.030479</td>\n",
       "    </tr>\n",
       "    <tr>\n",
       "      <th>2023-02-04</th>\n",
       "      <td>-0.056833</td>\n",
       "      <td>-0.328209</td>\n",
       "      <td>-0.104489</td>\n",
       "      <td>0.664616</td>\n",
       "    </tr>\n",
       "    <tr>\n",
       "      <th>2023-02-07</th>\n",
       "      <td>-0.462398</td>\n",
       "      <td>-0.272734</td>\n",
       "      <td>0.010598</td>\n",
       "      <td>0.265294</td>\n",
       "    </tr>\n",
       "    <tr>\n",
       "      <th>2023-02-02</th>\n",
       "      <td>0.781687</td>\n",
       "      <td>-0.144852</td>\n",
       "      <td>0.369145</td>\n",
       "      <td>-0.449051</td>\n",
       "    </tr>\n",
       "    <tr>\n",
       "      <th>2023-02-08</th>\n",
       "      <td>1.187461</td>\n",
       "      <td>0.118086</td>\n",
       "      <td>-0.517469</td>\n",
       "      <td>0.489792</td>\n",
       "    </tr>\n",
       "    <tr>\n",
       "      <th>2023-02-03</th>\n",
       "      <td>-2.124750</td>\n",
       "      <td>0.230910</td>\n",
       "      <td>1.647256</td>\n",
       "      <td>0.326528</td>\n",
       "    </tr>\n",
       "    <tr>\n",
       "      <th>2023-02-05</th>\n",
       "      <td>-2.192784</td>\n",
       "      <td>0.492167</td>\n",
       "      <td>0.664405</td>\n",
       "      <td>-0.018719</td>\n",
       "    </tr>\n",
       "    <tr>\n",
       "      <th>2023-02-09</th>\n",
       "      <td>-0.468160</td>\n",
       "      <td>0.616962</td>\n",
       "      <td>0.630218</td>\n",
       "      <td>0.650224</td>\n",
       "    </tr>\n",
       "  </tbody>\n",
       "</table>\n",
       "</div>"
      ],
      "text/plain": [
       "                   A         B         C         D\n",
       "2023-02-06  1.308745 -0.603420  0.822724 -1.030479\n",
       "2023-02-04 -0.056833 -0.328209 -0.104489  0.664616\n",
       "2023-02-07 -0.462398 -0.272734  0.010598  0.265294\n",
       "2023-02-02  0.781687 -0.144852  0.369145 -0.449051\n",
       "2023-02-08  1.187461  0.118086 -0.517469  0.489792\n",
       "2023-02-03 -2.124750  0.230910  1.647256  0.326528\n",
       "2023-02-05 -2.192784  0.492167  0.664405 -0.018719\n",
       "2023-02-09 -0.468160  0.616962  0.630218  0.650224"
      ]
     },
     "execution_count": 33,
     "metadata": {},
     "output_type": "execute_result"
    }
   ],
   "source": [
    "df.sort_values(by='B')"
   ]
  },
  {
   "cell_type": "code",
   "execution_count": 34,
   "id": "4746d3db",
   "metadata": {},
   "outputs": [],
   "source": [
    "#Selection\n"
   ]
  },
  {
   "cell_type": "code",
   "execution_count": 35,
   "id": "4da3f842",
   "metadata": {},
   "outputs": [],
   "source": [
    "#Getting"
   ]
  },
  {
   "cell_type": "code",
   "execution_count": 36,
   "id": "02ebc01e",
   "metadata": {},
   "outputs": [
    {
     "data": {
      "text/plain": [
       "2023-02-02    0.781687\n",
       "2023-02-03   -2.124750\n",
       "2023-02-04   -0.056833\n",
       "2023-02-05   -2.192784\n",
       "2023-02-06    1.308745\n",
       "2023-02-07   -0.462398\n",
       "2023-02-08    1.187461\n",
       "2023-02-09   -0.468160\n",
       "Freq: D, Name: A, dtype: float64"
      ]
     },
     "execution_count": 36,
     "metadata": {},
     "output_type": "execute_result"
    }
   ],
   "source": [
    "df['A']"
   ]
  },
  {
   "cell_type": "code",
   "execution_count": 37,
   "id": "d3eb48f0",
   "metadata": {},
   "outputs": [
    {
     "data": {
      "text/html": [
       "<div>\n",
       "<style scoped>\n",
       "    .dataframe tbody tr th:only-of-type {\n",
       "        vertical-align: middle;\n",
       "    }\n",
       "\n",
       "    .dataframe tbody tr th {\n",
       "        vertical-align: top;\n",
       "    }\n",
       "\n",
       "    .dataframe thead th {\n",
       "        text-align: right;\n",
       "    }\n",
       "</style>\n",
       "<table border=\"1\" class=\"dataframe\">\n",
       "  <thead>\n",
       "    <tr style=\"text-align: right;\">\n",
       "      <th></th>\n",
       "      <th>A</th>\n",
       "      <th>B</th>\n",
       "      <th>C</th>\n",
       "      <th>D</th>\n",
       "    </tr>\n",
       "  </thead>\n",
       "  <tbody>\n",
       "    <tr>\n",
       "      <th>2023-02-02</th>\n",
       "      <td>0.781687</td>\n",
       "      <td>-0.144852</td>\n",
       "      <td>0.369145</td>\n",
       "      <td>-0.449051</td>\n",
       "    </tr>\n",
       "    <tr>\n",
       "      <th>2023-02-03</th>\n",
       "      <td>-2.124750</td>\n",
       "      <td>0.230910</td>\n",
       "      <td>1.647256</td>\n",
       "      <td>0.326528</td>\n",
       "    </tr>\n",
       "    <tr>\n",
       "      <th>2023-02-04</th>\n",
       "      <td>-0.056833</td>\n",
       "      <td>-0.328209</td>\n",
       "      <td>-0.104489</td>\n",
       "      <td>0.664616</td>\n",
       "    </tr>\n",
       "  </tbody>\n",
       "</table>\n",
       "</div>"
      ],
      "text/plain": [
       "                   A         B         C         D\n",
       "2023-02-02  0.781687 -0.144852  0.369145 -0.449051\n",
       "2023-02-03 -2.124750  0.230910  1.647256  0.326528\n",
       "2023-02-04 -0.056833 -0.328209 -0.104489  0.664616"
      ]
     },
     "execution_count": 37,
     "metadata": {},
     "output_type": "execute_result"
    }
   ],
   "source": [
    "df[0:3]"
   ]
  },
  {
   "cell_type": "code",
   "execution_count": 38,
   "id": "e419f96b",
   "metadata": {},
   "outputs": [
    {
     "data": {
      "text/plain": [
       "A    0.781687\n",
       "B   -0.144852\n",
       "C    0.369145\n",
       "D   -0.449051\n",
       "Name: 2023-02-02 00:00:00, dtype: float64"
      ]
     },
     "execution_count": 38,
     "metadata": {},
     "output_type": "execute_result"
    }
   ],
   "source": [
    "df.loc[dates[0]]"
   ]
  },
  {
   "cell_type": "code",
   "execution_count": 39,
   "id": "098d5034",
   "metadata": {},
   "outputs": [
    {
     "data": {
      "text/html": [
       "<div>\n",
       "<style scoped>\n",
       "    .dataframe tbody tr th:only-of-type {\n",
       "        vertical-align: middle;\n",
       "    }\n",
       "\n",
       "    .dataframe tbody tr th {\n",
       "        vertical-align: top;\n",
       "    }\n",
       "\n",
       "    .dataframe thead th {\n",
       "        text-align: right;\n",
       "    }\n",
       "</style>\n",
       "<table border=\"1\" class=\"dataframe\">\n",
       "  <thead>\n",
       "    <tr style=\"text-align: right;\">\n",
       "      <th></th>\n",
       "      <th>A</th>\n",
       "      <th>B</th>\n",
       "    </tr>\n",
       "  </thead>\n",
       "  <tbody>\n",
       "    <tr>\n",
       "      <th>2023-02-02</th>\n",
       "      <td>0.781687</td>\n",
       "      <td>-0.144852</td>\n",
       "    </tr>\n",
       "    <tr>\n",
       "      <th>2023-02-03</th>\n",
       "      <td>-2.124750</td>\n",
       "      <td>0.230910</td>\n",
       "    </tr>\n",
       "    <tr>\n",
       "      <th>2023-02-04</th>\n",
       "      <td>-0.056833</td>\n",
       "      <td>-0.328209</td>\n",
       "    </tr>\n",
       "    <tr>\n",
       "      <th>2023-02-05</th>\n",
       "      <td>-2.192784</td>\n",
       "      <td>0.492167</td>\n",
       "    </tr>\n",
       "    <tr>\n",
       "      <th>2023-02-06</th>\n",
       "      <td>1.308745</td>\n",
       "      <td>-0.603420</td>\n",
       "    </tr>\n",
       "    <tr>\n",
       "      <th>2023-02-07</th>\n",
       "      <td>-0.462398</td>\n",
       "      <td>-0.272734</td>\n",
       "    </tr>\n",
       "    <tr>\n",
       "      <th>2023-02-08</th>\n",
       "      <td>1.187461</td>\n",
       "      <td>0.118086</td>\n",
       "    </tr>\n",
       "    <tr>\n",
       "      <th>2023-02-09</th>\n",
       "      <td>-0.468160</td>\n",
       "      <td>0.616962</td>\n",
       "    </tr>\n",
       "  </tbody>\n",
       "</table>\n",
       "</div>"
      ],
      "text/plain": [
       "                   A         B\n",
       "2023-02-02  0.781687 -0.144852\n",
       "2023-02-03 -2.124750  0.230910\n",
       "2023-02-04 -0.056833 -0.328209\n",
       "2023-02-05 -2.192784  0.492167\n",
       "2023-02-06  1.308745 -0.603420\n",
       "2023-02-07 -0.462398 -0.272734\n",
       "2023-02-08  1.187461  0.118086\n",
       "2023-02-09 -0.468160  0.616962"
      ]
     },
     "execution_count": 39,
     "metadata": {},
     "output_type": "execute_result"
    }
   ],
   "source": [
    "df.loc[:,['A','B']]"
   ]
  },
  {
   "cell_type": "code",
   "execution_count": 40,
   "id": "16b8a486",
   "metadata": {},
   "outputs": [
    {
     "data": {
      "text/html": [
       "<div>\n",
       "<style scoped>\n",
       "    .dataframe tbody tr th:only-of-type {\n",
       "        vertical-align: middle;\n",
       "    }\n",
       "\n",
       "    .dataframe tbody tr th {\n",
       "        vertical-align: top;\n",
       "    }\n",
       "\n",
       "    .dataframe thead th {\n",
       "        text-align: right;\n",
       "    }\n",
       "</style>\n",
       "<table border=\"1\" class=\"dataframe\">\n",
       "  <thead>\n",
       "    <tr style=\"text-align: right;\">\n",
       "      <th></th>\n",
       "      <th>C</th>\n",
       "      <th>B</th>\n",
       "    </tr>\n",
       "  </thead>\n",
       "  <tbody>\n",
       "    <tr>\n",
       "      <th>2023-02-02</th>\n",
       "      <td>0.369145</td>\n",
       "      <td>-0.144852</td>\n",
       "    </tr>\n",
       "    <tr>\n",
       "      <th>2023-02-03</th>\n",
       "      <td>1.647256</td>\n",
       "      <td>0.230910</td>\n",
       "    </tr>\n",
       "    <tr>\n",
       "      <th>2023-02-04</th>\n",
       "      <td>-0.104489</td>\n",
       "      <td>-0.328209</td>\n",
       "    </tr>\n",
       "    <tr>\n",
       "      <th>2023-02-05</th>\n",
       "      <td>0.664405</td>\n",
       "      <td>0.492167</td>\n",
       "    </tr>\n",
       "  </tbody>\n",
       "</table>\n",
       "</div>"
      ],
      "text/plain": [
       "                   C         B\n",
       "2023-02-02  0.369145 -0.144852\n",
       "2023-02-03  1.647256  0.230910\n",
       "2023-02-04 -0.104489 -0.328209\n",
       "2023-02-05  0.664405  0.492167"
      ]
     },
     "execution_count": 40,
     "metadata": {},
     "output_type": "execute_result"
    }
   ],
   "source": [
    "df.loc['20230202':'20230205',['C','B']]"
   ]
  },
  {
   "cell_type": "code",
   "execution_count": 41,
   "id": "dc0d0392",
   "metadata": {},
   "outputs": [
    {
     "data": {
      "text/plain": [
       "A    0.781687\n",
       "B   -0.144852\n",
       "Name: 2023-02-02 00:00:00, dtype: float64"
      ]
     },
     "execution_count": 41,
     "metadata": {},
     "output_type": "execute_result"
    }
   ],
   "source": [
    "df.loc['20230202',['A','B']]"
   ]
  },
  {
   "cell_type": "code",
   "execution_count": 42,
   "id": "b3dc3b0d",
   "metadata": {},
   "outputs": [
    {
     "data": {
      "text/plain": [
       "0.7816871972073125"
      ]
     },
     "execution_count": 42,
     "metadata": {},
     "output_type": "execute_result"
    }
   ],
   "source": [
    "df.loc[dates[0],'A']"
   ]
  },
  {
   "cell_type": "code",
   "execution_count": 43,
   "id": "dae10bd8",
   "metadata": {},
   "outputs": [
    {
     "data": {
      "text/plain": [
       "0.7816871972073125"
      ]
     },
     "execution_count": 43,
     "metadata": {},
     "output_type": "execute_result"
    }
   ],
   "source": [
    "df.at[dates[0],'A']"
   ]
  },
  {
   "cell_type": "code",
   "execution_count": 44,
   "id": "b278ec0f",
   "metadata": {},
   "outputs": [],
   "source": [
    "#Selection by Position\n"
   ]
  },
  {
   "cell_type": "code",
   "execution_count": 66,
   "id": "ea033cef",
   "metadata": {},
   "outputs": [
    {
     "data": {
      "text/plain": [
       "A    0.965780\n",
       "B   -1.395614\n",
       "C   -0.703026\n",
       "D    0.422083\n",
       "Name: 2023-02-05 00:00:00, dtype: float64"
      ]
     },
     "execution_count": 66,
     "metadata": {},
     "output_type": "execute_result"
    }
   ],
   "source": [
    "df.iloc[3]"
   ]
  },
  {
   "cell_type": "code",
   "execution_count": 45,
   "id": "579f1afa",
   "metadata": {},
   "outputs": [
    {
     "data": {
      "text/html": [
       "<div>\n",
       "<style scoped>\n",
       "    .dataframe tbody tr th:only-of-type {\n",
       "        vertical-align: middle;\n",
       "    }\n",
       "\n",
       "    .dataframe tbody tr th {\n",
       "        vertical-align: top;\n",
       "    }\n",
       "\n",
       "    .dataframe thead th {\n",
       "        text-align: right;\n",
       "    }\n",
       "</style>\n",
       "<table border=\"1\" class=\"dataframe\">\n",
       "  <thead>\n",
       "    <tr style=\"text-align: right;\">\n",
       "      <th></th>\n",
       "      <th>A</th>\n",
       "      <th>B</th>\n",
       "    </tr>\n",
       "  </thead>\n",
       "  <tbody>\n",
       "    <tr>\n",
       "      <th>2023-02-05</th>\n",
       "      <td>-2.192784</td>\n",
       "      <td>0.492167</td>\n",
       "    </tr>\n",
       "    <tr>\n",
       "      <th>2023-02-06</th>\n",
       "      <td>1.308745</td>\n",
       "      <td>-0.603420</td>\n",
       "    </tr>\n",
       "    <tr>\n",
       "      <th>2023-02-07</th>\n",
       "      <td>-0.462398</td>\n",
       "      <td>-0.272734</td>\n",
       "    </tr>\n",
       "  </tbody>\n",
       "</table>\n",
       "</div>"
      ],
      "text/plain": [
       "                   A         B\n",
       "2023-02-05 -2.192784  0.492167\n",
       "2023-02-06  1.308745 -0.603420\n",
       "2023-02-07 -0.462398 -0.272734"
      ]
     },
     "execution_count": 45,
     "metadata": {},
     "output_type": "execute_result"
    }
   ],
   "source": [
    "df.iloc[3:6,0:2]"
   ]
  },
  {
   "cell_type": "code",
   "execution_count": 46,
   "id": "d0745698",
   "metadata": {},
   "outputs": [
    {
     "data": {
      "text/html": [
       "<div>\n",
       "<style scoped>\n",
       "    .dataframe tbody tr th:only-of-type {\n",
       "        vertical-align: middle;\n",
       "    }\n",
       "\n",
       "    .dataframe tbody tr th {\n",
       "        vertical-align: top;\n",
       "    }\n",
       "\n",
       "    .dataframe thead th {\n",
       "        text-align: right;\n",
       "    }\n",
       "</style>\n",
       "<table border=\"1\" class=\"dataframe\">\n",
       "  <thead>\n",
       "    <tr style=\"text-align: right;\">\n",
       "      <th></th>\n",
       "      <th>A</th>\n",
       "      <th>B</th>\n",
       "    </tr>\n",
       "  </thead>\n",
       "  <tbody>\n",
       "    <tr>\n",
       "      <th>2023-02-03</th>\n",
       "      <td>-2.124750</td>\n",
       "      <td>0.230910</td>\n",
       "    </tr>\n",
       "    <tr>\n",
       "      <th>2023-02-04</th>\n",
       "      <td>-0.056833</td>\n",
       "      <td>-0.328209</td>\n",
       "    </tr>\n",
       "    <tr>\n",
       "      <th>2023-02-06</th>\n",
       "      <td>1.308745</td>\n",
       "      <td>-0.603420</td>\n",
       "    </tr>\n",
       "  </tbody>\n",
       "</table>\n",
       "</div>"
      ],
      "text/plain": [
       "                   A         B\n",
       "2023-02-03 -2.124750  0.230910\n",
       "2023-02-04 -0.056833 -0.328209\n",
       "2023-02-06  1.308745 -0.603420"
      ]
     },
     "execution_count": 46,
     "metadata": {},
     "output_type": "execute_result"
    }
   ],
   "source": [
    "df.iloc[[1,2,4],[0,1]]"
   ]
  },
  {
   "cell_type": "code",
   "execution_count": 47,
   "id": "f92a5a2b",
   "metadata": {},
   "outputs": [
    {
     "data": {
      "text/html": [
       "<div>\n",
       "<style scoped>\n",
       "    .dataframe tbody tr th:only-of-type {\n",
       "        vertical-align: middle;\n",
       "    }\n",
       "\n",
       "    .dataframe tbody tr th {\n",
       "        vertical-align: top;\n",
       "    }\n",
       "\n",
       "    .dataframe thead th {\n",
       "        text-align: right;\n",
       "    }\n",
       "</style>\n",
       "<table border=\"1\" class=\"dataframe\">\n",
       "  <thead>\n",
       "    <tr style=\"text-align: right;\">\n",
       "      <th></th>\n",
       "      <th>A</th>\n",
       "      <th>B</th>\n",
       "      <th>C</th>\n",
       "      <th>D</th>\n",
       "    </tr>\n",
       "  </thead>\n",
       "  <tbody>\n",
       "    <tr>\n",
       "      <th>2023-02-03</th>\n",
       "      <td>-2.124750</td>\n",
       "      <td>0.230910</td>\n",
       "      <td>1.647256</td>\n",
       "      <td>0.326528</td>\n",
       "    </tr>\n",
       "    <tr>\n",
       "      <th>2023-02-04</th>\n",
       "      <td>-0.056833</td>\n",
       "      <td>-0.328209</td>\n",
       "      <td>-0.104489</td>\n",
       "      <td>0.664616</td>\n",
       "    </tr>\n",
       "    <tr>\n",
       "      <th>2023-02-05</th>\n",
       "      <td>-2.192784</td>\n",
       "      <td>0.492167</td>\n",
       "      <td>0.664405</td>\n",
       "      <td>-0.018719</td>\n",
       "    </tr>\n",
       "  </tbody>\n",
       "</table>\n",
       "</div>"
      ],
      "text/plain": [
       "                   A         B         C         D\n",
       "2023-02-03 -2.124750  0.230910  1.647256  0.326528\n",
       "2023-02-04 -0.056833 -0.328209 -0.104489  0.664616\n",
       "2023-02-05 -2.192784  0.492167  0.664405 -0.018719"
      ]
     },
     "execution_count": 47,
     "metadata": {},
     "output_type": "execute_result"
    }
   ],
   "source": [
    "df.iloc[1:4,:]"
   ]
  },
  {
   "cell_type": "code",
   "execution_count": 48,
   "id": "811d7fee",
   "metadata": {},
   "outputs": [
    {
     "data": {
      "text/html": [
       "<div>\n",
       "<style scoped>\n",
       "    .dataframe tbody tr th:only-of-type {\n",
       "        vertical-align: middle;\n",
       "    }\n",
       "\n",
       "    .dataframe tbody tr th {\n",
       "        vertical-align: top;\n",
       "    }\n",
       "\n",
       "    .dataframe thead th {\n",
       "        text-align: right;\n",
       "    }\n",
       "</style>\n",
       "<table border=\"1\" class=\"dataframe\">\n",
       "  <thead>\n",
       "    <tr style=\"text-align: right;\">\n",
       "      <th></th>\n",
       "      <th>B</th>\n",
       "      <th>C</th>\n",
       "      <th>D</th>\n",
       "    </tr>\n",
       "  </thead>\n",
       "  <tbody>\n",
       "    <tr>\n",
       "      <th>2023-02-02</th>\n",
       "      <td>-0.144852</td>\n",
       "      <td>0.369145</td>\n",
       "      <td>-0.449051</td>\n",
       "    </tr>\n",
       "    <tr>\n",
       "      <th>2023-02-03</th>\n",
       "      <td>0.230910</td>\n",
       "      <td>1.647256</td>\n",
       "      <td>0.326528</td>\n",
       "    </tr>\n",
       "    <tr>\n",
       "      <th>2023-02-04</th>\n",
       "      <td>-0.328209</td>\n",
       "      <td>-0.104489</td>\n",
       "      <td>0.664616</td>\n",
       "    </tr>\n",
       "    <tr>\n",
       "      <th>2023-02-05</th>\n",
       "      <td>0.492167</td>\n",
       "      <td>0.664405</td>\n",
       "      <td>-0.018719</td>\n",
       "    </tr>\n",
       "    <tr>\n",
       "      <th>2023-02-06</th>\n",
       "      <td>-0.603420</td>\n",
       "      <td>0.822724</td>\n",
       "      <td>-1.030479</td>\n",
       "    </tr>\n",
       "    <tr>\n",
       "      <th>2023-02-07</th>\n",
       "      <td>-0.272734</td>\n",
       "      <td>0.010598</td>\n",
       "      <td>0.265294</td>\n",
       "    </tr>\n",
       "    <tr>\n",
       "      <th>2023-02-08</th>\n",
       "      <td>0.118086</td>\n",
       "      <td>-0.517469</td>\n",
       "      <td>0.489792</td>\n",
       "    </tr>\n",
       "    <tr>\n",
       "      <th>2023-02-09</th>\n",
       "      <td>0.616962</td>\n",
       "      <td>0.630218</td>\n",
       "      <td>0.650224</td>\n",
       "    </tr>\n",
       "  </tbody>\n",
       "</table>\n",
       "</div>"
      ],
      "text/plain": [
       "                   B         C         D\n",
       "2023-02-02 -0.144852  0.369145 -0.449051\n",
       "2023-02-03  0.230910  1.647256  0.326528\n",
       "2023-02-04 -0.328209 -0.104489  0.664616\n",
       "2023-02-05  0.492167  0.664405 -0.018719\n",
       "2023-02-06 -0.603420  0.822724 -1.030479\n",
       "2023-02-07 -0.272734  0.010598  0.265294\n",
       "2023-02-08  0.118086 -0.517469  0.489792\n",
       "2023-02-09  0.616962  0.630218  0.650224"
      ]
     },
     "execution_count": 48,
     "metadata": {},
     "output_type": "execute_result"
    }
   ],
   "source": [
    "df.iloc[:,1:5]"
   ]
  },
  {
   "cell_type": "code",
   "execution_count": 49,
   "id": "56eb406c",
   "metadata": {},
   "outputs": [
    {
     "data": {
      "text/plain": [
       "0.23090987705577276"
      ]
     },
     "execution_count": 49,
     "metadata": {},
     "output_type": "execute_result"
    }
   ],
   "source": [
    "df.iloc[1,1]"
   ]
  },
  {
   "cell_type": "code",
   "execution_count": 50,
   "id": "c66da4a3",
   "metadata": {},
   "outputs": [
    {
     "data": {
      "text/plain": [
       "0.23090987705577276"
      ]
     },
     "execution_count": 50,
     "metadata": {},
     "output_type": "execute_result"
    }
   ],
   "source": [
    "df.iat[1,1]"
   ]
  },
  {
   "cell_type": "code",
   "execution_count": 51,
   "id": "7e41aa6f",
   "metadata": {},
   "outputs": [
    {
     "data": {
      "text/plain": [
       "0.7816871972073125"
      ]
     },
     "execution_count": 51,
     "metadata": {},
     "output_type": "execute_result"
    }
   ],
   "source": [
    "df.iloc[0,0]"
   ]
  },
  {
   "cell_type": "code",
   "execution_count": 52,
   "id": "fcf4767c",
   "metadata": {},
   "outputs": [
    {
     "data": {
      "text/html": [
       "<div>\n",
       "<style scoped>\n",
       "    .dataframe tbody tr th:only-of-type {\n",
       "        vertical-align: middle;\n",
       "    }\n",
       "\n",
       "    .dataframe tbody tr th {\n",
       "        vertical-align: top;\n",
       "    }\n",
       "\n",
       "    .dataframe thead th {\n",
       "        text-align: right;\n",
       "    }\n",
       "</style>\n",
       "<table border=\"1\" class=\"dataframe\">\n",
       "  <thead>\n",
       "    <tr style=\"text-align: right;\">\n",
       "      <th></th>\n",
       "      <th>A</th>\n",
       "      <th>B</th>\n",
       "      <th>C</th>\n",
       "      <th>D</th>\n",
       "    </tr>\n",
       "  </thead>\n",
       "  <tbody>\n",
       "    <tr>\n",
       "      <th>2023-02-02</th>\n",
       "      <td>0.781687</td>\n",
       "      <td>NaN</td>\n",
       "      <td>0.369145</td>\n",
       "      <td>NaN</td>\n",
       "    </tr>\n",
       "    <tr>\n",
       "      <th>2023-02-03</th>\n",
       "      <td>NaN</td>\n",
       "      <td>0.230910</td>\n",
       "      <td>1.647256</td>\n",
       "      <td>0.326528</td>\n",
       "    </tr>\n",
       "    <tr>\n",
       "      <th>2023-02-04</th>\n",
       "      <td>NaN</td>\n",
       "      <td>NaN</td>\n",
       "      <td>NaN</td>\n",
       "      <td>0.664616</td>\n",
       "    </tr>\n",
       "    <tr>\n",
       "      <th>2023-02-05</th>\n",
       "      <td>NaN</td>\n",
       "      <td>0.492167</td>\n",
       "      <td>0.664405</td>\n",
       "      <td>NaN</td>\n",
       "    </tr>\n",
       "    <tr>\n",
       "      <th>2023-02-06</th>\n",
       "      <td>1.308745</td>\n",
       "      <td>NaN</td>\n",
       "      <td>0.822724</td>\n",
       "      <td>NaN</td>\n",
       "    </tr>\n",
       "    <tr>\n",
       "      <th>2023-02-07</th>\n",
       "      <td>NaN</td>\n",
       "      <td>NaN</td>\n",
       "      <td>0.010598</td>\n",
       "      <td>0.265294</td>\n",
       "    </tr>\n",
       "    <tr>\n",
       "      <th>2023-02-08</th>\n",
       "      <td>1.187461</td>\n",
       "      <td>0.118086</td>\n",
       "      <td>NaN</td>\n",
       "      <td>0.489792</td>\n",
       "    </tr>\n",
       "    <tr>\n",
       "      <th>2023-02-09</th>\n",
       "      <td>NaN</td>\n",
       "      <td>0.616962</td>\n",
       "      <td>0.630218</td>\n",
       "      <td>0.650224</td>\n",
       "    </tr>\n",
       "  </tbody>\n",
       "</table>\n",
       "</div>"
      ],
      "text/plain": [
       "                   A         B         C         D\n",
       "2023-02-02  0.781687       NaN  0.369145       NaN\n",
       "2023-02-03       NaN  0.230910  1.647256  0.326528\n",
       "2023-02-04       NaN       NaN       NaN  0.664616\n",
       "2023-02-05       NaN  0.492167  0.664405       NaN\n",
       "2023-02-06  1.308745       NaN  0.822724       NaN\n",
       "2023-02-07       NaN       NaN  0.010598  0.265294\n",
       "2023-02-08  1.187461  0.118086       NaN  0.489792\n",
       "2023-02-09       NaN  0.616962  0.630218  0.650224"
      ]
     },
     "execution_count": 52,
     "metadata": {},
     "output_type": "execute_result"
    }
   ],
   "source": [
    "df[df>0]"
   ]
  },
  {
   "cell_type": "code",
   "execution_count": 53,
   "id": "414dba30",
   "metadata": {},
   "outputs": [
    {
     "data": {
      "text/html": [
       "<div>\n",
       "<style scoped>\n",
       "    .dataframe tbody tr th:only-of-type {\n",
       "        vertical-align: middle;\n",
       "    }\n",
       "\n",
       "    .dataframe tbody tr th {\n",
       "        vertical-align: top;\n",
       "    }\n",
       "\n",
       "    .dataframe thead th {\n",
       "        text-align: right;\n",
       "    }\n",
       "</style>\n",
       "<table border=\"1\" class=\"dataframe\">\n",
       "  <thead>\n",
       "    <tr style=\"text-align: right;\">\n",
       "      <th></th>\n",
       "      <th>A</th>\n",
       "      <th>B</th>\n",
       "      <th>C</th>\n",
       "      <th>D</th>\n",
       "    </tr>\n",
       "  </thead>\n",
       "  <tbody>\n",
       "    <tr>\n",
       "      <th>2023-02-02</th>\n",
       "      <td>0.781687</td>\n",
       "      <td>-0.144852</td>\n",
       "      <td>0.369145</td>\n",
       "      <td>-0.449051</td>\n",
       "    </tr>\n",
       "    <tr>\n",
       "      <th>2023-02-06</th>\n",
       "      <td>1.308745</td>\n",
       "      <td>-0.603420</td>\n",
       "      <td>0.822724</td>\n",
       "      <td>-1.030479</td>\n",
       "    </tr>\n",
       "    <tr>\n",
       "      <th>2023-02-08</th>\n",
       "      <td>1.187461</td>\n",
       "      <td>0.118086</td>\n",
       "      <td>-0.517469</td>\n",
       "      <td>0.489792</td>\n",
       "    </tr>\n",
       "  </tbody>\n",
       "</table>\n",
       "</div>"
      ],
      "text/plain": [
       "                   A         B         C         D\n",
       "2023-02-02  0.781687 -0.144852  0.369145 -0.449051\n",
       "2023-02-06  1.308745 -0.603420  0.822724 -1.030479\n",
       "2023-02-08  1.187461  0.118086 -0.517469  0.489792"
      ]
     },
     "execution_count": 53,
     "metadata": {},
     "output_type": "execute_result"
    }
   ],
   "source": [
    "df[df.A>0]"
   ]
  },
  {
   "cell_type": "code",
   "execution_count": 54,
   "id": "5bfd0d82",
   "metadata": {},
   "outputs": [],
   "source": [
    "df2=df.copy()"
   ]
  },
  {
   "cell_type": "code",
   "execution_count": 55,
   "id": "8392cc8f",
   "metadata": {},
   "outputs": [
    {
     "data": {
      "text/html": [
       "<div>\n",
       "<style scoped>\n",
       "    .dataframe tbody tr th:only-of-type {\n",
       "        vertical-align: middle;\n",
       "    }\n",
       "\n",
       "    .dataframe tbody tr th {\n",
       "        vertical-align: top;\n",
       "    }\n",
       "\n",
       "    .dataframe thead th {\n",
       "        text-align: right;\n",
       "    }\n",
       "</style>\n",
       "<table border=\"1\" class=\"dataframe\">\n",
       "  <thead>\n",
       "    <tr style=\"text-align: right;\">\n",
       "      <th></th>\n",
       "      <th>A</th>\n",
       "      <th>B</th>\n",
       "      <th>C</th>\n",
       "      <th>D</th>\n",
       "    </tr>\n",
       "  </thead>\n",
       "  <tbody>\n",
       "    <tr>\n",
       "      <th>2023-02-02</th>\n",
       "      <td>0.781687</td>\n",
       "      <td>-0.144852</td>\n",
       "      <td>0.369145</td>\n",
       "      <td>-0.449051</td>\n",
       "    </tr>\n",
       "    <tr>\n",
       "      <th>2023-02-03</th>\n",
       "      <td>-2.124750</td>\n",
       "      <td>0.230910</td>\n",
       "      <td>1.647256</td>\n",
       "      <td>0.326528</td>\n",
       "    </tr>\n",
       "    <tr>\n",
       "      <th>2023-02-04</th>\n",
       "      <td>-0.056833</td>\n",
       "      <td>-0.328209</td>\n",
       "      <td>-0.104489</td>\n",
       "      <td>0.664616</td>\n",
       "    </tr>\n",
       "    <tr>\n",
       "      <th>2023-02-05</th>\n",
       "      <td>-2.192784</td>\n",
       "      <td>0.492167</td>\n",
       "      <td>0.664405</td>\n",
       "      <td>-0.018719</td>\n",
       "    </tr>\n",
       "    <tr>\n",
       "      <th>2023-02-06</th>\n",
       "      <td>1.308745</td>\n",
       "      <td>-0.603420</td>\n",
       "      <td>0.822724</td>\n",
       "      <td>-1.030479</td>\n",
       "    </tr>\n",
       "    <tr>\n",
       "      <th>2023-02-07</th>\n",
       "      <td>-0.462398</td>\n",
       "      <td>-0.272734</td>\n",
       "      <td>0.010598</td>\n",
       "      <td>0.265294</td>\n",
       "    </tr>\n",
       "    <tr>\n",
       "      <th>2023-02-08</th>\n",
       "      <td>1.187461</td>\n",
       "      <td>0.118086</td>\n",
       "      <td>-0.517469</td>\n",
       "      <td>0.489792</td>\n",
       "    </tr>\n",
       "    <tr>\n",
       "      <th>2023-02-09</th>\n",
       "      <td>-0.468160</td>\n",
       "      <td>0.616962</td>\n",
       "      <td>0.630218</td>\n",
       "      <td>0.650224</td>\n",
       "    </tr>\n",
       "  </tbody>\n",
       "</table>\n",
       "</div>"
      ],
      "text/plain": [
       "                   A         B         C         D\n",
       "2023-02-02  0.781687 -0.144852  0.369145 -0.449051\n",
       "2023-02-03 -2.124750  0.230910  1.647256  0.326528\n",
       "2023-02-04 -0.056833 -0.328209 -0.104489  0.664616\n",
       "2023-02-05 -2.192784  0.492167  0.664405 -0.018719\n",
       "2023-02-06  1.308745 -0.603420  0.822724 -1.030479\n",
       "2023-02-07 -0.462398 -0.272734  0.010598  0.265294\n",
       "2023-02-08  1.187461  0.118086 -0.517469  0.489792\n",
       "2023-02-09 -0.468160  0.616962  0.630218  0.650224"
      ]
     },
     "execution_count": 55,
     "metadata": {},
     "output_type": "execute_result"
    }
   ],
   "source": [
    "df2"
   ]
  },
  {
   "cell_type": "markdown",
   "id": "9523833c",
   "metadata": {},
   "source": [
    "df2"
   ]
  },
  {
   "cell_type": "code",
   "execution_count": 56,
   "id": "18e1561a",
   "metadata": {},
   "outputs": [
    {
     "data": {
      "text/html": [
       "<div>\n",
       "<style scoped>\n",
       "    .dataframe tbody tr th:only-of-type {\n",
       "        vertical-align: middle;\n",
       "    }\n",
       "\n",
       "    .dataframe tbody tr th {\n",
       "        vertical-align: top;\n",
       "    }\n",
       "\n",
       "    .dataframe thead th {\n",
       "        text-align: right;\n",
       "    }\n",
       "</style>\n",
       "<table border=\"1\" class=\"dataframe\">\n",
       "  <thead>\n",
       "    <tr style=\"text-align: right;\">\n",
       "      <th></th>\n",
       "      <th>A</th>\n",
       "      <th>B</th>\n",
       "      <th>C</th>\n",
       "      <th>D</th>\n",
       "    </tr>\n",
       "  </thead>\n",
       "  <tbody>\n",
       "    <tr>\n",
       "      <th>2023-02-02</th>\n",
       "      <td>0.781687</td>\n",
       "      <td>-0.144852</td>\n",
       "      <td>0.369145</td>\n",
       "      <td>-0.449051</td>\n",
       "    </tr>\n",
       "    <tr>\n",
       "      <th>2023-02-03</th>\n",
       "      <td>-2.124750</td>\n",
       "      <td>0.230910</td>\n",
       "      <td>1.647256</td>\n",
       "      <td>0.326528</td>\n",
       "    </tr>\n",
       "    <tr>\n",
       "      <th>2023-02-04</th>\n",
       "      <td>-0.056833</td>\n",
       "      <td>-0.328209</td>\n",
       "      <td>-0.104489</td>\n",
       "      <td>0.664616</td>\n",
       "    </tr>\n",
       "    <tr>\n",
       "      <th>2023-02-05</th>\n",
       "      <td>-2.192784</td>\n",
       "      <td>0.492167</td>\n",
       "      <td>0.664405</td>\n",
       "      <td>-0.018719</td>\n",
       "    </tr>\n",
       "    <tr>\n",
       "      <th>2023-02-06</th>\n",
       "      <td>1.308745</td>\n",
       "      <td>-0.603420</td>\n",
       "      <td>0.822724</td>\n",
       "      <td>-1.030479</td>\n",
       "    </tr>\n",
       "    <tr>\n",
       "      <th>2023-02-07</th>\n",
       "      <td>-0.462398</td>\n",
       "      <td>-0.272734</td>\n",
       "      <td>0.010598</td>\n",
       "      <td>0.265294</td>\n",
       "    </tr>\n",
       "    <tr>\n",
       "      <th>2023-02-08</th>\n",
       "      <td>1.187461</td>\n",
       "      <td>0.118086</td>\n",
       "      <td>-0.517469</td>\n",
       "      <td>0.489792</td>\n",
       "    </tr>\n",
       "    <tr>\n",
       "      <th>2023-02-09</th>\n",
       "      <td>-0.468160</td>\n",
       "      <td>0.616962</td>\n",
       "      <td>0.630218</td>\n",
       "      <td>0.650224</td>\n",
       "    </tr>\n",
       "  </tbody>\n",
       "</table>\n",
       "</div>"
      ],
      "text/plain": [
       "                   A         B         C         D\n",
       "2023-02-02  0.781687 -0.144852  0.369145 -0.449051\n",
       "2023-02-03 -2.124750  0.230910  1.647256  0.326528\n",
       "2023-02-04 -0.056833 -0.328209 -0.104489  0.664616\n",
       "2023-02-05 -2.192784  0.492167  0.664405 -0.018719\n",
       "2023-02-06  1.308745 -0.603420  0.822724 -1.030479\n",
       "2023-02-07 -0.462398 -0.272734  0.010598  0.265294\n",
       "2023-02-08  1.187461  0.118086 -0.517469  0.489792\n",
       "2023-02-09 -0.468160  0.616962  0.630218  0.650224"
      ]
     },
     "execution_count": 56,
     "metadata": {},
     "output_type": "execute_result"
    }
   ],
   "source": [
    "df2"
   ]
  },
  {
   "cell_type": "code",
   "execution_count": 57,
   "id": "92ab5a7f",
   "metadata": {},
   "outputs": [],
   "source": [
    "sl=pd.Series([1,2,3,4,5,6],index=pd.date_range('20130102',periods=6))"
   ]
  },
  {
   "cell_type": "code",
   "execution_count": 58,
   "id": "0bfaa751",
   "metadata": {},
   "outputs": [
    {
     "data": {
      "text/plain": [
       "2013-01-02    1\n",
       "2013-01-03    2\n",
       "2013-01-04    3\n",
       "2013-01-05    4\n",
       "2013-01-06    5\n",
       "2013-01-07    6\n",
       "Freq: D, dtype: int64"
      ]
     },
     "execution_count": 58,
     "metadata": {},
     "output_type": "execute_result"
    }
   ],
   "source": [
    "sl"
   ]
  },
  {
   "cell_type": "code",
   "execution_count": 59,
   "id": "57ccb0b0",
   "metadata": {},
   "outputs": [],
   "source": [
    "df['F']=sl"
   ]
  },
  {
   "cell_type": "code",
   "execution_count": 60,
   "id": "9bcc38be",
   "metadata": {},
   "outputs": [
    {
     "data": {
      "text/plain": [
       "2013-01-02    1\n",
       "2013-01-03    2\n",
       "2013-01-04    3\n",
       "2013-01-05    4\n",
       "2013-01-06    5\n",
       "2013-01-07    6\n",
       "Freq: D, dtype: int64"
      ]
     },
     "execution_count": 60,
     "metadata": {},
     "output_type": "execute_result"
    }
   ],
   "source": [
    "sl"
   ]
  },
  {
   "cell_type": "code",
   "execution_count": 65,
   "id": "52d71589",
   "metadata": {},
   "outputs": [],
   "source": [
    "df.loc[dates[4],'A']=0"
   ]
  },
  {
   "cell_type": "code",
   "execution_count": null,
   "id": "e6bef5b8",
   "metadata": {},
   "outputs": [],
   "source": [
    "#df.at[dates[4],'A']=0"
   ]
  },
  {
   "cell_type": "code",
   "execution_count": 66,
   "id": "d385c3ad",
   "metadata": {},
   "outputs": [
    {
     "data": {
      "text/html": [
       "<div>\n",
       "<style scoped>\n",
       "    .dataframe tbody tr th:only-of-type {\n",
       "        vertical-align: middle;\n",
       "    }\n",
       "\n",
       "    .dataframe tbody tr th {\n",
       "        vertical-align: top;\n",
       "    }\n",
       "\n",
       "    .dataframe thead th {\n",
       "        text-align: right;\n",
       "    }\n",
       "</style>\n",
       "<table border=\"1\" class=\"dataframe\">\n",
       "  <thead>\n",
       "    <tr style=\"text-align: right;\">\n",
       "      <th></th>\n",
       "      <th>A</th>\n",
       "      <th>B</th>\n",
       "      <th>C</th>\n",
       "      <th>D</th>\n",
       "      <th>F</th>\n",
       "    </tr>\n",
       "  </thead>\n",
       "  <tbody>\n",
       "    <tr>\n",
       "      <th>2023-02-02</th>\n",
       "      <td>0.000000</td>\n",
       "      <td>-0.144852</td>\n",
       "      <td>0.369145</td>\n",
       "      <td>-0.449051</td>\n",
       "      <td>NaN</td>\n",
       "    </tr>\n",
       "    <tr>\n",
       "      <th>2023-02-03</th>\n",
       "      <td>0.000000</td>\n",
       "      <td>0.230910</td>\n",
       "      <td>1.647256</td>\n",
       "      <td>0.326528</td>\n",
       "      <td>NaN</td>\n",
       "    </tr>\n",
       "    <tr>\n",
       "      <th>2023-02-04</th>\n",
       "      <td>-0.056833</td>\n",
       "      <td>-0.328209</td>\n",
       "      <td>-0.104489</td>\n",
       "      <td>0.664616</td>\n",
       "      <td>NaN</td>\n",
       "    </tr>\n",
       "    <tr>\n",
       "      <th>2023-02-05</th>\n",
       "      <td>-2.192784</td>\n",
       "      <td>0.492167</td>\n",
       "      <td>0.664405</td>\n",
       "      <td>-0.018719</td>\n",
       "      <td>NaN</td>\n",
       "    </tr>\n",
       "    <tr>\n",
       "      <th>2023-02-06</th>\n",
       "      <td>0.000000</td>\n",
       "      <td>-0.603420</td>\n",
       "      <td>0.822724</td>\n",
       "      <td>-1.030479</td>\n",
       "      <td>NaN</td>\n",
       "    </tr>\n",
       "    <tr>\n",
       "      <th>2023-02-07</th>\n",
       "      <td>-0.462398</td>\n",
       "      <td>-0.272734</td>\n",
       "      <td>0.010598</td>\n",
       "      <td>0.265294</td>\n",
       "      <td>NaN</td>\n",
       "    </tr>\n",
       "    <tr>\n",
       "      <th>2023-02-08</th>\n",
       "      <td>1.187461</td>\n",
       "      <td>0.118086</td>\n",
       "      <td>-0.517469</td>\n",
       "      <td>0.489792</td>\n",
       "      <td>NaN</td>\n",
       "    </tr>\n",
       "    <tr>\n",
       "      <th>2023-02-09</th>\n",
       "      <td>-0.468160</td>\n",
       "      <td>0.616962</td>\n",
       "      <td>0.630218</td>\n",
       "      <td>0.650224</td>\n",
       "      <td>NaN</td>\n",
       "    </tr>\n",
       "  </tbody>\n",
       "</table>\n",
       "</div>"
      ],
      "text/plain": [
       "                   A         B         C         D   F\n",
       "2023-02-02  0.000000 -0.144852  0.369145 -0.449051 NaN\n",
       "2023-02-03  0.000000  0.230910  1.647256  0.326528 NaN\n",
       "2023-02-04 -0.056833 -0.328209 -0.104489  0.664616 NaN\n",
       "2023-02-05 -2.192784  0.492167  0.664405 -0.018719 NaN\n",
       "2023-02-06  0.000000 -0.603420  0.822724 -1.030479 NaN\n",
       "2023-02-07 -0.462398 -0.272734  0.010598  0.265294 NaN\n",
       "2023-02-08  1.187461  0.118086 -0.517469  0.489792 NaN\n",
       "2023-02-09 -0.468160  0.616962  0.630218  0.650224 NaN"
      ]
     },
     "execution_count": 66,
     "metadata": {},
     "output_type": "execute_result"
    }
   ],
   "source": [
    "df"
   ]
  },
  {
   "cell_type": "code",
   "execution_count": 69,
   "id": "7623841a",
   "metadata": {},
   "outputs": [],
   "source": [
    "df.iat[0,1]=0"
   ]
  },
  {
   "cell_type": "code",
   "execution_count": 70,
   "id": "c16e47e9",
   "metadata": {},
   "outputs": [
    {
     "data": {
      "text/html": [
       "<div>\n",
       "<style scoped>\n",
       "    .dataframe tbody tr th:only-of-type {\n",
       "        vertical-align: middle;\n",
       "    }\n",
       "\n",
       "    .dataframe tbody tr th {\n",
       "        vertical-align: top;\n",
       "    }\n",
       "\n",
       "    .dataframe thead th {\n",
       "        text-align: right;\n",
       "    }\n",
       "</style>\n",
       "<table border=\"1\" class=\"dataframe\">\n",
       "  <thead>\n",
       "    <tr style=\"text-align: right;\">\n",
       "      <th></th>\n",
       "      <th>A</th>\n",
       "      <th>B</th>\n",
       "      <th>C</th>\n",
       "      <th>D</th>\n",
       "      <th>F</th>\n",
       "    </tr>\n",
       "  </thead>\n",
       "  <tbody>\n",
       "    <tr>\n",
       "      <th>2023-02-02</th>\n",
       "      <td>0.000000</td>\n",
       "      <td>0.000000</td>\n",
       "      <td>0.369145</td>\n",
       "      <td>-0.449051</td>\n",
       "      <td>NaN</td>\n",
       "    </tr>\n",
       "    <tr>\n",
       "      <th>2023-02-03</th>\n",
       "      <td>0.000000</td>\n",
       "      <td>0.230910</td>\n",
       "      <td>1.647256</td>\n",
       "      <td>0.326528</td>\n",
       "      <td>NaN</td>\n",
       "    </tr>\n",
       "    <tr>\n",
       "      <th>2023-02-04</th>\n",
       "      <td>-0.056833</td>\n",
       "      <td>-0.328209</td>\n",
       "      <td>-0.104489</td>\n",
       "      <td>0.664616</td>\n",
       "      <td>NaN</td>\n",
       "    </tr>\n",
       "    <tr>\n",
       "      <th>2023-02-05</th>\n",
       "      <td>-2.192784</td>\n",
       "      <td>0.492167</td>\n",
       "      <td>0.664405</td>\n",
       "      <td>-0.018719</td>\n",
       "      <td>NaN</td>\n",
       "    </tr>\n",
       "    <tr>\n",
       "      <th>2023-02-06</th>\n",
       "      <td>0.000000</td>\n",
       "      <td>-0.603420</td>\n",
       "      <td>0.822724</td>\n",
       "      <td>-1.030479</td>\n",
       "      <td>NaN</td>\n",
       "    </tr>\n",
       "    <tr>\n",
       "      <th>2023-02-07</th>\n",
       "      <td>-0.462398</td>\n",
       "      <td>-0.272734</td>\n",
       "      <td>0.010598</td>\n",
       "      <td>0.265294</td>\n",
       "      <td>NaN</td>\n",
       "    </tr>\n",
       "    <tr>\n",
       "      <th>2023-02-08</th>\n",
       "      <td>1.187461</td>\n",
       "      <td>0.118086</td>\n",
       "      <td>-0.517469</td>\n",
       "      <td>0.489792</td>\n",
       "      <td>NaN</td>\n",
       "    </tr>\n",
       "    <tr>\n",
       "      <th>2023-02-09</th>\n",
       "      <td>-0.468160</td>\n",
       "      <td>0.616962</td>\n",
       "      <td>0.630218</td>\n",
       "      <td>0.650224</td>\n",
       "      <td>NaN</td>\n",
       "    </tr>\n",
       "  </tbody>\n",
       "</table>\n",
       "</div>"
      ],
      "text/plain": [
       "                   A         B         C         D   F\n",
       "2023-02-02  0.000000  0.000000  0.369145 -0.449051 NaN\n",
       "2023-02-03  0.000000  0.230910  1.647256  0.326528 NaN\n",
       "2023-02-04 -0.056833 -0.328209 -0.104489  0.664616 NaN\n",
       "2023-02-05 -2.192784  0.492167  0.664405 -0.018719 NaN\n",
       "2023-02-06  0.000000 -0.603420  0.822724 -1.030479 NaN\n",
       "2023-02-07 -0.462398 -0.272734  0.010598  0.265294 NaN\n",
       "2023-02-08  1.187461  0.118086 -0.517469  0.489792 NaN\n",
       "2023-02-09 -0.468160  0.616962  0.630218  0.650224 NaN"
      ]
     },
     "execution_count": 70,
     "metadata": {},
     "output_type": "execute_result"
    }
   ],
   "source": [
    "df"
   ]
  },
  {
   "cell_type": "code",
   "execution_count": 71,
   "id": "31747884",
   "metadata": {},
   "outputs": [],
   "source": [
    "df.iat[0,3]=0"
   ]
  },
  {
   "cell_type": "code",
   "execution_count": 72,
   "id": "4c65fe3a",
   "metadata": {},
   "outputs": [
    {
     "data": {
      "text/html": [
       "<div>\n",
       "<style scoped>\n",
       "    .dataframe tbody tr th:only-of-type {\n",
       "        vertical-align: middle;\n",
       "    }\n",
       "\n",
       "    .dataframe tbody tr th {\n",
       "        vertical-align: top;\n",
       "    }\n",
       "\n",
       "    .dataframe thead th {\n",
       "        text-align: right;\n",
       "    }\n",
       "</style>\n",
       "<table border=\"1\" class=\"dataframe\">\n",
       "  <thead>\n",
       "    <tr style=\"text-align: right;\">\n",
       "      <th></th>\n",
       "      <th>A</th>\n",
       "      <th>B</th>\n",
       "      <th>C</th>\n",
       "      <th>D</th>\n",
       "      <th>F</th>\n",
       "    </tr>\n",
       "  </thead>\n",
       "  <tbody>\n",
       "    <tr>\n",
       "      <th>2023-02-02</th>\n",
       "      <td>0.000000</td>\n",
       "      <td>0.000000</td>\n",
       "      <td>0.369145</td>\n",
       "      <td>0.000000</td>\n",
       "      <td>NaN</td>\n",
       "    </tr>\n",
       "    <tr>\n",
       "      <th>2023-02-03</th>\n",
       "      <td>0.000000</td>\n",
       "      <td>0.230910</td>\n",
       "      <td>1.647256</td>\n",
       "      <td>0.326528</td>\n",
       "      <td>NaN</td>\n",
       "    </tr>\n",
       "    <tr>\n",
       "      <th>2023-02-04</th>\n",
       "      <td>-0.056833</td>\n",
       "      <td>-0.328209</td>\n",
       "      <td>-0.104489</td>\n",
       "      <td>0.664616</td>\n",
       "      <td>NaN</td>\n",
       "    </tr>\n",
       "    <tr>\n",
       "      <th>2023-02-05</th>\n",
       "      <td>-2.192784</td>\n",
       "      <td>0.492167</td>\n",
       "      <td>0.664405</td>\n",
       "      <td>-0.018719</td>\n",
       "      <td>NaN</td>\n",
       "    </tr>\n",
       "    <tr>\n",
       "      <th>2023-02-06</th>\n",
       "      <td>0.000000</td>\n",
       "      <td>-0.603420</td>\n",
       "      <td>0.822724</td>\n",
       "      <td>-1.030479</td>\n",
       "      <td>NaN</td>\n",
       "    </tr>\n",
       "    <tr>\n",
       "      <th>2023-02-07</th>\n",
       "      <td>-0.462398</td>\n",
       "      <td>-0.272734</td>\n",
       "      <td>0.010598</td>\n",
       "      <td>0.265294</td>\n",
       "      <td>NaN</td>\n",
       "    </tr>\n",
       "    <tr>\n",
       "      <th>2023-02-08</th>\n",
       "      <td>1.187461</td>\n",
       "      <td>0.118086</td>\n",
       "      <td>-0.517469</td>\n",
       "      <td>0.489792</td>\n",
       "      <td>NaN</td>\n",
       "    </tr>\n",
       "    <tr>\n",
       "      <th>2023-02-09</th>\n",
       "      <td>-0.468160</td>\n",
       "      <td>0.616962</td>\n",
       "      <td>0.630218</td>\n",
       "      <td>0.650224</td>\n",
       "      <td>NaN</td>\n",
       "    </tr>\n",
       "  </tbody>\n",
       "</table>\n",
       "</div>"
      ],
      "text/plain": [
       "                   A         B         C         D   F\n",
       "2023-02-02  0.000000  0.000000  0.369145  0.000000 NaN\n",
       "2023-02-03  0.000000  0.230910  1.647256  0.326528 NaN\n",
       "2023-02-04 -0.056833 -0.328209 -0.104489  0.664616 NaN\n",
       "2023-02-05 -2.192784  0.492167  0.664405 -0.018719 NaN\n",
       "2023-02-06  0.000000 -0.603420  0.822724 -1.030479 NaN\n",
       "2023-02-07 -0.462398 -0.272734  0.010598  0.265294 NaN\n",
       "2023-02-08  1.187461  0.118086 -0.517469  0.489792 NaN\n",
       "2023-02-09 -0.468160  0.616962  0.630218  0.650224 NaN"
      ]
     },
     "execution_count": 72,
     "metadata": {},
     "output_type": "execute_result"
    }
   ],
   "source": [
    "df"
   ]
  },
  {
   "cell_type": "code",
   "execution_count": 73,
   "id": "af6c9956",
   "metadata": {},
   "outputs": [
    {
     "data": {
      "text/plain": [
       "2023-02-02    0.000000\n",
       "2023-02-03    0.326528\n",
       "2023-02-04    0.664616\n",
       "2023-02-05   -0.018719\n",
       "2023-02-06   -1.030479\n",
       "2023-02-07    0.265294\n",
       "2023-02-08    0.489792\n",
       "2023-02-09    0.650224\n",
       "Freq: D, Name: D, dtype: float64"
      ]
     },
     "execution_count": 73,
     "metadata": {},
     "output_type": "execute_result"
    }
   ],
   "source": [
    "df.loc[:,'D']"
   ]
  },
  {
   "cell_type": "code",
   "execution_count": 78,
   "id": "3b52e14c",
   "metadata": {},
   "outputs": [
    {
     "data": {
      "text/plain": [
       "8"
      ]
     },
     "execution_count": 78,
     "metadata": {},
     "output_type": "execute_result"
    }
   ],
   "source": [
    "len(df)"
   ]
  },
  {
   "cell_type": "code",
   "execution_count": 79,
   "id": "4c5e6834",
   "metadata": {},
   "outputs": [],
   "source": [
    "df.loc[:,'D'] = np.array([5] * len(df))"
   ]
  },
  {
   "cell_type": "code",
   "execution_count": 80,
   "id": "d7a07e13",
   "metadata": {
    "scrolled": true
   },
   "outputs": [
    {
     "data": {
      "text/html": [
       "<div>\n",
       "<style scoped>\n",
       "    .dataframe tbody tr th:only-of-type {\n",
       "        vertical-align: middle;\n",
       "    }\n",
       "\n",
       "    .dataframe tbody tr th {\n",
       "        vertical-align: top;\n",
       "    }\n",
       "\n",
       "    .dataframe thead th {\n",
       "        text-align: right;\n",
       "    }\n",
       "</style>\n",
       "<table border=\"1\" class=\"dataframe\">\n",
       "  <thead>\n",
       "    <tr style=\"text-align: right;\">\n",
       "      <th></th>\n",
       "      <th>A</th>\n",
       "      <th>B</th>\n",
       "      <th>C</th>\n",
       "      <th>D</th>\n",
       "      <th>F</th>\n",
       "    </tr>\n",
       "  </thead>\n",
       "  <tbody>\n",
       "    <tr>\n",
       "      <th>2023-02-02</th>\n",
       "      <td>0.000000</td>\n",
       "      <td>0.000000</td>\n",
       "      <td>0.369145</td>\n",
       "      <td>5</td>\n",
       "      <td>NaN</td>\n",
       "    </tr>\n",
       "    <tr>\n",
       "      <th>2023-02-03</th>\n",
       "      <td>0.000000</td>\n",
       "      <td>0.230910</td>\n",
       "      <td>1.647256</td>\n",
       "      <td>5</td>\n",
       "      <td>NaN</td>\n",
       "    </tr>\n",
       "    <tr>\n",
       "      <th>2023-02-04</th>\n",
       "      <td>-0.056833</td>\n",
       "      <td>-0.328209</td>\n",
       "      <td>-0.104489</td>\n",
       "      <td>5</td>\n",
       "      <td>NaN</td>\n",
       "    </tr>\n",
       "    <tr>\n",
       "      <th>2023-02-05</th>\n",
       "      <td>-2.192784</td>\n",
       "      <td>0.492167</td>\n",
       "      <td>0.664405</td>\n",
       "      <td>5</td>\n",
       "      <td>NaN</td>\n",
       "    </tr>\n",
       "    <tr>\n",
       "      <th>2023-02-06</th>\n",
       "      <td>0.000000</td>\n",
       "      <td>-0.603420</td>\n",
       "      <td>0.822724</td>\n",
       "      <td>5</td>\n",
       "      <td>NaN</td>\n",
       "    </tr>\n",
       "    <tr>\n",
       "      <th>2023-02-07</th>\n",
       "      <td>-0.462398</td>\n",
       "      <td>-0.272734</td>\n",
       "      <td>0.010598</td>\n",
       "      <td>5</td>\n",
       "      <td>NaN</td>\n",
       "    </tr>\n",
       "    <tr>\n",
       "      <th>2023-02-08</th>\n",
       "      <td>1.187461</td>\n",
       "      <td>0.118086</td>\n",
       "      <td>-0.517469</td>\n",
       "      <td>5</td>\n",
       "      <td>NaN</td>\n",
       "    </tr>\n",
       "    <tr>\n",
       "      <th>2023-02-09</th>\n",
       "      <td>-0.468160</td>\n",
       "      <td>0.616962</td>\n",
       "      <td>0.630218</td>\n",
       "      <td>5</td>\n",
       "      <td>NaN</td>\n",
       "    </tr>\n",
       "  </tbody>\n",
       "</table>\n",
       "</div>"
      ],
      "text/plain": [
       "                   A         B         C  D   F\n",
       "2023-02-02  0.000000  0.000000  0.369145  5 NaN\n",
       "2023-02-03  0.000000  0.230910  1.647256  5 NaN\n",
       "2023-02-04 -0.056833 -0.328209 -0.104489  5 NaN\n",
       "2023-02-05 -2.192784  0.492167  0.664405  5 NaN\n",
       "2023-02-06  0.000000 -0.603420  0.822724  5 NaN\n",
       "2023-02-07 -0.462398 -0.272734  0.010598  5 NaN\n",
       "2023-02-08  1.187461  0.118086 -0.517469  5 NaN\n",
       "2023-02-09 -0.468160  0.616962  0.630218  5 NaN"
      ]
     },
     "execution_count": 80,
     "metadata": {},
     "output_type": "execute_result"
    }
   ],
   "source": [
    "df"
   ]
  },
  {
   "cell_type": "code",
   "execution_count": null,
   "id": "a32fe65e",
   "metadata": {},
   "outputs": [],
   "source": []
  },
  {
   "cell_type": "code",
   "execution_count": 83,
   "id": "5b60e0e5",
   "metadata": {},
   "outputs": [
    {
     "data": {
      "text/plain": [
       "[5, 5, 5, 5, 5, 5, 5, 5]"
      ]
     },
     "execution_count": 83,
     "metadata": {},
     "output_type": "execute_result"
    }
   ],
   "source": [
    "[5]*8"
   ]
  },
  {
   "cell_type": "code",
   "execution_count": 86,
   "id": "880eda36",
   "metadata": {},
   "outputs": [],
   "source": [
    "df1 = df.reindex(index=dates[0:4], columns=list(df.columns) + ['E'])"
   ]
  },
  {
   "cell_type": "code",
   "execution_count": 87,
   "id": "84b2432a",
   "metadata": {},
   "outputs": [
    {
     "data": {
      "text/html": [
       "<div>\n",
       "<style scoped>\n",
       "    .dataframe tbody tr th:only-of-type {\n",
       "        vertical-align: middle;\n",
       "    }\n",
       "\n",
       "    .dataframe tbody tr th {\n",
       "        vertical-align: top;\n",
       "    }\n",
       "\n",
       "    .dataframe thead th {\n",
       "        text-align: right;\n",
       "    }\n",
       "</style>\n",
       "<table border=\"1\" class=\"dataframe\">\n",
       "  <thead>\n",
       "    <tr style=\"text-align: right;\">\n",
       "      <th></th>\n",
       "      <th>A</th>\n",
       "      <th>B</th>\n",
       "      <th>C</th>\n",
       "      <th>D</th>\n",
       "      <th>F</th>\n",
       "      <th>E</th>\n",
       "    </tr>\n",
       "  </thead>\n",
       "  <tbody>\n",
       "    <tr>\n",
       "      <th>2023-02-02</th>\n",
       "      <td>0.000000</td>\n",
       "      <td>0.000000</td>\n",
       "      <td>0.369145</td>\n",
       "      <td>5</td>\n",
       "      <td>NaN</td>\n",
       "      <td>NaN</td>\n",
       "    </tr>\n",
       "    <tr>\n",
       "      <th>2023-02-03</th>\n",
       "      <td>0.000000</td>\n",
       "      <td>0.230910</td>\n",
       "      <td>1.647256</td>\n",
       "      <td>5</td>\n",
       "      <td>NaN</td>\n",
       "      <td>NaN</td>\n",
       "    </tr>\n",
       "    <tr>\n",
       "      <th>2023-02-04</th>\n",
       "      <td>-0.056833</td>\n",
       "      <td>-0.328209</td>\n",
       "      <td>-0.104489</td>\n",
       "      <td>5</td>\n",
       "      <td>NaN</td>\n",
       "      <td>NaN</td>\n",
       "    </tr>\n",
       "    <tr>\n",
       "      <th>2023-02-05</th>\n",
       "      <td>-2.192784</td>\n",
       "      <td>0.492167</td>\n",
       "      <td>0.664405</td>\n",
       "      <td>5</td>\n",
       "      <td>NaN</td>\n",
       "      <td>NaN</td>\n",
       "    </tr>\n",
       "  </tbody>\n",
       "</table>\n",
       "</div>"
      ],
      "text/plain": [
       "                   A         B         C  D   F   E\n",
       "2023-02-02  0.000000  0.000000  0.369145  5 NaN NaN\n",
       "2023-02-03  0.000000  0.230910  1.647256  5 NaN NaN\n",
       "2023-02-04 -0.056833 -0.328209 -0.104489  5 NaN NaN\n",
       "2023-02-05 -2.192784  0.492167  0.664405  5 NaN NaN"
      ]
     },
     "execution_count": 87,
     "metadata": {},
     "output_type": "execute_result"
    }
   ],
   "source": [
    "df1"
   ]
  },
  {
   "cell_type": "code",
   "execution_count": 89,
   "id": "50e60fb5",
   "metadata": {},
   "outputs": [
    {
     "data": {
      "text/plain": [
       "['A', 'B', 'C', 'D', 'F', 'E']"
      ]
     },
     "execution_count": 89,
     "metadata": {},
     "output_type": "execute_result"
    }
   ],
   "source": [
    "list(df.columns)+['E']"
   ]
  },
  {
   "cell_type": "code",
   "execution_count": 91,
   "id": "28a8fc8a",
   "metadata": {},
   "outputs": [],
   "source": [
    "df1.loc[dates[0]:dates[2],'E']=1"
   ]
  },
  {
   "cell_type": "code",
   "execution_count": 92,
   "id": "5c806ab8",
   "metadata": {},
   "outputs": [
    {
     "data": {
      "text/html": [
       "<div>\n",
       "<style scoped>\n",
       "    .dataframe tbody tr th:only-of-type {\n",
       "        vertical-align: middle;\n",
       "    }\n",
       "\n",
       "    .dataframe tbody tr th {\n",
       "        vertical-align: top;\n",
       "    }\n",
       "\n",
       "    .dataframe thead th {\n",
       "        text-align: right;\n",
       "    }\n",
       "</style>\n",
       "<table border=\"1\" class=\"dataframe\">\n",
       "  <thead>\n",
       "    <tr style=\"text-align: right;\">\n",
       "      <th></th>\n",
       "      <th>A</th>\n",
       "      <th>B</th>\n",
       "      <th>C</th>\n",
       "      <th>D</th>\n",
       "      <th>F</th>\n",
       "      <th>E</th>\n",
       "    </tr>\n",
       "  </thead>\n",
       "  <tbody>\n",
       "    <tr>\n",
       "      <th>2023-02-02</th>\n",
       "      <td>0.000000</td>\n",
       "      <td>0.000000</td>\n",
       "      <td>0.369145</td>\n",
       "      <td>5</td>\n",
       "      <td>NaN</td>\n",
       "      <td>1.0</td>\n",
       "    </tr>\n",
       "    <tr>\n",
       "      <th>2023-02-03</th>\n",
       "      <td>0.000000</td>\n",
       "      <td>0.230910</td>\n",
       "      <td>1.647256</td>\n",
       "      <td>5</td>\n",
       "      <td>NaN</td>\n",
       "      <td>1.0</td>\n",
       "    </tr>\n",
       "    <tr>\n",
       "      <th>2023-02-04</th>\n",
       "      <td>-0.056833</td>\n",
       "      <td>-0.328209</td>\n",
       "      <td>-0.104489</td>\n",
       "      <td>5</td>\n",
       "      <td>NaN</td>\n",
       "      <td>1.0</td>\n",
       "    </tr>\n",
       "    <tr>\n",
       "      <th>2023-02-05</th>\n",
       "      <td>-2.192784</td>\n",
       "      <td>0.492167</td>\n",
       "      <td>0.664405</td>\n",
       "      <td>5</td>\n",
       "      <td>NaN</td>\n",
       "      <td>NaN</td>\n",
       "    </tr>\n",
       "  </tbody>\n",
       "</table>\n",
       "</div>"
      ],
      "text/plain": [
       "                   A         B         C  D   F    E\n",
       "2023-02-02  0.000000  0.000000  0.369145  5 NaN  1.0\n",
       "2023-02-03  0.000000  0.230910  1.647256  5 NaN  1.0\n",
       "2023-02-04 -0.056833 -0.328209 -0.104489  5 NaN  1.0\n",
       "2023-02-05 -2.192784  0.492167  0.664405  5 NaN  NaN"
      ]
     },
     "execution_count": 92,
     "metadata": {},
     "output_type": "execute_result"
    }
   ],
   "source": [
    "df1"
   ]
  },
  {
   "cell_type": "code",
   "execution_count": 94,
   "id": "25e9ae97",
   "metadata": {},
   "outputs": [],
   "source": [
    "df1.loc[dates[1]:dates[2],'F']=1"
   ]
  },
  {
   "cell_type": "code",
   "execution_count": 95,
   "id": "ca618a58",
   "metadata": {},
   "outputs": [
    {
     "data": {
      "text/html": [
       "<div>\n",
       "<style scoped>\n",
       "    .dataframe tbody tr th:only-of-type {\n",
       "        vertical-align: middle;\n",
       "    }\n",
       "\n",
       "    .dataframe tbody tr th {\n",
       "        vertical-align: top;\n",
       "    }\n",
       "\n",
       "    .dataframe thead th {\n",
       "        text-align: right;\n",
       "    }\n",
       "</style>\n",
       "<table border=\"1\" class=\"dataframe\">\n",
       "  <thead>\n",
       "    <tr style=\"text-align: right;\">\n",
       "      <th></th>\n",
       "      <th>A</th>\n",
       "      <th>B</th>\n",
       "      <th>C</th>\n",
       "      <th>D</th>\n",
       "      <th>F</th>\n",
       "      <th>E</th>\n",
       "    </tr>\n",
       "  </thead>\n",
       "  <tbody>\n",
       "    <tr>\n",
       "      <th>2023-02-03</th>\n",
       "      <td>0.000000</td>\n",
       "      <td>0.230910</td>\n",
       "      <td>1.647256</td>\n",
       "      <td>5</td>\n",
       "      <td>1.0</td>\n",
       "      <td>1.0</td>\n",
       "    </tr>\n",
       "    <tr>\n",
       "      <th>2023-02-04</th>\n",
       "      <td>-0.056833</td>\n",
       "      <td>-0.328209</td>\n",
       "      <td>-0.104489</td>\n",
       "      <td>5</td>\n",
       "      <td>1.0</td>\n",
       "      <td>1.0</td>\n",
       "    </tr>\n",
       "  </tbody>\n",
       "</table>\n",
       "</div>"
      ],
      "text/plain": [
       "                   A         B         C  D    F    E\n",
       "2023-02-03  0.000000  0.230910  1.647256  5  1.0  1.0\n",
       "2023-02-04 -0.056833 -0.328209 -0.104489  5  1.0  1.0"
      ]
     },
     "execution_count": 95,
     "metadata": {},
     "output_type": "execute_result"
    }
   ],
   "source": [
    "df1.dropna(how='any')\n"
   ]
  },
  {
   "cell_type": "code",
   "execution_count": 96,
   "id": "57094064",
   "metadata": {},
   "outputs": [
    {
     "data": {
      "text/html": [
       "<div>\n",
       "<style scoped>\n",
       "    .dataframe tbody tr th:only-of-type {\n",
       "        vertical-align: middle;\n",
       "    }\n",
       "\n",
       "    .dataframe tbody tr th {\n",
       "        vertical-align: top;\n",
       "    }\n",
       "\n",
       "    .dataframe thead th {\n",
       "        text-align: right;\n",
       "    }\n",
       "</style>\n",
       "<table border=\"1\" class=\"dataframe\">\n",
       "  <thead>\n",
       "    <tr style=\"text-align: right;\">\n",
       "      <th></th>\n",
       "      <th>A</th>\n",
       "      <th>B</th>\n",
       "      <th>C</th>\n",
       "      <th>D</th>\n",
       "      <th>F</th>\n",
       "      <th>E</th>\n",
       "    </tr>\n",
       "  </thead>\n",
       "  <tbody>\n",
       "    <tr>\n",
       "      <th>2023-02-02</th>\n",
       "      <td>0.000000</td>\n",
       "      <td>0.000000</td>\n",
       "      <td>0.369145</td>\n",
       "      <td>5</td>\n",
       "      <td>5.0</td>\n",
       "      <td>1.0</td>\n",
       "    </tr>\n",
       "    <tr>\n",
       "      <th>2023-02-03</th>\n",
       "      <td>0.000000</td>\n",
       "      <td>0.230910</td>\n",
       "      <td>1.647256</td>\n",
       "      <td>5</td>\n",
       "      <td>1.0</td>\n",
       "      <td>1.0</td>\n",
       "    </tr>\n",
       "    <tr>\n",
       "      <th>2023-02-04</th>\n",
       "      <td>-0.056833</td>\n",
       "      <td>-0.328209</td>\n",
       "      <td>-0.104489</td>\n",
       "      <td>5</td>\n",
       "      <td>1.0</td>\n",
       "      <td>1.0</td>\n",
       "    </tr>\n",
       "    <tr>\n",
       "      <th>2023-02-05</th>\n",
       "      <td>-2.192784</td>\n",
       "      <td>0.492167</td>\n",
       "      <td>0.664405</td>\n",
       "      <td>5</td>\n",
       "      <td>5.0</td>\n",
       "      <td>5.0</td>\n",
       "    </tr>\n",
       "  </tbody>\n",
       "</table>\n",
       "</div>"
      ],
      "text/plain": [
       "                   A         B         C  D    F    E\n",
       "2023-02-02  0.000000  0.000000  0.369145  5  5.0  1.0\n",
       "2023-02-03  0.000000  0.230910  1.647256  5  1.0  1.0\n",
       "2023-02-04 -0.056833 -0.328209 -0.104489  5  1.0  1.0\n",
       "2023-02-05 -2.192784  0.492167  0.664405  5  5.0  5.0"
      ]
     },
     "execution_count": 96,
     "metadata": {},
     "output_type": "execute_result"
    }
   ],
   "source": [
    "df1.fillna(value=5)"
   ]
  },
  {
   "cell_type": "code",
   "execution_count": 97,
   "id": "1faef0db",
   "metadata": {},
   "outputs": [
    {
     "data": {
      "text/html": [
       "<div>\n",
       "<style scoped>\n",
       "    .dataframe tbody tr th:only-of-type {\n",
       "        vertical-align: middle;\n",
       "    }\n",
       "\n",
       "    .dataframe tbody tr th {\n",
       "        vertical-align: top;\n",
       "    }\n",
       "\n",
       "    .dataframe thead th {\n",
       "        text-align: right;\n",
       "    }\n",
       "</style>\n",
       "<table border=\"1\" class=\"dataframe\">\n",
       "  <thead>\n",
       "    <tr style=\"text-align: right;\">\n",
       "      <th></th>\n",
       "      <th>A</th>\n",
       "      <th>B</th>\n",
       "      <th>C</th>\n",
       "      <th>D</th>\n",
       "      <th>F</th>\n",
       "      <th>E</th>\n",
       "    </tr>\n",
       "  </thead>\n",
       "  <tbody>\n",
       "    <tr>\n",
       "      <th>2023-02-02</th>\n",
       "      <td>False</td>\n",
       "      <td>False</td>\n",
       "      <td>False</td>\n",
       "      <td>False</td>\n",
       "      <td>True</td>\n",
       "      <td>False</td>\n",
       "    </tr>\n",
       "    <tr>\n",
       "      <th>2023-02-03</th>\n",
       "      <td>False</td>\n",
       "      <td>False</td>\n",
       "      <td>False</td>\n",
       "      <td>False</td>\n",
       "      <td>False</td>\n",
       "      <td>False</td>\n",
       "    </tr>\n",
       "    <tr>\n",
       "      <th>2023-02-04</th>\n",
       "      <td>False</td>\n",
       "      <td>False</td>\n",
       "      <td>False</td>\n",
       "      <td>False</td>\n",
       "      <td>False</td>\n",
       "      <td>False</td>\n",
       "    </tr>\n",
       "    <tr>\n",
       "      <th>2023-02-05</th>\n",
       "      <td>False</td>\n",
       "      <td>False</td>\n",
       "      <td>False</td>\n",
       "      <td>False</td>\n",
       "      <td>True</td>\n",
       "      <td>True</td>\n",
       "    </tr>\n",
       "  </tbody>\n",
       "</table>\n",
       "</div>"
      ],
      "text/plain": [
       "                A      B      C      D      F      E\n",
       "2023-02-02  False  False  False  False   True  False\n",
       "2023-02-03  False  False  False  False  False  False\n",
       "2023-02-04  False  False  False  False  False  False\n",
       "2023-02-05  False  False  False  False   True   True"
      ]
     },
     "execution_count": 97,
     "metadata": {},
     "output_type": "execute_result"
    }
   ],
   "source": [
    "pd.isnull(df1)"
   ]
  },
  {
   "cell_type": "code",
   "execution_count": 98,
   "id": "caf78113",
   "metadata": {},
   "outputs": [
    {
     "data": {
      "text/plain": [
       "A   -0.249089\n",
       "B    0.031720\n",
       "C    0.440299\n",
       "D    5.000000\n",
       "F         NaN\n",
       "dtype: float64"
      ]
     },
     "execution_count": 98,
     "metadata": {},
     "output_type": "execute_result"
    }
   ],
   "source": [
    "df.mean()"
   ]
  },
  {
   "cell_type": "code",
   "execution_count": 99,
   "id": "e06fea2b",
   "metadata": {},
   "outputs": [
    {
     "data": {
      "text/plain": [
       "2023-02-02    1.342286\n",
       "2023-02-03    1.719542\n",
       "2023-02-04    1.127617\n",
       "2023-02-05    0.990947\n",
       "2023-02-06    1.304826\n",
       "2023-02-07    1.068867\n",
       "2023-02-08    1.447019\n",
       "2023-02-09    1.444755\n",
       "Freq: D, dtype: float64"
      ]
     },
     "execution_count": 99,
     "metadata": {},
     "output_type": "execute_result"
    }
   ],
   "source": [
    "df.mean(1)"
   ]
  },
  {
   "cell_type": "code",
   "execution_count": 104,
   "id": "41b0574c",
   "metadata": {},
   "outputs": [
    {
     "data": {
      "text/html": [
       "<div>\n",
       "<style scoped>\n",
       "    .dataframe tbody tr th:only-of-type {\n",
       "        vertical-align: middle;\n",
       "    }\n",
       "\n",
       "    .dataframe tbody tr th {\n",
       "        vertical-align: top;\n",
       "    }\n",
       "\n",
       "    .dataframe thead th {\n",
       "        text-align: right;\n",
       "    }\n",
       "</style>\n",
       "<table border=\"1\" class=\"dataframe\">\n",
       "  <thead>\n",
       "    <tr style=\"text-align: right;\">\n",
       "      <th></th>\n",
       "      <th>A</th>\n",
       "      <th>B</th>\n",
       "      <th>C</th>\n",
       "      <th>D</th>\n",
       "      <th>F</th>\n",
       "    </tr>\n",
       "  </thead>\n",
       "  <tbody>\n",
       "    <tr>\n",
       "      <th>2023-02-02</th>\n",
       "      <td>0.000000</td>\n",
       "      <td>0.000000</td>\n",
       "      <td>0.369145</td>\n",
       "      <td>5</td>\n",
       "      <td>NaN</td>\n",
       "    </tr>\n",
       "    <tr>\n",
       "      <th>2023-02-03</th>\n",
       "      <td>0.000000</td>\n",
       "      <td>0.230910</td>\n",
       "      <td>2.016402</td>\n",
       "      <td>10</td>\n",
       "      <td>NaN</td>\n",
       "    </tr>\n",
       "    <tr>\n",
       "      <th>2023-02-04</th>\n",
       "      <td>-0.056833</td>\n",
       "      <td>-0.097299</td>\n",
       "      <td>1.911913</td>\n",
       "      <td>15</td>\n",
       "      <td>NaN</td>\n",
       "    </tr>\n",
       "    <tr>\n",
       "      <th>2023-02-05</th>\n",
       "      <td>-2.249617</td>\n",
       "      <td>0.394868</td>\n",
       "      <td>2.576318</td>\n",
       "      <td>20</td>\n",
       "      <td>NaN</td>\n",
       "    </tr>\n",
       "    <tr>\n",
       "      <th>2023-02-06</th>\n",
       "      <td>-2.249617</td>\n",
       "      <td>-0.208552</td>\n",
       "      <td>3.399042</td>\n",
       "      <td>25</td>\n",
       "      <td>NaN</td>\n",
       "    </tr>\n",
       "    <tr>\n",
       "      <th>2023-02-07</th>\n",
       "      <td>-2.712015</td>\n",
       "      <td>-0.481285</td>\n",
       "      <td>3.409640</td>\n",
       "      <td>30</td>\n",
       "      <td>NaN</td>\n",
       "    </tr>\n",
       "    <tr>\n",
       "      <th>2023-02-08</th>\n",
       "      <td>-1.524554</td>\n",
       "      <td>-0.363199</td>\n",
       "      <td>2.892171</td>\n",
       "      <td>35</td>\n",
       "      <td>NaN</td>\n",
       "    </tr>\n",
       "    <tr>\n",
       "      <th>2023-02-09</th>\n",
       "      <td>-1.992715</td>\n",
       "      <td>0.253763</td>\n",
       "      <td>3.522389</td>\n",
       "      <td>40</td>\n",
       "      <td>NaN</td>\n",
       "    </tr>\n",
       "  </tbody>\n",
       "</table>\n",
       "</div>"
      ],
      "text/plain": [
       "                   A         B         C   D   F\n",
       "2023-02-02  0.000000  0.000000  0.369145   5 NaN\n",
       "2023-02-03  0.000000  0.230910  2.016402  10 NaN\n",
       "2023-02-04 -0.056833 -0.097299  1.911913  15 NaN\n",
       "2023-02-05 -2.249617  0.394868  2.576318  20 NaN\n",
       "2023-02-06 -2.249617 -0.208552  3.399042  25 NaN\n",
       "2023-02-07 -2.712015 -0.481285  3.409640  30 NaN\n",
       "2023-02-08 -1.524554 -0.363199  2.892171  35 NaN\n",
       "2023-02-09 -1.992715  0.253763  3.522389  40 NaN"
      ]
     },
     "execution_count": 104,
     "metadata": {},
     "output_type": "execute_result"
    }
   ],
   "source": [
    "df.apply(np.cumsum)"
   ]
  },
  {
   "cell_type": "code",
   "execution_count": 106,
   "id": "a5d5d5e3",
   "metadata": {},
   "outputs": [
    {
     "data": {
      "text/plain": [
       "A    3.380245\n",
       "B    1.220382\n",
       "C    2.164726\n",
       "D    0.000000\n",
       "F         NaN\n",
       "dtype: float64"
      ]
     },
     "execution_count": 106,
     "metadata": {},
     "output_type": "execute_result"
    }
   ],
   "source": [
    "df.apply(lambda x: x.max() - x.min())"
   ]
  },
  {
   "cell_type": "code",
   "execution_count": 107,
   "id": "20a0b1fc",
   "metadata": {},
   "outputs": [],
   "source": [
    " s = pd.Series(np.random.randint(0, 7, size=10))"
   ]
  },
  {
   "cell_type": "code",
   "execution_count": 108,
   "id": "f1d7cc6b",
   "metadata": {},
   "outputs": [
    {
     "data": {
      "text/plain": [
       "0    2\n",
       "1    6\n",
       "2    1\n",
       "3    5\n",
       "4    6\n",
       "5    2\n",
       "6    0\n",
       "7    2\n",
       "8    3\n",
       "9    4\n",
       "dtype: int32"
      ]
     },
     "execution_count": 108,
     "metadata": {},
     "output_type": "execute_result"
    }
   ],
   "source": [
    "s"
   ]
  },
  {
   "cell_type": "code",
   "execution_count": 109,
   "id": "d62f7c01",
   "metadata": {},
   "outputs": [
    {
     "data": {
      "text/plain": [
       "2    3\n",
       "6    2\n",
       "1    1\n",
       "5    1\n",
       "0    1\n",
       "3    1\n",
       "4    1\n",
       "dtype: int64"
      ]
     },
     "execution_count": 109,
     "metadata": {},
     "output_type": "execute_result"
    }
   ],
   "source": [
    "s.value_counts()"
   ]
  },
  {
   "cell_type": "code",
   "execution_count": 111,
   "id": "d8ed5856",
   "metadata": {},
   "outputs": [],
   "source": [
    "s=pd.Series(['A','B','C','Aaba','Baca',np.nan,'CABA','dog','cat'])"
   ]
  },
  {
   "cell_type": "code",
   "execution_count": 112,
   "id": "e0561183",
   "metadata": {},
   "outputs": [
    {
     "data": {
      "text/plain": [
       "0       A\n",
       "1       B\n",
       "2       C\n",
       "3    Aaba\n",
       "4    Baca\n",
       "5     NaN\n",
       "6    CABA\n",
       "7     dog\n",
       "8     cat\n",
       "dtype: object"
      ]
     },
     "execution_count": 112,
     "metadata": {},
     "output_type": "execute_result"
    }
   ],
   "source": [
    "s"
   ]
  },
  {
   "cell_type": "code",
   "execution_count": 113,
   "id": "4af9c6a8",
   "metadata": {},
   "outputs": [
    {
     "data": {
      "text/plain": [
       "0       a\n",
       "1       b\n",
       "2       c\n",
       "3    aaba\n",
       "4    baca\n",
       "5     NaN\n",
       "6    caba\n",
       "7     dog\n",
       "8     cat\n",
       "dtype: object"
      ]
     },
     "execution_count": 113,
     "metadata": {},
     "output_type": "execute_result"
    }
   ],
   "source": [
    "s.str.lower()"
   ]
  },
  {
   "cell_type": "code",
   "execution_count": 114,
   "id": "30d3f3cf",
   "metadata": {},
   "outputs": [
    {
     "data": {
      "text/plain": [
       "0       A\n",
       "1       B\n",
       "2       C\n",
       "3    AABA\n",
       "4    BACA\n",
       "5     NaN\n",
       "6    CABA\n",
       "7     DOG\n",
       "8     CAT\n",
       "dtype: object"
      ]
     },
     "execution_count": 114,
     "metadata": {},
     "output_type": "execute_result"
    }
   ],
   "source": [
    "s.str.upper()"
   ]
  },
  {
   "cell_type": "code",
   "execution_count": 115,
   "id": "5d0b63c6",
   "metadata": {},
   "outputs": [],
   "source": [
    "df=pd.DataFrame(np.random.randn(10,4))"
   ]
  },
  {
   "cell_type": "code",
   "execution_count": 116,
   "id": "bb133ebd",
   "metadata": {},
   "outputs": [
    {
     "data": {
      "text/html": [
       "<div>\n",
       "<style scoped>\n",
       "    .dataframe tbody tr th:only-of-type {\n",
       "        vertical-align: middle;\n",
       "    }\n",
       "\n",
       "    .dataframe tbody tr th {\n",
       "        vertical-align: top;\n",
       "    }\n",
       "\n",
       "    .dataframe thead th {\n",
       "        text-align: right;\n",
       "    }\n",
       "</style>\n",
       "<table border=\"1\" class=\"dataframe\">\n",
       "  <thead>\n",
       "    <tr style=\"text-align: right;\">\n",
       "      <th></th>\n",
       "      <th>0</th>\n",
       "      <th>1</th>\n",
       "      <th>2</th>\n",
       "      <th>3</th>\n",
       "    </tr>\n",
       "  </thead>\n",
       "  <tbody>\n",
       "    <tr>\n",
       "      <th>0</th>\n",
       "      <td>0.059757</td>\n",
       "      <td>1.783383</td>\n",
       "      <td>0.234255</td>\n",
       "      <td>1.298206</td>\n",
       "    </tr>\n",
       "    <tr>\n",
       "      <th>1</th>\n",
       "      <td>-0.833891</td>\n",
       "      <td>-1.787618</td>\n",
       "      <td>1.439851</td>\n",
       "      <td>-1.296114</td>\n",
       "    </tr>\n",
       "    <tr>\n",
       "      <th>2</th>\n",
       "      <td>0.266282</td>\n",
       "      <td>0.207219</td>\n",
       "      <td>0.322572</td>\n",
       "      <td>0.192870</td>\n",
       "    </tr>\n",
       "    <tr>\n",
       "      <th>3</th>\n",
       "      <td>0.298029</td>\n",
       "      <td>-0.518179</td>\n",
       "      <td>-0.654564</td>\n",
       "      <td>-0.110687</td>\n",
       "    </tr>\n",
       "    <tr>\n",
       "      <th>4</th>\n",
       "      <td>0.413460</td>\n",
       "      <td>0.655103</td>\n",
       "      <td>1.116641</td>\n",
       "      <td>0.685240</td>\n",
       "    </tr>\n",
       "    <tr>\n",
       "      <th>5</th>\n",
       "      <td>-0.600334</td>\n",
       "      <td>-1.583823</td>\n",
       "      <td>-0.442232</td>\n",
       "      <td>2.314757</td>\n",
       "    </tr>\n",
       "    <tr>\n",
       "      <th>6</th>\n",
       "      <td>-0.448268</td>\n",
       "      <td>0.775683</td>\n",
       "      <td>-0.092407</td>\n",
       "      <td>0.577171</td>\n",
       "    </tr>\n",
       "    <tr>\n",
       "      <th>7</th>\n",
       "      <td>1.876605</td>\n",
       "      <td>0.518671</td>\n",
       "      <td>-2.785808</td>\n",
       "      <td>-0.459245</td>\n",
       "    </tr>\n",
       "    <tr>\n",
       "      <th>8</th>\n",
       "      <td>-0.790045</td>\n",
       "      <td>0.483145</td>\n",
       "      <td>-2.001207</td>\n",
       "      <td>-0.381187</td>\n",
       "    </tr>\n",
       "    <tr>\n",
       "      <th>9</th>\n",
       "      <td>0.863507</td>\n",
       "      <td>2.654330</td>\n",
       "      <td>1.363023</td>\n",
       "      <td>0.560249</td>\n",
       "    </tr>\n",
       "  </tbody>\n",
       "</table>\n",
       "</div>"
      ],
      "text/plain": [
       "          0         1         2         3\n",
       "0  0.059757  1.783383  0.234255  1.298206\n",
       "1 -0.833891 -1.787618  1.439851 -1.296114\n",
       "2  0.266282  0.207219  0.322572  0.192870\n",
       "3  0.298029 -0.518179 -0.654564 -0.110687\n",
       "4  0.413460  0.655103  1.116641  0.685240\n",
       "5 -0.600334 -1.583823 -0.442232  2.314757\n",
       "6 -0.448268  0.775683 -0.092407  0.577171\n",
       "7  1.876605  0.518671 -2.785808 -0.459245\n",
       "8 -0.790045  0.483145 -2.001207 -0.381187\n",
       "9  0.863507  2.654330  1.363023  0.560249"
      ]
     },
     "execution_count": 116,
     "metadata": {},
     "output_type": "execute_result"
    }
   ],
   "source": [
    "df"
   ]
  },
  {
   "cell_type": "code",
   "execution_count": 118,
   "id": "18a2efb4",
   "metadata": {},
   "outputs": [],
   "source": [
    "pieces=[df[:3],df[3:7],df[7:]]"
   ]
  },
  {
   "cell_type": "code",
   "execution_count": 119,
   "id": "f712e3ea",
   "metadata": {},
   "outputs": [
    {
     "data": {
      "text/plain": [
       "[          0         1         2         3\n",
       " 0  0.059757  1.783383  0.234255  1.298206\n",
       " 1 -0.833891 -1.787618  1.439851 -1.296114\n",
       " 2  0.266282  0.207219  0.322572  0.192870,\n",
       "           0         1         2         3\n",
       " 3  0.298029 -0.518179 -0.654564 -0.110687\n",
       " 4  0.413460  0.655103  1.116641  0.685240\n",
       " 5 -0.600334 -1.583823 -0.442232  2.314757\n",
       " 6 -0.448268  0.775683 -0.092407  0.577171,\n",
       "           0         1         2         3\n",
       " 7  1.876605  0.518671 -2.785808 -0.459245\n",
       " 8 -0.790045  0.483145 -2.001207 -0.381187\n",
       " 9  0.863507  2.654330  1.363023  0.560249]"
      ]
     },
     "execution_count": 119,
     "metadata": {},
     "output_type": "execute_result"
    }
   ],
   "source": [
    "pieces"
   ]
  },
  {
   "cell_type": "code",
   "execution_count": 120,
   "id": "371a689c",
   "metadata": {},
   "outputs": [
    {
     "data": {
      "text/html": [
       "<div>\n",
       "<style scoped>\n",
       "    .dataframe tbody tr th:only-of-type {\n",
       "        vertical-align: middle;\n",
       "    }\n",
       "\n",
       "    .dataframe tbody tr th {\n",
       "        vertical-align: top;\n",
       "    }\n",
       "\n",
       "    .dataframe thead th {\n",
       "        text-align: right;\n",
       "    }\n",
       "</style>\n",
       "<table border=\"1\" class=\"dataframe\">\n",
       "  <thead>\n",
       "    <tr style=\"text-align: right;\">\n",
       "      <th></th>\n",
       "      <th>0</th>\n",
       "      <th>1</th>\n",
       "      <th>2</th>\n",
       "      <th>3</th>\n",
       "    </tr>\n",
       "  </thead>\n",
       "  <tbody>\n",
       "    <tr>\n",
       "      <th>0</th>\n",
       "      <td>0.059757</td>\n",
       "      <td>1.783383</td>\n",
       "      <td>0.234255</td>\n",
       "      <td>1.298206</td>\n",
       "    </tr>\n",
       "    <tr>\n",
       "      <th>1</th>\n",
       "      <td>-0.833891</td>\n",
       "      <td>-1.787618</td>\n",
       "      <td>1.439851</td>\n",
       "      <td>-1.296114</td>\n",
       "    </tr>\n",
       "    <tr>\n",
       "      <th>2</th>\n",
       "      <td>0.266282</td>\n",
       "      <td>0.207219</td>\n",
       "      <td>0.322572</td>\n",
       "      <td>0.192870</td>\n",
       "    </tr>\n",
       "    <tr>\n",
       "      <th>3</th>\n",
       "      <td>0.298029</td>\n",
       "      <td>-0.518179</td>\n",
       "      <td>-0.654564</td>\n",
       "      <td>-0.110687</td>\n",
       "    </tr>\n",
       "    <tr>\n",
       "      <th>4</th>\n",
       "      <td>0.413460</td>\n",
       "      <td>0.655103</td>\n",
       "      <td>1.116641</td>\n",
       "      <td>0.685240</td>\n",
       "    </tr>\n",
       "    <tr>\n",
       "      <th>5</th>\n",
       "      <td>-0.600334</td>\n",
       "      <td>-1.583823</td>\n",
       "      <td>-0.442232</td>\n",
       "      <td>2.314757</td>\n",
       "    </tr>\n",
       "    <tr>\n",
       "      <th>6</th>\n",
       "      <td>-0.448268</td>\n",
       "      <td>0.775683</td>\n",
       "      <td>-0.092407</td>\n",
       "      <td>0.577171</td>\n",
       "    </tr>\n",
       "    <tr>\n",
       "      <th>7</th>\n",
       "      <td>1.876605</td>\n",
       "      <td>0.518671</td>\n",
       "      <td>-2.785808</td>\n",
       "      <td>-0.459245</td>\n",
       "    </tr>\n",
       "    <tr>\n",
       "      <th>8</th>\n",
       "      <td>-0.790045</td>\n",
       "      <td>0.483145</td>\n",
       "      <td>-2.001207</td>\n",
       "      <td>-0.381187</td>\n",
       "    </tr>\n",
       "    <tr>\n",
       "      <th>9</th>\n",
       "      <td>0.863507</td>\n",
       "      <td>2.654330</td>\n",
       "      <td>1.363023</td>\n",
       "      <td>0.560249</td>\n",
       "    </tr>\n",
       "  </tbody>\n",
       "</table>\n",
       "</div>"
      ],
      "text/plain": [
       "          0         1         2         3\n",
       "0  0.059757  1.783383  0.234255  1.298206\n",
       "1 -0.833891 -1.787618  1.439851 -1.296114\n",
       "2  0.266282  0.207219  0.322572  0.192870\n",
       "3  0.298029 -0.518179 -0.654564 -0.110687\n",
       "4  0.413460  0.655103  1.116641  0.685240\n",
       "5 -0.600334 -1.583823 -0.442232  2.314757\n",
       "6 -0.448268  0.775683 -0.092407  0.577171\n",
       "7  1.876605  0.518671 -2.785808 -0.459245\n",
       "8 -0.790045  0.483145 -2.001207 -0.381187\n",
       "9  0.863507  2.654330  1.363023  0.560249"
      ]
     },
     "execution_count": 120,
     "metadata": {},
     "output_type": "execute_result"
    }
   ],
   "source": [
    "pd.concat(pieces)"
   ]
  },
  {
   "cell_type": "code",
   "execution_count": 121,
   "id": "69b4296b",
   "metadata": {},
   "outputs": [],
   "source": [
    "left=pd.DataFrame({'key':['foo','foo'],'lval':[1,2]})"
   ]
  },
  {
   "cell_type": "code",
   "execution_count": 122,
   "id": "d79014b7",
   "metadata": {},
   "outputs": [
    {
     "data": {
      "text/html": [
       "<div>\n",
       "<style scoped>\n",
       "    .dataframe tbody tr th:only-of-type {\n",
       "        vertical-align: middle;\n",
       "    }\n",
       "\n",
       "    .dataframe tbody tr th {\n",
       "        vertical-align: top;\n",
       "    }\n",
       "\n",
       "    .dataframe thead th {\n",
       "        text-align: right;\n",
       "    }\n",
       "</style>\n",
       "<table border=\"1\" class=\"dataframe\">\n",
       "  <thead>\n",
       "    <tr style=\"text-align: right;\">\n",
       "      <th></th>\n",
       "      <th>key</th>\n",
       "      <th>lval</th>\n",
       "    </tr>\n",
       "  </thead>\n",
       "  <tbody>\n",
       "    <tr>\n",
       "      <th>0</th>\n",
       "      <td>foo</td>\n",
       "      <td>1</td>\n",
       "    </tr>\n",
       "    <tr>\n",
       "      <th>1</th>\n",
       "      <td>foo</td>\n",
       "      <td>2</td>\n",
       "    </tr>\n",
       "  </tbody>\n",
       "</table>\n",
       "</div>"
      ],
      "text/plain": [
       "   key  lval\n",
       "0  foo     1\n",
       "1  foo     2"
      ]
     },
     "execution_count": 122,
     "metadata": {},
     "output_type": "execute_result"
    }
   ],
   "source": [
    "left"
   ]
  },
  {
   "cell_type": "code",
   "execution_count": 123,
   "id": "fe966637",
   "metadata": {},
   "outputs": [],
   "source": [
    "right=pd.DataFrame({'key':['foo','foo'],'lval':[4,5]})"
   ]
  },
  {
   "cell_type": "code",
   "execution_count": 124,
   "id": "00fabac6",
   "metadata": {},
   "outputs": [
    {
     "data": {
      "text/html": [
       "<div>\n",
       "<style scoped>\n",
       "    .dataframe tbody tr th:only-of-type {\n",
       "        vertical-align: middle;\n",
       "    }\n",
       "\n",
       "    .dataframe tbody tr th {\n",
       "        vertical-align: top;\n",
       "    }\n",
       "\n",
       "    .dataframe thead th {\n",
       "        text-align: right;\n",
       "    }\n",
       "</style>\n",
       "<table border=\"1\" class=\"dataframe\">\n",
       "  <thead>\n",
       "    <tr style=\"text-align: right;\">\n",
       "      <th></th>\n",
       "      <th>key</th>\n",
       "      <th>lval</th>\n",
       "    </tr>\n",
       "  </thead>\n",
       "  <tbody>\n",
       "    <tr>\n",
       "      <th>0</th>\n",
       "      <td>foo</td>\n",
       "      <td>4</td>\n",
       "    </tr>\n",
       "    <tr>\n",
       "      <th>1</th>\n",
       "      <td>foo</td>\n",
       "      <td>5</td>\n",
       "    </tr>\n",
       "  </tbody>\n",
       "</table>\n",
       "</div>"
      ],
      "text/plain": [
       "   key  lval\n",
       "0  foo     4\n",
       "1  foo     5"
      ]
     },
     "execution_count": 124,
     "metadata": {},
     "output_type": "execute_result"
    }
   ],
   "source": [
    "right"
   ]
  },
  {
   "cell_type": "code",
   "execution_count": 125,
   "id": "1014b4d9",
   "metadata": {},
   "outputs": [],
   "source": [
    "df=pd.DataFrame(np.random.randn(8,4),columns=['A','B','C','D'])"
   ]
  },
  {
   "cell_type": "code",
   "execution_count": 126,
   "id": "eddde883",
   "metadata": {},
   "outputs": [
    {
     "data": {
      "text/html": [
       "<div>\n",
       "<style scoped>\n",
       "    .dataframe tbody tr th:only-of-type {\n",
       "        vertical-align: middle;\n",
       "    }\n",
       "\n",
       "    .dataframe tbody tr th {\n",
       "        vertical-align: top;\n",
       "    }\n",
       "\n",
       "    .dataframe thead th {\n",
       "        text-align: right;\n",
       "    }\n",
       "</style>\n",
       "<table border=\"1\" class=\"dataframe\">\n",
       "  <thead>\n",
       "    <tr style=\"text-align: right;\">\n",
       "      <th></th>\n",
       "      <th>A</th>\n",
       "      <th>B</th>\n",
       "      <th>C</th>\n",
       "      <th>D</th>\n",
       "    </tr>\n",
       "  </thead>\n",
       "  <tbody>\n",
       "    <tr>\n",
       "      <th>0</th>\n",
       "      <td>0.318063</td>\n",
       "      <td>-0.140024</td>\n",
       "      <td>0.573046</td>\n",
       "      <td>2.269956</td>\n",
       "    </tr>\n",
       "    <tr>\n",
       "      <th>1</th>\n",
       "      <td>-0.601322</td>\n",
       "      <td>-0.133527</td>\n",
       "      <td>-0.082446</td>\n",
       "      <td>0.329966</td>\n",
       "    </tr>\n",
       "    <tr>\n",
       "      <th>2</th>\n",
       "      <td>-0.909756</td>\n",
       "      <td>0.420760</td>\n",
       "      <td>-1.518585</td>\n",
       "      <td>-0.953904</td>\n",
       "    </tr>\n",
       "    <tr>\n",
       "      <th>3</th>\n",
       "      <td>-1.484143</td>\n",
       "      <td>1.271122</td>\n",
       "      <td>-0.277594</td>\n",
       "      <td>2.174210</td>\n",
       "    </tr>\n",
       "    <tr>\n",
       "      <th>4</th>\n",
       "      <td>-0.910162</td>\n",
       "      <td>0.436971</td>\n",
       "      <td>0.686353</td>\n",
       "      <td>-1.183539</td>\n",
       "    </tr>\n",
       "    <tr>\n",
       "      <th>5</th>\n",
       "      <td>0.413849</td>\n",
       "      <td>1.116396</td>\n",
       "      <td>-0.163645</td>\n",
       "      <td>0.633838</td>\n",
       "    </tr>\n",
       "    <tr>\n",
       "      <th>6</th>\n",
       "      <td>0.421300</td>\n",
       "      <td>-1.197002</td>\n",
       "      <td>2.742752</td>\n",
       "      <td>-0.061365</td>\n",
       "    </tr>\n",
       "    <tr>\n",
       "      <th>7</th>\n",
       "      <td>-2.298392</td>\n",
       "      <td>-0.001145</td>\n",
       "      <td>0.146887</td>\n",
       "      <td>-0.878077</td>\n",
       "    </tr>\n",
       "  </tbody>\n",
       "</table>\n",
       "</div>"
      ],
      "text/plain": [
       "          A         B         C         D\n",
       "0  0.318063 -0.140024  0.573046  2.269956\n",
       "1 -0.601322 -0.133527 -0.082446  0.329966\n",
       "2 -0.909756  0.420760 -1.518585 -0.953904\n",
       "3 -1.484143  1.271122 -0.277594  2.174210\n",
       "4 -0.910162  0.436971  0.686353 -1.183539\n",
       "5  0.413849  1.116396 -0.163645  0.633838\n",
       "6  0.421300 -1.197002  2.742752 -0.061365\n",
       "7 -2.298392 -0.001145  0.146887 -0.878077"
      ]
     },
     "execution_count": 126,
     "metadata": {},
     "output_type": "execute_result"
    }
   ],
   "source": [
    "df"
   ]
  },
  {
   "cell_type": "code",
   "execution_count": 127,
   "id": "e095dea9",
   "metadata": {},
   "outputs": [],
   "source": [
    "s=df.iloc[3]"
   ]
  },
  {
   "cell_type": "code",
   "execution_count": 128,
   "id": "2b6848eb",
   "metadata": {},
   "outputs": [
    {
     "data": {
      "text/plain": [
       "A   -1.484143\n",
       "B    1.271122\n",
       "C   -0.277594\n",
       "D    2.174210\n",
       "Name: 3, dtype: float64"
      ]
     },
     "execution_count": 128,
     "metadata": {},
     "output_type": "execute_result"
    }
   ],
   "source": [
    "s"
   ]
  },
  {
   "cell_type": "code",
   "execution_count": 129,
   "id": "ab119bd5",
   "metadata": {},
   "outputs": [
    {
     "name": "stderr",
     "output_type": "stream",
     "text": [
      "C:\\Users\\shrey\\AppData\\Local\\Temp\\ipykernel_6272\\1925300445.py:1: FutureWarning: The frame.append method is deprecated and will be removed from pandas in a future version. Use pandas.concat instead.\n",
      "  df.append(s,ignore_index=True)\n"
     ]
    },
    {
     "data": {
      "text/html": [
       "<div>\n",
       "<style scoped>\n",
       "    .dataframe tbody tr th:only-of-type {\n",
       "        vertical-align: middle;\n",
       "    }\n",
       "\n",
       "    .dataframe tbody tr th {\n",
       "        vertical-align: top;\n",
       "    }\n",
       "\n",
       "    .dataframe thead th {\n",
       "        text-align: right;\n",
       "    }\n",
       "</style>\n",
       "<table border=\"1\" class=\"dataframe\">\n",
       "  <thead>\n",
       "    <tr style=\"text-align: right;\">\n",
       "      <th></th>\n",
       "      <th>A</th>\n",
       "      <th>B</th>\n",
       "      <th>C</th>\n",
       "      <th>D</th>\n",
       "    </tr>\n",
       "  </thead>\n",
       "  <tbody>\n",
       "    <tr>\n",
       "      <th>0</th>\n",
       "      <td>0.318063</td>\n",
       "      <td>-0.140024</td>\n",
       "      <td>0.573046</td>\n",
       "      <td>2.269956</td>\n",
       "    </tr>\n",
       "    <tr>\n",
       "      <th>1</th>\n",
       "      <td>-0.601322</td>\n",
       "      <td>-0.133527</td>\n",
       "      <td>-0.082446</td>\n",
       "      <td>0.329966</td>\n",
       "    </tr>\n",
       "    <tr>\n",
       "      <th>2</th>\n",
       "      <td>-0.909756</td>\n",
       "      <td>0.420760</td>\n",
       "      <td>-1.518585</td>\n",
       "      <td>-0.953904</td>\n",
       "    </tr>\n",
       "    <tr>\n",
       "      <th>3</th>\n",
       "      <td>-1.484143</td>\n",
       "      <td>1.271122</td>\n",
       "      <td>-0.277594</td>\n",
       "      <td>2.174210</td>\n",
       "    </tr>\n",
       "    <tr>\n",
       "      <th>4</th>\n",
       "      <td>-0.910162</td>\n",
       "      <td>0.436971</td>\n",
       "      <td>0.686353</td>\n",
       "      <td>-1.183539</td>\n",
       "    </tr>\n",
       "    <tr>\n",
       "      <th>5</th>\n",
       "      <td>0.413849</td>\n",
       "      <td>1.116396</td>\n",
       "      <td>-0.163645</td>\n",
       "      <td>0.633838</td>\n",
       "    </tr>\n",
       "    <tr>\n",
       "      <th>6</th>\n",
       "      <td>0.421300</td>\n",
       "      <td>-1.197002</td>\n",
       "      <td>2.742752</td>\n",
       "      <td>-0.061365</td>\n",
       "    </tr>\n",
       "    <tr>\n",
       "      <th>7</th>\n",
       "      <td>-2.298392</td>\n",
       "      <td>-0.001145</td>\n",
       "      <td>0.146887</td>\n",
       "      <td>-0.878077</td>\n",
       "    </tr>\n",
       "    <tr>\n",
       "      <th>8</th>\n",
       "      <td>-1.484143</td>\n",
       "      <td>1.271122</td>\n",
       "      <td>-0.277594</td>\n",
       "      <td>2.174210</td>\n",
       "    </tr>\n",
       "  </tbody>\n",
       "</table>\n",
       "</div>"
      ],
      "text/plain": [
       "          A         B         C         D\n",
       "0  0.318063 -0.140024  0.573046  2.269956\n",
       "1 -0.601322 -0.133527 -0.082446  0.329966\n",
       "2 -0.909756  0.420760 -1.518585 -0.953904\n",
       "3 -1.484143  1.271122 -0.277594  2.174210\n",
       "4 -0.910162  0.436971  0.686353 -1.183539\n",
       "5  0.413849  1.116396 -0.163645  0.633838\n",
       "6  0.421300 -1.197002  2.742752 -0.061365\n",
       "7 -2.298392 -0.001145  0.146887 -0.878077\n",
       "8 -1.484143  1.271122 -0.277594  2.174210"
      ]
     },
     "execution_count": 129,
     "metadata": {},
     "output_type": "execute_result"
    }
   ],
   "source": [
    "df.append(s,ignore_index=True)"
   ]
  },
  {
   "cell_type": "code",
   "execution_count": 133,
   "id": "cd623cf1",
   "metadata": {},
   "outputs": [],
   "source": [
    "df=pd.DataFrame({'A':['foo','bar','foo','bar','foo','bar','foo','foo'],\n",
    "                 'B':['one','one','two','three','two','one','three','four'],\n",
    "                 'C':np.random.randn(8),\n",
    "                 'D':np.random.randn(8)})"
   ]
  },
  {
   "cell_type": "code",
   "execution_count": 134,
   "id": "8080716d",
   "metadata": {},
   "outputs": [
    {
     "data": {
      "text/html": [
       "<div>\n",
       "<style scoped>\n",
       "    .dataframe tbody tr th:only-of-type {\n",
       "        vertical-align: middle;\n",
       "    }\n",
       "\n",
       "    .dataframe tbody tr th {\n",
       "        vertical-align: top;\n",
       "    }\n",
       "\n",
       "    .dataframe thead th {\n",
       "        text-align: right;\n",
       "    }\n",
       "</style>\n",
       "<table border=\"1\" class=\"dataframe\">\n",
       "  <thead>\n",
       "    <tr style=\"text-align: right;\">\n",
       "      <th></th>\n",
       "      <th>A</th>\n",
       "      <th>B</th>\n",
       "      <th>C</th>\n",
       "      <th>D</th>\n",
       "    </tr>\n",
       "  </thead>\n",
       "  <tbody>\n",
       "    <tr>\n",
       "      <th>0</th>\n",
       "      <td>foo</td>\n",
       "      <td>one</td>\n",
       "      <td>0.977961</td>\n",
       "      <td>0.262066</td>\n",
       "    </tr>\n",
       "    <tr>\n",
       "      <th>1</th>\n",
       "      <td>bar</td>\n",
       "      <td>one</td>\n",
       "      <td>2.411721</td>\n",
       "      <td>-0.141575</td>\n",
       "    </tr>\n",
       "    <tr>\n",
       "      <th>2</th>\n",
       "      <td>foo</td>\n",
       "      <td>two</td>\n",
       "      <td>1.029066</td>\n",
       "      <td>0.782481</td>\n",
       "    </tr>\n",
       "    <tr>\n",
       "      <th>3</th>\n",
       "      <td>bar</td>\n",
       "      <td>three</td>\n",
       "      <td>-2.064708</td>\n",
       "      <td>0.026524</td>\n",
       "    </tr>\n",
       "    <tr>\n",
       "      <th>4</th>\n",
       "      <td>foo</td>\n",
       "      <td>two</td>\n",
       "      <td>-0.334142</td>\n",
       "      <td>-0.415285</td>\n",
       "    </tr>\n",
       "    <tr>\n",
       "      <th>5</th>\n",
       "      <td>bar</td>\n",
       "      <td>one</td>\n",
       "      <td>0.146398</td>\n",
       "      <td>-0.961612</td>\n",
       "    </tr>\n",
       "    <tr>\n",
       "      <th>6</th>\n",
       "      <td>foo</td>\n",
       "      <td>three</td>\n",
       "      <td>0.167416</td>\n",
       "      <td>-0.124956</td>\n",
       "    </tr>\n",
       "    <tr>\n",
       "      <th>7</th>\n",
       "      <td>foo</td>\n",
       "      <td>four</td>\n",
       "      <td>-1.139198</td>\n",
       "      <td>-0.543729</td>\n",
       "    </tr>\n",
       "  </tbody>\n",
       "</table>\n",
       "</div>"
      ],
      "text/plain": [
       "     A      B         C         D\n",
       "0  foo    one  0.977961  0.262066\n",
       "1  bar    one  2.411721 -0.141575\n",
       "2  foo    two  1.029066  0.782481\n",
       "3  bar  three -2.064708  0.026524\n",
       "4  foo    two -0.334142 -0.415285\n",
       "5  bar    one  0.146398 -0.961612\n",
       "6  foo  three  0.167416 -0.124956\n",
       "7  foo   four -1.139198 -0.543729"
      ]
     },
     "execution_count": 134,
     "metadata": {},
     "output_type": "execute_result"
    }
   ],
   "source": [
    "df"
   ]
  },
  {
   "cell_type": "code",
   "execution_count": 135,
   "id": "c1606c1d",
   "metadata": {},
   "outputs": [
    {
     "data": {
      "text/html": [
       "<div>\n",
       "<style scoped>\n",
       "    .dataframe tbody tr th:only-of-type {\n",
       "        vertical-align: middle;\n",
       "    }\n",
       "\n",
       "    .dataframe tbody tr th {\n",
       "        vertical-align: top;\n",
       "    }\n",
       "\n",
       "    .dataframe thead th {\n",
       "        text-align: right;\n",
       "    }\n",
       "</style>\n",
       "<table border=\"1\" class=\"dataframe\">\n",
       "  <thead>\n",
       "    <tr style=\"text-align: right;\">\n",
       "      <th></th>\n",
       "      <th>C</th>\n",
       "      <th>D</th>\n",
       "    </tr>\n",
       "    <tr>\n",
       "      <th>A</th>\n",
       "      <th></th>\n",
       "      <th></th>\n",
       "    </tr>\n",
       "  </thead>\n",
       "  <tbody>\n",
       "    <tr>\n",
       "      <th>bar</th>\n",
       "      <td>0.493411</td>\n",
       "      <td>-1.076663</td>\n",
       "    </tr>\n",
       "    <tr>\n",
       "      <th>foo</th>\n",
       "      <td>0.701103</td>\n",
       "      <td>-0.039423</td>\n",
       "    </tr>\n",
       "  </tbody>\n",
       "</table>\n",
       "</div>"
      ],
      "text/plain": [
       "            C         D\n",
       "A                      \n",
       "bar  0.493411 -1.076663\n",
       "foo  0.701103 -0.039423"
      ]
     },
     "execution_count": 135,
     "metadata": {},
     "output_type": "execute_result"
    }
   ],
   "source": [
    "df.groupby('A').sum()"
   ]
  },
  {
   "cell_type": "code",
   "execution_count": 136,
   "id": "2accee23",
   "metadata": {
    "scrolled": true
   },
   "outputs": [
    {
     "data": {
      "text/html": [
       "<div>\n",
       "<style scoped>\n",
       "    .dataframe tbody tr th:only-of-type {\n",
       "        vertical-align: middle;\n",
       "    }\n",
       "\n",
       "    .dataframe tbody tr th {\n",
       "        vertical-align: top;\n",
       "    }\n",
       "\n",
       "    .dataframe thead th {\n",
       "        text-align: right;\n",
       "    }\n",
       "</style>\n",
       "<table border=\"1\" class=\"dataframe\">\n",
       "  <thead>\n",
       "    <tr style=\"text-align: right;\">\n",
       "      <th></th>\n",
       "      <th></th>\n",
       "      <th>C</th>\n",
       "      <th>D</th>\n",
       "    </tr>\n",
       "    <tr>\n",
       "      <th>A</th>\n",
       "      <th>B</th>\n",
       "      <th></th>\n",
       "      <th></th>\n",
       "    </tr>\n",
       "  </thead>\n",
       "  <tbody>\n",
       "    <tr>\n",
       "      <th rowspan=\"2\" valign=\"top\">bar</th>\n",
       "      <th>one</th>\n",
       "      <td>2.558119</td>\n",
       "      <td>-1.103187</td>\n",
       "    </tr>\n",
       "    <tr>\n",
       "      <th>three</th>\n",
       "      <td>-2.064708</td>\n",
       "      <td>0.026524</td>\n",
       "    </tr>\n",
       "    <tr>\n",
       "      <th rowspan=\"4\" valign=\"top\">foo</th>\n",
       "      <th>four</th>\n",
       "      <td>-1.139198</td>\n",
       "      <td>-0.543729</td>\n",
       "    </tr>\n",
       "    <tr>\n",
       "      <th>one</th>\n",
       "      <td>0.977961</td>\n",
       "      <td>0.262066</td>\n",
       "    </tr>\n",
       "    <tr>\n",
       "      <th>three</th>\n",
       "      <td>0.167416</td>\n",
       "      <td>-0.124956</td>\n",
       "    </tr>\n",
       "    <tr>\n",
       "      <th>two</th>\n",
       "      <td>0.694924</td>\n",
       "      <td>0.367195</td>\n",
       "    </tr>\n",
       "  </tbody>\n",
       "</table>\n",
       "</div>"
      ],
      "text/plain": [
       "                  C         D\n",
       "A   B                        \n",
       "bar one    2.558119 -1.103187\n",
       "    three -2.064708  0.026524\n",
       "foo four  -1.139198 -0.543729\n",
       "    one    0.977961  0.262066\n",
       "    three  0.167416 -0.124956\n",
       "    two    0.694924  0.367195"
      ]
     },
     "execution_count": 136,
     "metadata": {},
     "output_type": "execute_result"
    }
   ],
   "source": [
    "df.groupby(['A','B']).sum()"
   ]
  },
  {
   "cell_type": "code",
   "execution_count": 142,
   "id": "bdab1490",
   "metadata": {},
   "outputs": [],
   "source": [
    " tuples = list(zip(*[['bar', 'bar', 'baz', 'baz',\n",
    "'foo', 'foo', 'qux', 'qux'],\n",
    "['one', 'two', 'one', 'two',\n",
    "'one', 'two', 'one', 'two']]))"
   ]
  },
  {
   "cell_type": "code",
   "execution_count": 143,
   "id": "bc043c66",
   "metadata": {},
   "outputs": [
    {
     "data": {
      "text/plain": [
       "[('bar', 'one'),\n",
       " ('bar', 'two'),\n",
       " ('baz', 'one'),\n",
       " ('baz', 'two'),\n",
       " ('foo', 'one'),\n",
       " ('foo', 'two'),\n",
       " ('qux', 'one'),\n",
       " ('qux', 'two')]"
      ]
     },
     "execution_count": 143,
     "metadata": {},
     "output_type": "execute_result"
    }
   ],
   "source": [
    "tuples"
   ]
  },
  {
   "cell_type": "code",
   "execution_count": 144,
   "id": "5b08bbf3",
   "metadata": {},
   "outputs": [],
   "source": [
    "index=pd.MultiIndex.from_tuples(tuples,names=['first','second'])"
   ]
  },
  {
   "cell_type": "code",
   "execution_count": 145,
   "id": "20408b5d",
   "metadata": {},
   "outputs": [],
   "source": [
    "df=pd.DataFrame(np.random.randn(8,2))"
   ]
  },
  {
   "cell_type": "code",
   "execution_count": 146,
   "id": "898fdfed",
   "metadata": {},
   "outputs": [
    {
     "data": {
      "text/html": [
       "<div>\n",
       "<style scoped>\n",
       "    .dataframe tbody tr th:only-of-type {\n",
       "        vertical-align: middle;\n",
       "    }\n",
       "\n",
       "    .dataframe tbody tr th {\n",
       "        vertical-align: top;\n",
       "    }\n",
       "\n",
       "    .dataframe thead th {\n",
       "        text-align: right;\n",
       "    }\n",
       "</style>\n",
       "<table border=\"1\" class=\"dataframe\">\n",
       "  <thead>\n",
       "    <tr style=\"text-align: right;\">\n",
       "      <th></th>\n",
       "      <th></th>\n",
       "      <th>A</th>\n",
       "      <th>B</th>\n",
       "    </tr>\n",
       "    <tr>\n",
       "      <th>first</th>\n",
       "      <th>second</th>\n",
       "      <th></th>\n",
       "      <th></th>\n",
       "    </tr>\n",
       "  </thead>\n",
       "  <tbody>\n",
       "    <tr>\n",
       "      <th rowspan=\"2\" valign=\"top\">bar</th>\n",
       "      <th>one</th>\n",
       "      <td>-0.306510</td>\n",
       "      <td>0.989058</td>\n",
       "    </tr>\n",
       "    <tr>\n",
       "      <th>two</th>\n",
       "      <td>-0.658595</td>\n",
       "      <td>-1.218309</td>\n",
       "    </tr>\n",
       "    <tr>\n",
       "      <th rowspan=\"2\" valign=\"top\">baz</th>\n",
       "      <th>one</th>\n",
       "      <td>-1.437617</td>\n",
       "      <td>1.404286</td>\n",
       "    </tr>\n",
       "    <tr>\n",
       "      <th>two</th>\n",
       "      <td>0.376551</td>\n",
       "      <td>-1.531583</td>\n",
       "    </tr>\n",
       "    <tr>\n",
       "      <th rowspan=\"2\" valign=\"top\">foo</th>\n",
       "      <th>one</th>\n",
       "      <td>1.063184</td>\n",
       "      <td>0.092633</td>\n",
       "    </tr>\n",
       "    <tr>\n",
       "      <th>two</th>\n",
       "      <td>0.516110</td>\n",
       "      <td>0.471941</td>\n",
       "    </tr>\n",
       "    <tr>\n",
       "      <th rowspan=\"2\" valign=\"top\">qux</th>\n",
       "      <th>one</th>\n",
       "      <td>-1.012807</td>\n",
       "      <td>0.180631</td>\n",
       "    </tr>\n",
       "    <tr>\n",
       "      <th>two</th>\n",
       "      <td>-0.418060</td>\n",
       "      <td>0.987295</td>\n",
       "    </tr>\n",
       "  </tbody>\n",
       "</table>\n",
       "</div>"
      ],
      "text/plain": [
       "                     A         B\n",
       "first second                    \n",
       "bar   one    -0.306510  0.989058\n",
       "      two    -0.658595 -1.218309\n",
       "baz   one    -1.437617  1.404286\n",
       "      two     0.376551 -1.531583\n",
       "foo   one     1.063184  0.092633\n",
       "      two     0.516110  0.471941\n",
       "qux   one    -1.012807  0.180631\n",
       "      two    -0.418060  0.987295"
      ]
     },
     "execution_count": 146,
     "metadata": {},
     "output_type": "execute_result"
    }
   ],
   "source": [
    "df"
   ]
  },
  {
   "cell_type": "code",
   "execution_count": 147,
   "id": "6cf7c9e1",
   "metadata": {},
   "outputs": [],
   "source": [
    " df2 = df[:4]\n"
   ]
  },
  {
   "cell_type": "code",
   "execution_count": 148,
   "id": "5fa8c711",
   "metadata": {},
   "outputs": [
    {
     "data": {
      "text/html": [
       "<div>\n",
       "<style scoped>\n",
       "    .dataframe tbody tr th:only-of-type {\n",
       "        vertical-align: middle;\n",
       "    }\n",
       "\n",
       "    .dataframe tbody tr th {\n",
       "        vertical-align: top;\n",
       "    }\n",
       "\n",
       "    .dataframe thead th {\n",
       "        text-align: right;\n",
       "    }\n",
       "</style>\n",
       "<table border=\"1\" class=\"dataframe\">\n",
       "  <thead>\n",
       "    <tr style=\"text-align: right;\">\n",
       "      <th></th>\n",
       "      <th></th>\n",
       "      <th>A</th>\n",
       "      <th>B</th>\n",
       "    </tr>\n",
       "    <tr>\n",
       "      <th>first</th>\n",
       "      <th>second</th>\n",
       "      <th></th>\n",
       "      <th></th>\n",
       "    </tr>\n",
       "  </thead>\n",
       "  <tbody>\n",
       "    <tr>\n",
       "      <th rowspan=\"2\" valign=\"top\">bar</th>\n",
       "      <th>one</th>\n",
       "      <td>-0.306510</td>\n",
       "      <td>0.989058</td>\n",
       "    </tr>\n",
       "    <tr>\n",
       "      <th>two</th>\n",
       "      <td>-0.658595</td>\n",
       "      <td>-1.218309</td>\n",
       "    </tr>\n",
       "    <tr>\n",
       "      <th rowspan=\"2\" valign=\"top\">baz</th>\n",
       "      <th>one</th>\n",
       "      <td>-1.437617</td>\n",
       "      <td>1.404286</td>\n",
       "    </tr>\n",
       "    <tr>\n",
       "      <th>two</th>\n",
       "      <td>0.376551</td>\n",
       "      <td>-1.531583</td>\n",
       "    </tr>\n",
       "  </tbody>\n",
       "</table>\n",
       "</div>"
      ],
      "text/plain": [
       "                     A         B\n",
       "first second                    \n",
       "bar   one    -0.306510  0.989058\n",
       "      two    -0.658595 -1.218309\n",
       "baz   one    -1.437617  1.404286\n",
       "      two     0.376551 -1.531583"
      ]
     },
     "execution_count": 148,
     "metadata": {},
     "output_type": "execute_result"
    }
   ],
   "source": [
    "df2"
   ]
  },
  {
   "cell_type": "code",
   "execution_count": 149,
   "id": "8fc4fbaf",
   "metadata": {},
   "outputs": [],
   "source": [
    " stacked = df2.stack()"
   ]
  },
  {
   "cell_type": "code",
   "execution_count": 150,
   "id": "1208ea9a",
   "metadata": {},
   "outputs": [
    {
     "data": {
      "text/plain": [
       "first  second   \n",
       "bar    one     A   -0.306510\n",
       "               B    0.989058\n",
       "       two     A   -0.658595\n",
       "               B   -1.218309\n",
       "baz    one     A   -1.437617\n",
       "               B    1.404286\n",
       "       two     A    0.376551\n",
       "               B   -1.531583\n",
       "dtype: float64"
      ]
     },
     "execution_count": 150,
     "metadata": {},
     "output_type": "execute_result"
    }
   ],
   "source": [
    "stacked"
   ]
  },
  {
   "cell_type": "code",
   "execution_count": 152,
   "id": "2102192c",
   "metadata": {},
   "outputs": [],
   "source": [
    "unstacked=df2.unstack()"
   ]
  },
  {
   "cell_type": "code",
   "execution_count": 153,
   "id": "1c23fbaa",
   "metadata": {},
   "outputs": [
    {
     "data": {
      "text/html": [
       "<div>\n",
       "<style scoped>\n",
       "    .dataframe tbody tr th:only-of-type {\n",
       "        vertical-align: middle;\n",
       "    }\n",
       "\n",
       "    .dataframe tbody tr th {\n",
       "        vertical-align: top;\n",
       "    }\n",
       "\n",
       "    .dataframe thead th {\n",
       "        text-align: right;\n",
       "    }\n",
       "</style>\n",
       "<table border=\"1\" class=\"dataframe\">\n",
       "  <thead>\n",
       "    <tr style=\"text-align: right;\">\n",
       "      <th></th>\n",
       "      <th></th>\n",
       "      <th>A</th>\n",
       "      <th>B</th>\n",
       "    </tr>\n",
       "    <tr>\n",
       "      <th>first</th>\n",
       "      <th>second</th>\n",
       "      <th></th>\n",
       "      <th></th>\n",
       "    </tr>\n",
       "  </thead>\n",
       "  <tbody>\n",
       "    <tr>\n",
       "      <th rowspan=\"2\" valign=\"top\">bar</th>\n",
       "      <th>one</th>\n",
       "      <td>-0.306510</td>\n",
       "      <td>0.989058</td>\n",
       "    </tr>\n",
       "    <tr>\n",
       "      <th>two</th>\n",
       "      <td>-0.658595</td>\n",
       "      <td>-1.218309</td>\n",
       "    </tr>\n",
       "    <tr>\n",
       "      <th rowspan=\"2\" valign=\"top\">baz</th>\n",
       "      <th>one</th>\n",
       "      <td>-1.437617</td>\n",
       "      <td>1.404286</td>\n",
       "    </tr>\n",
       "    <tr>\n",
       "      <th>two</th>\n",
       "      <td>0.376551</td>\n",
       "      <td>-1.531583</td>\n",
       "    </tr>\n",
       "  </tbody>\n",
       "</table>\n",
       "</div>"
      ],
      "text/plain": [
       "                     A         B\n",
       "first second                    \n",
       "bar   one    -0.306510  0.989058\n",
       "      two    -0.658595 -1.218309\n",
       "baz   one    -1.437617  1.404286\n",
       "      two     0.376551 -1.531583"
      ]
     },
     "execution_count": 153,
     "metadata": {},
     "output_type": "execute_result"
    }
   ],
   "source": [
    "df2"
   ]
  },
  {
   "cell_type": "code",
   "execution_count": 154,
   "id": "47f5814a",
   "metadata": {},
   "outputs": [
    {
     "data": {
      "text/html": [
       "<div>\n",
       "<style scoped>\n",
       "    .dataframe tbody tr th:only-of-type {\n",
       "        vertical-align: middle;\n",
       "    }\n",
       "\n",
       "    .dataframe tbody tr th {\n",
       "        vertical-align: top;\n",
       "    }\n",
       "\n",
       "    .dataframe thead tr th {\n",
       "        text-align: left;\n",
       "    }\n",
       "\n",
       "    .dataframe thead tr:last-of-type th {\n",
       "        text-align: right;\n",
       "    }\n",
       "</style>\n",
       "<table border=\"1\" class=\"dataframe\">\n",
       "  <thead>\n",
       "    <tr>\n",
       "      <th></th>\n",
       "      <th colspan=\"2\" halign=\"left\">A</th>\n",
       "      <th colspan=\"2\" halign=\"left\">B</th>\n",
       "    </tr>\n",
       "    <tr>\n",
       "      <th>first</th>\n",
       "      <th>bar</th>\n",
       "      <th>baz</th>\n",
       "      <th>bar</th>\n",
       "      <th>baz</th>\n",
       "    </tr>\n",
       "    <tr>\n",
       "      <th>second</th>\n",
       "      <th></th>\n",
       "      <th></th>\n",
       "      <th></th>\n",
       "      <th></th>\n",
       "    </tr>\n",
       "  </thead>\n",
       "  <tbody>\n",
       "    <tr>\n",
       "      <th>one</th>\n",
       "      <td>-0.306510</td>\n",
       "      <td>-1.437617</td>\n",
       "      <td>0.989058</td>\n",
       "      <td>1.404286</td>\n",
       "    </tr>\n",
       "    <tr>\n",
       "      <th>two</th>\n",
       "      <td>-0.658595</td>\n",
       "      <td>0.376551</td>\n",
       "      <td>-1.218309</td>\n",
       "      <td>-1.531583</td>\n",
       "    </tr>\n",
       "  </tbody>\n",
       "</table>\n",
       "</div>"
      ],
      "text/plain": [
       "               A                   B          \n",
       "first        bar       baz       bar       baz\n",
       "second                                        \n",
       "one    -0.306510 -1.437617  0.989058  1.404286\n",
       "two    -0.658595  0.376551 -1.218309 -1.531583"
      ]
     },
     "execution_count": 154,
     "metadata": {},
     "output_type": "execute_result"
    }
   ],
   "source": [
    "df2.unstack(0)"
   ]
  },
  {
   "cell_type": "code",
   "execution_count": 157,
   "id": "9cf8f582",
   "metadata": {},
   "outputs": [],
   "source": [
    " df = pd.DataFrame({'A' : ['one', 'one', 'two', 'three'] * 3,\n",
    " 'B' : ['A', 'B', 'C'] * 4,\n",
    " 'C' : ['foo', 'foo', 'foo', 'bar', 'bar', 'bar'] * 2,\n",
    " 'D' : np.random.randn(12),\n",
    " 'E' : np.random.randn(12)})"
   ]
  },
  {
   "cell_type": "code",
   "execution_count": 158,
   "id": "deb125a4",
   "metadata": {},
   "outputs": [
    {
     "data": {
      "text/html": [
       "<div>\n",
       "<style scoped>\n",
       "    .dataframe tbody tr th:only-of-type {\n",
       "        vertical-align: middle;\n",
       "    }\n",
       "\n",
       "    .dataframe tbody tr th {\n",
       "        vertical-align: top;\n",
       "    }\n",
       "\n",
       "    .dataframe thead th {\n",
       "        text-align: right;\n",
       "    }\n",
       "</style>\n",
       "<table border=\"1\" class=\"dataframe\">\n",
       "  <thead>\n",
       "    <tr style=\"text-align: right;\">\n",
       "      <th></th>\n",
       "      <th>A</th>\n",
       "      <th>B</th>\n",
       "      <th>C</th>\n",
       "      <th>D</th>\n",
       "      <th>E</th>\n",
       "    </tr>\n",
       "  </thead>\n",
       "  <tbody>\n",
       "    <tr>\n",
       "      <th>0</th>\n",
       "      <td>one</td>\n",
       "      <td>A</td>\n",
       "      <td>foo</td>\n",
       "      <td>-0.505452</td>\n",
       "      <td>1.600782</td>\n",
       "    </tr>\n",
       "    <tr>\n",
       "      <th>1</th>\n",
       "      <td>one</td>\n",
       "      <td>B</td>\n",
       "      <td>foo</td>\n",
       "      <td>-0.160185</td>\n",
       "      <td>0.328930</td>\n",
       "    </tr>\n",
       "    <tr>\n",
       "      <th>2</th>\n",
       "      <td>two</td>\n",
       "      <td>C</td>\n",
       "      <td>foo</td>\n",
       "      <td>1.542579</td>\n",
       "      <td>-0.705914</td>\n",
       "    </tr>\n",
       "    <tr>\n",
       "      <th>3</th>\n",
       "      <td>three</td>\n",
       "      <td>A</td>\n",
       "      <td>bar</td>\n",
       "      <td>-1.996335</td>\n",
       "      <td>0.545986</td>\n",
       "    </tr>\n",
       "    <tr>\n",
       "      <th>4</th>\n",
       "      <td>one</td>\n",
       "      <td>B</td>\n",
       "      <td>bar</td>\n",
       "      <td>-1.079343</td>\n",
       "      <td>-1.196209</td>\n",
       "    </tr>\n",
       "    <tr>\n",
       "      <th>5</th>\n",
       "      <td>one</td>\n",
       "      <td>C</td>\n",
       "      <td>bar</td>\n",
       "      <td>0.030159</td>\n",
       "      <td>-0.269255</td>\n",
       "    </tr>\n",
       "    <tr>\n",
       "      <th>6</th>\n",
       "      <td>two</td>\n",
       "      <td>A</td>\n",
       "      <td>foo</td>\n",
       "      <td>0.703534</td>\n",
       "      <td>3.904578</td>\n",
       "    </tr>\n",
       "    <tr>\n",
       "      <th>7</th>\n",
       "      <td>three</td>\n",
       "      <td>B</td>\n",
       "      <td>foo</td>\n",
       "      <td>-0.678815</td>\n",
       "      <td>-0.761068</td>\n",
       "    </tr>\n",
       "    <tr>\n",
       "      <th>8</th>\n",
       "      <td>one</td>\n",
       "      <td>C</td>\n",
       "      <td>foo</td>\n",
       "      <td>-0.101380</td>\n",
       "      <td>0.264396</td>\n",
       "    </tr>\n",
       "    <tr>\n",
       "      <th>9</th>\n",
       "      <td>one</td>\n",
       "      <td>A</td>\n",
       "      <td>bar</td>\n",
       "      <td>0.557026</td>\n",
       "      <td>0.440817</td>\n",
       "    </tr>\n",
       "    <tr>\n",
       "      <th>10</th>\n",
       "      <td>two</td>\n",
       "      <td>B</td>\n",
       "      <td>bar</td>\n",
       "      <td>-0.454896</td>\n",
       "      <td>-1.787285</td>\n",
       "    </tr>\n",
       "    <tr>\n",
       "      <th>11</th>\n",
       "      <td>three</td>\n",
       "      <td>C</td>\n",
       "      <td>bar</td>\n",
       "      <td>1.032341</td>\n",
       "      <td>0.179440</td>\n",
       "    </tr>\n",
       "  </tbody>\n",
       "</table>\n",
       "</div>"
      ],
      "text/plain": [
       "        A  B    C         D         E\n",
       "0     one  A  foo -0.505452  1.600782\n",
       "1     one  B  foo -0.160185  0.328930\n",
       "2     two  C  foo  1.542579 -0.705914\n",
       "3   three  A  bar -1.996335  0.545986\n",
       "4     one  B  bar -1.079343 -1.196209\n",
       "5     one  C  bar  0.030159 -0.269255\n",
       "6     two  A  foo  0.703534  3.904578\n",
       "7   three  B  foo -0.678815 -0.761068\n",
       "8     one  C  foo -0.101380  0.264396\n",
       "9     one  A  bar  0.557026  0.440817\n",
       "10    two  B  bar -0.454896 -1.787285\n",
       "11  three  C  bar  1.032341  0.179440"
      ]
     },
     "execution_count": 158,
     "metadata": {},
     "output_type": "execute_result"
    }
   ],
   "source": [
    "df"
   ]
  },
  {
   "cell_type": "code",
   "execution_count": 161,
   "id": "c68e4ea6",
   "metadata": {},
   "outputs": [
    {
     "data": {
      "text/html": [
       "<div>\n",
       "<style scoped>\n",
       "    .dataframe tbody tr th:only-of-type {\n",
       "        vertical-align: middle;\n",
       "    }\n",
       "\n",
       "    .dataframe tbody tr th {\n",
       "        vertical-align: top;\n",
       "    }\n",
       "\n",
       "    .dataframe thead tr th {\n",
       "        text-align: left;\n",
       "    }\n",
       "\n",
       "    .dataframe thead tr:last-of-type th {\n",
       "        text-align: right;\n",
       "    }\n",
       "</style>\n",
       "<table border=\"1\" class=\"dataframe\">\n",
       "  <thead>\n",
       "    <tr>\n",
       "      <th></th>\n",
       "      <th></th>\n",
       "      <th colspan=\"2\" halign=\"left\">D</th>\n",
       "      <th colspan=\"2\" halign=\"left\">E</th>\n",
       "    </tr>\n",
       "    <tr>\n",
       "      <th></th>\n",
       "      <th>C</th>\n",
       "      <th>bar</th>\n",
       "      <th>foo</th>\n",
       "      <th>bar</th>\n",
       "      <th>foo</th>\n",
       "    </tr>\n",
       "    <tr>\n",
       "      <th>A</th>\n",
       "      <th>B</th>\n",
       "      <th></th>\n",
       "      <th></th>\n",
       "      <th></th>\n",
       "      <th></th>\n",
       "    </tr>\n",
       "  </thead>\n",
       "  <tbody>\n",
       "    <tr>\n",
       "      <th rowspan=\"3\" valign=\"top\">one</th>\n",
       "      <th>A</th>\n",
       "      <td>0.557026</td>\n",
       "      <td>-0.505452</td>\n",
       "      <td>0.440817</td>\n",
       "      <td>1.600782</td>\n",
       "    </tr>\n",
       "    <tr>\n",
       "      <th>B</th>\n",
       "      <td>-1.079343</td>\n",
       "      <td>-0.160185</td>\n",
       "      <td>-1.196209</td>\n",
       "      <td>0.328930</td>\n",
       "    </tr>\n",
       "    <tr>\n",
       "      <th>C</th>\n",
       "      <td>0.030159</td>\n",
       "      <td>-0.101380</td>\n",
       "      <td>-0.269255</td>\n",
       "      <td>0.264396</td>\n",
       "    </tr>\n",
       "    <tr>\n",
       "      <th rowspan=\"3\" valign=\"top\">three</th>\n",
       "      <th>A</th>\n",
       "      <td>-1.996335</td>\n",
       "      <td>NaN</td>\n",
       "      <td>0.545986</td>\n",
       "      <td>NaN</td>\n",
       "    </tr>\n",
       "    <tr>\n",
       "      <th>B</th>\n",
       "      <td>NaN</td>\n",
       "      <td>-0.678815</td>\n",
       "      <td>NaN</td>\n",
       "      <td>-0.761068</td>\n",
       "    </tr>\n",
       "    <tr>\n",
       "      <th>C</th>\n",
       "      <td>1.032341</td>\n",
       "      <td>NaN</td>\n",
       "      <td>0.179440</td>\n",
       "      <td>NaN</td>\n",
       "    </tr>\n",
       "    <tr>\n",
       "      <th rowspan=\"3\" valign=\"top\">two</th>\n",
       "      <th>A</th>\n",
       "      <td>NaN</td>\n",
       "      <td>0.703534</td>\n",
       "      <td>NaN</td>\n",
       "      <td>3.904578</td>\n",
       "    </tr>\n",
       "    <tr>\n",
       "      <th>B</th>\n",
       "      <td>-0.454896</td>\n",
       "      <td>NaN</td>\n",
       "      <td>-1.787285</td>\n",
       "      <td>NaN</td>\n",
       "    </tr>\n",
       "    <tr>\n",
       "      <th>C</th>\n",
       "      <td>NaN</td>\n",
       "      <td>1.542579</td>\n",
       "      <td>NaN</td>\n",
       "      <td>-0.705914</td>\n",
       "    </tr>\n",
       "  </tbody>\n",
       "</table>\n",
       "</div>"
      ],
      "text/plain": [
       "                D                   E          \n",
       "C             bar       foo       bar       foo\n",
       "A     B                                        \n",
       "one   A  0.557026 -0.505452  0.440817  1.600782\n",
       "      B -1.079343 -0.160185 -1.196209  0.328930\n",
       "      C  0.030159 -0.101380 -0.269255  0.264396\n",
       "three A -1.996335       NaN  0.545986       NaN\n",
       "      B       NaN -0.678815       NaN -0.761068\n",
       "      C  1.032341       NaN  0.179440       NaN\n",
       "two   A       NaN  0.703534       NaN  3.904578\n",
       "      B -0.454896       NaN -1.787285       NaN\n",
       "      C       NaN  1.542579       NaN -0.705914"
      ]
     },
     "execution_count": 161,
     "metadata": {},
     "output_type": "execute_result"
    }
   ],
   "source": [
    " pd.pivot_table(df, values=['E','D'], index=['A', 'B'], columns=['C'])"
   ]
  },
  {
   "cell_type": "code",
   "execution_count": null,
   "id": "57014a9b",
   "metadata": {},
   "outputs": [],
   "source": []
  }
 ],
 "metadata": {
  "kernelspec": {
   "display_name": "Python 3 (ipykernel)",
   "language": "python",
   "name": "python3"
  },
  "language_info": {
   "codemirror_mode": {
    "name": "ipython",
    "version": 3
   },
   "file_extension": ".py",
   "mimetype": "text/x-python",
   "name": "python",
   "nbconvert_exporter": "python",
   "pygments_lexer": "ipython3",
   "version": "3.9.12"
  }
 },
 "nbformat": 4,
 "nbformat_minor": 5
}
