{
 "cells": [
  {
   "cell_type": "code",
   "execution_count": 9,
   "id": "7c350a33",
   "metadata": {},
   "outputs": [
    {
     "name": "stdout",
     "output_type": "stream",
     "text": [
      "mango  likes  Shreya\n"
     ]
    }
   ],
   "source": [
    "string=\"Shreya likes mango\"\n",
    "s=string.split()[::-1]\n",
    "l=[]\n",
    "for i in s:\n",
    "    l.append(i)\n",
    "print(\"  \".join(l))"
   ]
  },
  {
   "cell_type": "code",
   "execution_count": 16,
   "id": "76ebb0b8",
   "metadata": {},
   "outputs": [],
   "source": [
    "def reverse_strng(string):\n",
    "    s=string.split()[::-1]\n",
    "    l=[]\n",
    "    for i in s:\n",
    "        l.append(i)\n",
    "    print(\"  \".join(l))   "
   ]
  },
  {
   "cell_type": "code",
   "execution_count": 28,
   "id": "dd93a6f0",
   "metadata": {},
   "outputs": [],
   "source": [
    "string=\"Shreya likes mango\""
   ]
  },
  {
   "cell_type": "code",
   "execution_count": 18,
   "id": "bee82783",
   "metadata": {},
   "outputs": [
    {
     "name": "stdout",
     "output_type": "stream",
     "text": [
      "mango  likes  Shreya\n"
     ]
    }
   ],
   "source": [
    "reverse_strng(string)"
   ]
  },
  {
   "cell_type": "code",
   "execution_count": 31,
   "id": "8a904e54",
   "metadata": {},
   "outputs": [
    {
     "name": "stdout",
     "output_type": "stream",
     "text": [
      "10\n"
     ]
    }
   ],
   "source": [
    "str=\"geeks html\"\n",
    "print(len(str))"
   ]
  },
  {
   "cell_type": "code",
   "execution_count": 32,
   "id": "7e7e5ae2",
   "metadata": {},
   "outputs": [
    {
     "name": "stdout",
     "output_type": "stream",
     "text": [
      "This\n",
      "is\n",
      "python\n",
      "language\n"
     ]
    }
   ],
   "source": [
    "n=\"This is a python language\"\n",
    "s=n.split(\" \")\n",
    "for i in s:\n",
    "    if len(i)%2==0:\n",
    "        print(i)\n"
   ]
  },
  {
   "cell_type": "code",
   "execution_count": 34,
   "id": "8b2a26b3",
   "metadata": {},
   "outputs": [
    {
     "name": "stdout",
     "output_type": "stream",
     "text": [
      "My\n",
      "name\n",
      "is\n"
     ]
    }
   ],
   "source": [
    "n=\"My name is shree\"\n",
    "s=n.split()\n",
    "for i in s:\n",
    "    if len(i)%2==0:\n",
    "        print(i)"
   ]
  },
  {
   "cell_type": "code",
   "execution_count": 38,
   "id": "4c2d70e1",
   "metadata": {},
   "outputs": [
    {
     "name": "stdout",
     "output_type": "stream",
     "text": [
      "True\n",
      "False\n",
      "False\n",
      "True\n"
     ]
    }
   ],
   "source": [
    "def checkString(str):\n",
    "    flag_l=False\n",
    "    flag_n=False\n",
    "    for i in str:\n",
    "        if i in \"abcdefghijklmnopqrstuvwxyz\":\n",
    "            flag_l=True\n",
    "        if i in \"0123456789\":\n",
    "            flag_n=True\n",
    "    return flag_l and flag_n\n",
    "print(checkString('thishaboth29'))\n",
    "print(checkString('geeksforgeeks'))\n",
    "print(checkString('1234567890'))\n",
    "print(checkString('shreya2123'))"
   ]
  },
  {
   "cell_type": "code",
   "execution_count": 42,
   "id": "5b11389b",
   "metadata": {},
   "outputs": [
    {
     "ename": "SyntaxError",
     "evalue": "invalid syntax (866549622.py, line 6)",
     "output_type": "error",
     "traceback": [
      "\u001b[1;36m  Input \u001b[1;32mIn [42]\u001b[1;36m\u001b[0m\n\u001b[1;33m    if _ _name_ _=\"_ _main_ _\":\u001b[0m\n\u001b[1;37m         ^\u001b[0m\n\u001b[1;31mSyntaxError\u001b[0m\u001b[1;31m:\u001b[0m invalid syntax\n"
     ]
    }
   ],
   "source": [
    "def check(string):\n",
    "    if len(set(string.lower()).intersection(\"aeiou\"))>=5:\n",
    "        return('accepted')\n",
    "    else:\n",
    "        return(\"not accepted\")\n",
    "if _ _name_ _=\"_ _main_ _\":\n",
    "    string=\"geeksforgeeks\"\n",
    "    print(check(string))"
   ]
  },
  {
   "cell_type": "code",
   "execution_count": null,
   "id": "ca03db70",
   "metadata": {},
   "outputs": [],
   "source": []
  },
  {
   "cell_type": "code",
   "execution_count": 18,
   "id": "e8e28ec3",
   "metadata": {},
   "outputs": [],
   "source": []
  },
  {
   "cell_type": "code",
   "execution_count": 3,
   "id": "833c52e6",
   "metadata": {},
   "outputs": [
    {
     "name": "stdout",
     "output_type": "stream",
     "text": [
      "6\n",
      "shree\n",
      "<class 'list'>1,2,3\n"
     ]
    }
   ],
   "source": [
    "n=int(input())\n",
    "s={}\n",
    "name=input()\n",
    "number=input(list)\n",
    "s=({name,number})"
   ]
  },
  {
   "cell_type": "code",
   "execution_count": 2,
   "id": "debe0b05",
   "metadata": {},
   "outputs": [],
   "source": [
    "def print_full_name(first, last):\n",
    "    # Write your code here\n",
    "    print(\"Hello \"+first+\" \"+last+\"! You just delved into python.\")"
   ]
  },
  {
   "cell_type": "code",
   "execution_count": 5,
   "id": "9cfa89cc",
   "metadata": {},
   "outputs": [],
   "source": [
    "first=\"shreya\"\n",
    "last=\"guggare\""
   ]
  },
  {
   "cell_type": "code",
   "execution_count": 6,
   "id": "08a7edf0",
   "metadata": {},
   "outputs": [
    {
     "name": "stdout",
     "output_type": "stream",
     "text": [
      "Hello shreya guggare! You just delved into python.\n"
     ]
    }
   ],
   "source": [
    "print_full_name(first, last)"
   ]
  },
  {
   "cell_type": "code",
   "execution_count": null,
   "id": "477de124",
   "metadata": {},
   "outputs": [],
   "source": []
  },
  {
   "cell_type": "code",
   "execution_count": null,
   "id": "1387855a",
   "metadata": {},
   "outputs": [],
   "source": []
  },
  {
   "cell_type": "code",
   "execution_count": null,
   "id": "62298572",
   "metadata": {},
   "outputs": [],
   "source": []
  },
  {
   "cell_type": "code",
   "execution_count": null,
   "id": "1ea022af",
   "metadata": {},
   "outputs": [],
   "source": []
  },
  {
   "cell_type": "code",
   "execution_count": null,
   "id": "d32f2992",
   "metadata": {},
   "outputs": [],
   "source": []
  },
  {
   "cell_type": "code",
   "execution_count": null,
   "id": "5dd1e196",
   "metadata": {},
   "outputs": [],
   "source": []
  },
  {
   "cell_type": "code",
   "execution_count": null,
   "id": "1b95ada5",
   "metadata": {},
   "outputs": [],
   "source": []
  },
  {
   "cell_type": "code",
   "execution_count": null,
   "id": "dc6d5642",
   "metadata": {},
   "outputs": [],
   "source": []
  },
  {
   "cell_type": "code",
   "execution_count": null,
   "id": "2a40881c",
   "metadata": {},
   "outputs": [],
   "source": []
  },
  {
   "cell_type": "code",
   "execution_count": null,
   "id": "de0a2091",
   "metadata": {},
   "outputs": [],
   "source": []
  },
  {
   "cell_type": "code",
   "execution_count": null,
   "id": "2ca63c33",
   "metadata": {},
   "outputs": [],
   "source": []
  },
  {
   "cell_type": "code",
   "execution_count": null,
   "id": "b5aeef38",
   "metadata": {},
   "outputs": [],
   "source": []
  }
 ],
 "metadata": {
  "kernelspec": {
   "display_name": "Python 3 (ipykernel)",
   "language": "python",
   "name": "python3"
  },
  "language_info": {
   "codemirror_mode": {
    "name": "ipython",
    "version": 3
   },
   "file_extension": ".py",
   "mimetype": "text/x-python",
   "name": "python",
   "nbconvert_exporter": "python",
   "pygments_lexer": "ipython3",
   "version": "3.9.12"
  }
 },
 "nbformat": 4,
 "nbformat_minor": 5
}
