{
 "cells": [
  {
   "cell_type": "code",
   "execution_count": 1,
   "id": "a37efa31",
   "metadata": {},
   "outputs": [
    {
     "name": "stdout",
     "output_type": "stream",
     "text": [
      "Hello world\n"
     ]
    }
   ],
   "source": [
    "print(\"Hello world\")"
   ]
  },
  {
   "cell_type": "code",
   "execution_count": 2,
   "id": "bcac1d29",
   "metadata": {},
   "outputs": [
    {
     "name": "stdout",
     "output_type": "stream",
     "text": [
      "6\n"
     ]
    }
   ],
   "source": [
    "print(6)"
   ]
  },
  {
   "cell_type": "code",
   "execution_count": 3,
   "id": "4e5d893e",
   "metadata": {},
   "outputs": [
    {
     "name": "stdout",
     "output_type": "stream",
     "text": [
      "5.6\n"
     ]
    }
   ],
   "source": [
    "print(5.6)"
   ]
  },
  {
   "cell_type": "code",
   "execution_count": 4,
   "id": "45a14f7a",
   "metadata": {},
   "outputs": [
    {
     "name": "stdout",
     "output_type": "stream",
     "text": [
      "India Nepal Shrilanka\n"
     ]
    }
   ],
   "source": [
    "print(\"India\",\"Nepal\",\"Shrilanka\")"
   ]
  },
  {
   "cell_type": "code",
   "execution_count": 6,
   "id": "0ca992cd",
   "metadata": {},
   "outputs": [
    {
     "name": "stdout",
     "output_type": "stream",
     "text": [
      "India 8 True\n"
     ]
    }
   ],
   "source": [
    "print(\"India\",8,True)"
   ]
  },
  {
   "cell_type": "code",
   "execution_count": 8,
   "id": "e2ae1c8e",
   "metadata": {},
   "outputs": [
    {
     "name": "stdout",
     "output_type": "stream",
     "text": [
      "cat/dog/tiger/lion\n"
     ]
    }
   ],
   "source": [
    "print(\"cat\",\"dog\",\"tiger\",\"lion\",sep='/')"
   ]
  },
  {
   "cell_type": "code",
   "execution_count": 9,
   "id": "fce579c4",
   "metadata": {},
   "outputs": [
    {
     "name": "stdout",
     "output_type": "stream",
     "text": [
      "cat-dog-tiger-lion\n"
     ]
    }
   ],
   "source": [
    "print(\"cat\",\"dog\",\"tiger\",\"lion\",sep='-')"
   ]
  },
  {
   "cell_type": "code",
   "execution_count": 10,
   "id": "3df3d67d",
   "metadata": {},
   "outputs": [
    {
     "name": "stdout",
     "output_type": "stream",
     "text": [
      "Hello\n",
      "World\n"
     ]
    }
   ],
   "source": [
    "print(\"Hello\")\n",
    "print(\"World\")"
   ]
  },
  {
   "cell_type": "code",
   "execution_count": 12,
   "id": "d2d0b552",
   "metadata": {},
   "outputs": [
    {
     "name": "stdout",
     "output_type": "stream",
     "text": [
      "Hello World\n"
     ]
    }
   ],
   "source": [
    "print(\"Hello\",end=' ')\n",
    "print(\"World\")"
   ]
  },
  {
   "cell_type": "markdown",
   "id": "1a492565",
   "metadata": {},
   "source": [
    "# Python supports 3 categories of data types\n",
    "1.Basic Types-(integer,float,complex,boolean and string)\n",
    "\n",
    "2.Container Types-(List,Tuples,Sets and Dictionary)\n",
    "\n",
    "3.User-defined Types-Class\n"
   ]
  },
  {
   "cell_type": "code",
   "execution_count": 13,
   "id": "afbf4862",
   "metadata": {},
   "outputs": [
    {
     "name": "stdout",
     "output_type": "stream",
     "text": [
      "4\n"
     ]
    }
   ],
   "source": [
    "#integer\n",
    "print(4)"
   ]
  },
  {
   "cell_type": "code",
   "execution_count": 14,
   "id": "4e66f298",
   "metadata": {},
   "outputs": [
    {
     "name": "stdout",
     "output_type": "stream",
     "text": [
      "9.5\n"
     ]
    }
   ],
   "source": [
    "#Float\n",
    "print(9.5)"
   ]
  },
  {
   "cell_type": "code",
   "execution_count": 15,
   "id": "f5f70590",
   "metadata": {},
   "outputs": [
    {
     "name": "stdout",
     "output_type": "stream",
     "text": [
      "(4+5j)\n"
     ]
    }
   ],
   "source": [
    "#Complex\n",
    "print(4+5j)"
   ]
  },
  {
   "cell_type": "code",
   "execution_count": 16,
   "id": "0fa34042",
   "metadata": {},
   "outputs": [
    {
     "name": "stdout",
     "output_type": "stream",
     "text": [
      "True\n",
      "False\n"
     ]
    }
   ],
   "source": [
    "#boolean\n",
    "print(True)\n",
    "print(False)"
   ]
  },
  {
   "cell_type": "code",
   "execution_count": 17,
   "id": "629d8913",
   "metadata": {},
   "outputs": [
    {
     "name": "stdout",
     "output_type": "stream",
     "text": [
      "Kolkata\n",
      "Kolkata\n",
      "'kolkata'\n"
     ]
    }
   ],
   "source": [
    "#string\n",
    "print('Kolkata')\n",
    "print(\"Kolkata\")\n",
    "print(\"'kolkata'\")"
   ]
  },
  {
   "cell_type": "code",
   "execution_count": 18,
   "id": "3f39845a",
   "metadata": {},
   "outputs": [
    {
     "name": "stdout",
     "output_type": "stream",
     "text": [
      "[4, 5, 6, 7, 8]\n"
     ]
    }
   ],
   "source": [
    "#List\n",
    "print([4,5,6,7,8])"
   ]
  },
  {
   "cell_type": "code",
   "execution_count": 19,
   "id": "5c291b35",
   "metadata": {},
   "outputs": [
    {
     "name": "stdout",
     "output_type": "stream",
     "text": [
      "(5, 6, 7, 8, 9)\n"
     ]
    }
   ],
   "source": [
    "#Tuple\n",
    "print((5,6,7,8,9))"
   ]
  },
  {
   "cell_type": "code",
   "execution_count": 20,
   "id": "5d9c147c",
   "metadata": {},
   "outputs": [
    {
     "name": "stdout",
     "output_type": "stream",
     "text": [
      "{5, 6, 7, 8, 9}\n"
     ]
    }
   ],
   "source": [
    "#sets\n",
    "print({5,6,7,8,9})"
   ]
  },
  {
   "cell_type": "code",
   "execution_count": 21,
   "id": "c8ab181c",
   "metadata": {},
   "outputs": [
    {
     "name": "stdout",
     "output_type": "stream",
     "text": [
      "{'Name': 'Shreya', 'Age': 23, 'Gender': 'Female'}\n"
     ]
    }
   ],
   "source": [
    "#dictionary\n",
    "print({\"Name\":\"Shreya\",\"Age\":23,\"Gender\":\"Female\"})"
   ]
  },
  {
   "cell_type": "code",
   "execution_count": null,
   "id": "92bf3322",
   "metadata": {},
   "outputs": [],
   "source": [
    "#comments\n"
   ]
  },
  {
   "cell_type": "code",
   "execution_count": null,
   "id": "9f825512",
   "metadata": {},
   "outputs": [],
   "source": [
    "#variables"
   ]
  },
  {
   "cell_type": "code",
   "execution_count": 22,
   "id": "de26f55e",
   "metadata": {},
   "outputs": [],
   "source": [
    "name=\"shreya\""
   ]
  },
  {
   "cell_type": "code",
   "execution_count": 24,
   "id": "24bfb572",
   "metadata": {},
   "outputs": [
    {
     "name": "stdout",
     "output_type": "stream",
     "text": [
      "shreya\n"
     ]
    }
   ],
   "source": [
    "print(name)"
   ]
  },
  {
   "cell_type": "code",
   "execution_count": null,
   "id": "b87b3f80",
   "metadata": {},
   "outputs": [],
   "source": [
    "#no variable declaration"
   ]
  },
  {
   "cell_type": "code",
   "execution_count": null,
   "id": "25ec9afe",
   "metadata": {},
   "outputs": [],
   "source": [
    "#Dynamic Typing=Python\n",
    "#Static Typing=JAVA"
   ]
  },
  {
   "cell_type": "code",
   "execution_count": 1,
   "id": "870b2d55",
   "metadata": {},
   "outputs": [
    {
     "name": "stdout",
     "output_type": "stream",
     "text": [
      "5\n",
      "8\n",
      "9\n"
     ]
    }
   ],
   "source": [
    "#special syntax\n",
    "a=5; b=8; c=9;\n",
    "print(a)\n",
    "print(b)\n",
    "print(c)"
   ]
  },
  {
   "cell_type": "markdown",
   "id": "08ed94f0",
   "metadata": {},
   "source": [
    "# Keywords\n",
    "* Python is a case sensitive programming language\n",
    "\n",
    "In programming, a keyword is a word that is reserved by a program because the word has a special meaning. Keywords can be commands or parameters. Every programming language has a set of keywords that cannot be used as variable names"
   ]
  },
  {
   "cell_type": "code",
   "execution_count": 2,
   "id": "f0711126",
   "metadata": {},
   "outputs": [
    {
     "name": "stdout",
     "output_type": "stream",
     "text": [
      "['False', 'None', 'True', '__peg_parser__', 'and', 'as', 'assert', 'async', 'await', 'break', 'class', 'continue', 'def', 'del', 'elif', 'else', 'except', 'finally', 'for', 'from', 'global', 'if', 'import', 'in', 'is', 'lambda', 'nonlocal', 'not', 'or', 'pass', 'raise', 'return', 'try', 'while', 'with', 'yield']\n"
     ]
    }
   ],
   "source": [
    "#python has 33 keywords\n",
    "import keyword\n",
    "print(keyword.kwlist)"
   ]
  },
  {
   "cell_type": "markdown",
   "id": "db48be2f",
   "metadata": {},
   "source": [
    "# Identifiers\n",
    "A Python identifier is a name used to identiify a variable, function, class, module or other object."
   ]
  },
  {
   "cell_type": "markdown",
   "id": "c77a48a8",
   "metadata": {},
   "source": [
    "Rules for setting an indentifier\n",
    "* can only start with an alphabet or _\n",
    "* Followed by 0 or more letter,_ and digits\n",
    "* keywords cannot be used as an indentifiers"
   ]
  },
  {
   "cell_type": "code",
   "execution_count": 3,
   "id": "dd72eea0",
   "metadata": {},
   "outputs": [
    {
     "name": "stdout",
     "output_type": "stream",
     "text": [
      "shreya\n"
     ]
    }
   ],
   "source": [
    "_=\"shreya\"\n",
    "print(_)"
   ]
  },
  {
   "cell_type": "code",
   "execution_count": 4,
   "id": "a11cd6b4",
   "metadata": {},
   "outputs": [
    {
     "ename": "SyntaxError",
     "evalue": "cannot assign to literal (3226803093.py, line 1)",
     "output_type": "error",
     "traceback": [
      "\u001b[1;36m  Input \u001b[1;32mIn [4]\u001b[1;36m\u001b[0m\n\u001b[1;33m    3=\"shreya\"\u001b[0m\n\u001b[1;37m    ^\u001b[0m\n\u001b[1;31mSyntaxError\u001b[0m\u001b[1;31m:\u001b[0m cannot assign to literal\n"
     ]
    }
   ],
   "source": [
    "3=\"shreya\"\n",
    "print(3)"
   ]
  },
  {
   "cell_type": "code",
   "execution_count": 5,
   "id": "c176e2c0",
   "metadata": {},
   "outputs": [
    {
     "name": "stdout",
     "output_type": "stream",
     "text": [
      "shreya\n"
     ]
    }
   ],
   "source": [
    "a=\"shreya\"\n",
    "print(a)"
   ]
  },
  {
   "cell_type": "code",
   "execution_count": 6,
   "id": "6f76dbab",
   "metadata": {},
   "outputs": [
    {
     "ename": "SyntaxError",
     "evalue": "invalid syntax (1771544887.py, line 1)",
     "output_type": "error",
     "traceback": [
      "\u001b[1;36m  Input \u001b[1;32mIn [6]\u001b[1;36m\u001b[0m\n\u001b[1;33m    not=\"shreya\"\u001b[0m\n\u001b[1;37m       ^\u001b[0m\n\u001b[1;31mSyntaxError\u001b[0m\u001b[1;31m:\u001b[0m invalid syntax\n"
     ]
    }
   ],
   "source": [
    "not=\"shreya\"\n",
    "print(not)"
   ]
  },
  {
   "cell_type": "code",
   "execution_count": 1,
   "id": "7eab4bb4",
   "metadata": {},
   "outputs": [
    {
     "name": "stdout",
     "output_type": "stream",
     "text": [
      "shreya\n"
     ]
    }
   ],
   "source": [
    "print('shreya')"
   ]
  },
  {
   "cell_type": "code",
   "execution_count": 2,
   "id": "658921f1",
   "metadata": {},
   "outputs": [
    {
     "data": {
      "text/plain": [
       "8"
      ]
     },
     "execution_count": 2,
     "metadata": {},
     "output_type": "execute_result"
    }
   ],
   "source": [
    "a=3\n",
    "b=5\n",
    "a+b"
   ]
  },
  {
   "cell_type": "markdown",
   "id": "8ae642f5",
   "metadata": {},
   "source": [
    "# User input"
   ]
  },
  {
   "cell_type": "code",
   "execution_count": 4,
   "id": "0f2b55a5",
   "metadata": {},
   "outputs": [
    {
     "name": "stdout",
     "output_type": "stream",
     "text": [
      "What is your nameshreya\n"
     ]
    },
    {
     "data": {
      "text/plain": [
       "'shreya'"
      ]
     },
     "execution_count": 4,
     "metadata": {},
     "output_type": "execute_result"
    }
   ],
   "source": [
    "input(\"What is your name\")"
   ]
  },
  {
   "cell_type": "code",
   "execution_count": 7,
   "id": "3007d660",
   "metadata": {},
   "outputs": [
    {
     "name": "stdout",
     "output_type": "stream",
     "text": [
      "Enter the first number46\n",
      "Enter the second number56\n"
     ]
    }
   ],
   "source": [
    "first_num=input(\"Enter the first number\")\n",
    "second_num=input(\"Enter the second number\")"
   ]
  },
  {
   "cell_type": "code",
   "execution_count": 9,
   "id": "b90600cc",
   "metadata": {},
   "outputs": [
    {
     "name": "stdout",
     "output_type": "stream",
     "text": [
      "46\n",
      "56\n"
     ]
    }
   ],
   "source": [
    "print(first_num)\n",
    "print(second_num)"
   ]
  },
  {
   "cell_type": "code",
   "execution_count": 12,
   "id": "3cd6aa72",
   "metadata": {},
   "outputs": [
    {
     "name": "stdout",
     "output_type": "stream",
     "text": [
      "4656\n"
     ]
    }
   ],
   "source": [
    "sum=first_num+second_num\n",
    "print(sum)"
   ]
  },
  {
   "cell_type": "code",
   "execution_count": 13,
   "id": "e61a0bfe",
   "metadata": {},
   "outputs": [
    {
     "data": {
      "text/plain": [
       "int"
      ]
     },
     "execution_count": 13,
     "metadata": {},
     "output_type": "execute_result"
    }
   ],
   "source": [
    "#Type\n",
    "type(4)"
   ]
  },
  {
   "cell_type": "code",
   "execution_count": 14,
   "id": "330f10ed",
   "metadata": {},
   "outputs": [
    {
     "data": {
      "text/plain": [
       "float"
      ]
     },
     "execution_count": 14,
     "metadata": {},
     "output_type": "execute_result"
    }
   ],
   "source": [
    "type(5.5)"
   ]
  },
  {
   "cell_type": "code",
   "execution_count": 15,
   "id": "61c2356c",
   "metadata": {},
   "outputs": [
    {
     "data": {
      "text/plain": [
       "str"
      ]
     },
     "execution_count": 15,
     "metadata": {},
     "output_type": "execute_result"
    }
   ],
   "source": [
    "type(\"8\")"
   ]
  },
  {
   "cell_type": "code",
   "execution_count": 16,
   "id": "201b5dd0",
   "metadata": {},
   "outputs": [
    {
     "data": {
      "text/plain": [
       "list"
      ]
     },
     "execution_count": 16,
     "metadata": {},
     "output_type": "execute_result"
    }
   ],
   "source": [
    "type([3,4,5,6,7,8,9])"
   ]
  },
  {
   "cell_type": "code",
   "execution_count": 17,
   "id": "7b746c3e",
   "metadata": {},
   "outputs": [],
   "source": [
    "#Type Conversion in Python"
   ]
  },
  {
   "cell_type": "code",
   "execution_count": null,
   "id": "351a5665",
   "metadata": {},
   "outputs": [],
   "source": [
    "#implicit\n",
    "#explicit"
   ]
  },
  {
   "cell_type": "code",
   "execution_count": 18,
   "id": "20cbdcb8",
   "metadata": {},
   "outputs": [
    {
     "data": {
      "text/plain": [
       "9.5"
      ]
     },
     "execution_count": 18,
     "metadata": {},
     "output_type": "execute_result"
    }
   ],
   "source": [
    "4+5.5"
   ]
  },
  {
   "cell_type": "code",
   "execution_count": 19,
   "id": "085f28dd",
   "metadata": {},
   "outputs": [
    {
     "data": {
      "text/plain": [
       "(11+7j)"
      ]
     },
     "execution_count": 19,
     "metadata": {},
     "output_type": "execute_result"
    }
   ],
   "source": [
    "5+6+7j"
   ]
  },
  {
   "cell_type": "code",
   "execution_count": 22,
   "id": "bae437e2",
   "metadata": {},
   "outputs": [
    {
     "data": {
      "text/plain": [
       "102"
      ]
     },
     "execution_count": 22,
     "metadata": {},
     "output_type": "execute_result"
    }
   ],
   "source": [
    "int(first_num)+int(second_num)"
   ]
  },
  {
   "cell_type": "code",
   "execution_count": 23,
   "id": "52262762",
   "metadata": {},
   "outputs": [
    {
     "data": {
      "text/plain": [
       "9"
      ]
     },
     "execution_count": 23,
     "metadata": {},
     "output_type": "execute_result"
    }
   ],
   "source": [
    "int(9.8)"
   ]
  },
  {
   "cell_type": "code",
   "execution_count": 24,
   "id": "8400e637",
   "metadata": {},
   "outputs": [
    {
     "data": {
      "text/plain": [
       "4.0"
      ]
     },
     "execution_count": 24,
     "metadata": {},
     "output_type": "execute_result"
    }
   ],
   "source": [
    "float(4)"
   ]
  },
  {
   "cell_type": "code",
   "execution_count": 25,
   "id": "76deefef",
   "metadata": {},
   "outputs": [
    {
     "data": {
      "text/plain": [
       "True"
      ]
     },
     "execution_count": 25,
     "metadata": {},
     "output_type": "execute_result"
    }
   ],
   "source": [
    "bool(1)"
   ]
  },
  {
   "cell_type": "code",
   "execution_count": 26,
   "id": "eacb79c5",
   "metadata": {},
   "outputs": [
    {
     "data": {
      "text/plain": [
       "(4+0j)"
      ]
     },
     "execution_count": 26,
     "metadata": {},
     "output_type": "execute_result"
    }
   ],
   "source": [
    "complex(4)"
   ]
  },
  {
   "cell_type": "code",
   "execution_count": 27,
   "id": "54ec45d7",
   "metadata": {},
   "outputs": [
    {
     "data": {
      "text/plain": [
       "['H', 'e', 'l', 'l', 'o']"
      ]
     },
     "execution_count": 27,
     "metadata": {},
     "output_type": "execute_result"
    }
   ],
   "source": [
    "list('Hello')"
   ]
  },
  {
   "cell_type": "code",
   "execution_count": 28,
   "id": "c3b2d584",
   "metadata": {},
   "outputs": [
    {
     "data": {
      "text/plain": [
       "('h', 'e', 'l', 'l', 'o')"
      ]
     },
     "execution_count": 28,
     "metadata": {},
     "output_type": "execute_result"
    }
   ],
   "source": [
    "tuple('hello')"
   ]
  },
  {
   "cell_type": "code",
   "execution_count": 29,
   "id": "5792e6fe",
   "metadata": {},
   "outputs": [
    {
     "data": {
      "text/plain": [
       "{'e', 'h', 'l', 'o'}"
      ]
     },
     "execution_count": 29,
     "metadata": {},
     "output_type": "execute_result"
    }
   ],
   "source": [
    "set('hello')"
   ]
  },
  {
   "cell_type": "code",
   "execution_count": 30,
   "id": "0dbdf824",
   "metadata": {},
   "outputs": [],
   "source": [
    "a=4.5"
   ]
  },
  {
   "cell_type": "code",
   "execution_count": 31,
   "id": "b68f0023",
   "metadata": {},
   "outputs": [
    {
     "data": {
      "text/plain": [
       "4"
      ]
     },
     "execution_count": 31,
     "metadata": {},
     "output_type": "execute_result"
    }
   ],
   "source": [
    "int(a)"
   ]
  },
  {
   "cell_type": "code",
   "execution_count": 32,
   "id": "7d6dda02",
   "metadata": {},
   "outputs": [
    {
     "data": {
      "text/plain": [
       "4.5"
      ]
     },
     "execution_count": 32,
     "metadata": {},
     "output_type": "execute_result"
    }
   ],
   "source": [
    "a"
   ]
  },
  {
   "cell_type": "code",
   "execution_count": 46,
   "id": "8c973587",
   "metadata": {},
   "outputs": [
    {
     "name": "stdout",
     "output_type": "stream",
     "text": [
      "Enter the first number56\n",
      "Enter the second number67\n",
      "123\n"
     ]
    }
   ],
   "source": [
    "first_num=input(\"Enter the first number\")\n",
    "second_num=input(\"Enter the second number\")\n",
    "result=int(first_num) + int(second_num)\n",
    "print(result)"
   ]
  },
  {
   "cell_type": "markdown",
   "id": "d41eca16",
   "metadata": {},
   "source": [
    "# Literals"
   ]
  },
  {
   "cell_type": "markdown",
   "id": "3194dc95",
   "metadata": {},
   "source": [
    "Literal is a raw data given in a variable. In Python, there are various types of literals they are as follows:\n",
    "* Numeric Literals\n",
    "* String Literals\n",
    "* Boolean Literals\n",
    "* Special Literals"
   ]
  },
  {
   "cell_type": "markdown",
   "id": "b8b1776b",
   "metadata": {},
   "source": [
    "# 1.Numeric Literals\n"
   ]
  },
  {
   "cell_type": "code",
   "execution_count": 47,
   "id": "e5643a1d",
   "metadata": {},
   "outputs": [
    {
     "name": "stdout",
     "output_type": "stream",
     "text": [
      "10 100 200 300\n",
      "10.5 150.0 0.0015\n",
      "3.14j 3.14 0.0\n"
     ]
    }
   ],
   "source": [
    "a = 0b1010 #Binary Literals\n",
    "b = 100 #Decimal Literal \n",
    "c = 0o310 #Octal Literal\n",
    "d = 0x12c #Hexadecimal Literal\n",
    "\n",
    "#Float Literal\n",
    "float_1 = 10.5 \n",
    "float_2 = 1.5e2\n",
    "float_3 = 1.5e-3\n",
    "\n",
    "#Complex Literal \n",
    "x = 3.14j\n",
    "\n",
    "print(a, b, c, d)\n",
    "print(float_1, float_2,float_3)\n",
    "print(x, x.imag, x.real)"
   ]
  },
  {
   "cell_type": "markdown",
   "id": "387a4b64",
   "metadata": {},
   "source": [
    "# String Literals"
   ]
  },
  {
   "cell_type": "code",
   "execution_count": 48,
   "id": "ba4d9347",
   "metadata": {},
   "outputs": [
    {
     "name": "stdout",
     "output_type": "stream",
     "text": [
      "This is Python\n",
      "This is Python\n",
      "C\n",
      "This is a multiline string with more than one line code.\n",
      "😀😆🤣\n",
      "raw \\n string\n"
     ]
    }
   ],
   "source": [
    "string = 'This is Python'\n",
    "strings = \"This is Python\"\n",
    "char = \"C\"\n",
    "multiline_str = \"\"\"This is a multiline string with more than one line code.\"\"\"\n",
    "unicode = u\"\\U0001f600\\U0001F606\\U0001F923\"\n",
    "raw_str = r\"raw \\n string\"\n",
    "\n",
    "print(string)\n",
    "print(strings)\n",
    "print(char)\n",
    "print(multiline_str)\n",
    "print(unicode)\n",
    "print(raw_str)"
   ]
  },
  {
   "cell_type": "markdown",
   "id": "69d23f00",
   "metadata": {},
   "source": [
    "# 3. Boolean Literal"
   ]
  },
  {
   "cell_type": "code",
   "execution_count": 49,
   "id": "aa0e3183",
   "metadata": {},
   "outputs": [
    {
     "name": "stdout",
     "output_type": "stream",
     "text": [
      "a: 5\n",
      "b: 10\n"
     ]
    }
   ],
   "source": [
    "a = True + 4\n",
    "b = False + 10\n",
    "\n",
    "print(\"a:\", a)\n",
    "print(\"b:\", b)"
   ]
  },
  {
   "cell_type": "markdown",
   "id": "8046517e",
   "metadata": {},
   "source": [
    "# 4. Special Literal"
   ]
  },
  {
   "cell_type": "code",
   "execution_count": 50,
   "id": "eae809a7",
   "metadata": {},
   "outputs": [
    {
     "name": "stdout",
     "output_type": "stream",
     "text": [
      "None\n"
     ]
    }
   ],
   "source": [
    "a=None\n",
    "print(a)"
   ]
  },
  {
   "cell_type": "code",
   "execution_count": 51,
   "id": "855dccb8",
   "metadata": {},
   "outputs": [],
   "source": [
    "c=34+45"
   ]
  },
  {
   "cell_type": "markdown",
   "id": "7cbd29cc",
   "metadata": {},
   "source": [
    "# Operators"
   ]
  },
  {
   "cell_type": "markdown",
   "id": "92838afd",
   "metadata": {},
   "source": [
    "Operators are used to perform operations on variables and values. Python has the following operators:\n",
    "\n",
    "1.Arithmetic operators\n",
    "2.Comparison operators\n",
    "3.Logical operators\n",
    "4.Bitwise operators\n",
    "5.Assignment operators\n",
    "6.Identity operators\n",
    "7.Membership operators"
   ]
  },
  {
   "cell_type": "code",
   "execution_count": 2,
   "id": "4b422c0b",
   "metadata": {},
   "outputs": [
    {
     "name": "stdout",
     "output_type": "stream",
     "text": [
      "7\n"
     ]
    }
   ],
   "source": [
    "x=5\n",
    "y=2\n",
    "\n",
    "print(x+y)"
   ]
  },
  {
   "cell_type": "code",
   "execution_count": 3,
   "id": "42c9cf7f",
   "metadata": {},
   "outputs": [
    {
     "name": "stdout",
     "output_type": "stream",
     "text": [
      "3\n"
     ]
    }
   ],
   "source": [
    "print(x-y)"
   ]
  },
  {
   "cell_type": "code",
   "execution_count": 4,
   "id": "9689237f",
   "metadata": {},
   "outputs": [
    {
     "name": "stdout",
     "output_type": "stream",
     "text": [
      "10\n"
     ]
    }
   ],
   "source": [
    "print(x*y)"
   ]
  },
  {
   "cell_type": "code",
   "execution_count": 5,
   "id": "9d6e42aa",
   "metadata": {},
   "outputs": [
    {
     "name": "stdout",
     "output_type": "stream",
     "text": [
      "2.5\n"
     ]
    }
   ],
   "source": [
    "print(x/y)"
   ]
  },
  {
   "cell_type": "code",
   "execution_count": 6,
   "id": "1e45d385",
   "metadata": {},
   "outputs": [
    {
     "name": "stdout",
     "output_type": "stream",
     "text": [
      "1\n"
     ]
    }
   ],
   "source": [
    "print(x%y)"
   ]
  },
  {
   "cell_type": "code",
   "execution_count": 7,
   "id": "c1926312",
   "metadata": {},
   "outputs": [
    {
     "data": {
      "text/plain": [
       "25"
      ]
     },
     "execution_count": 7,
     "metadata": {},
     "output_type": "execute_result"
    }
   ],
   "source": [
    "x**y"
   ]
  },
  {
   "cell_type": "code",
   "execution_count": 8,
   "id": "383d4d34",
   "metadata": {},
   "outputs": [
    {
     "data": {
      "text/plain": [
       "2"
      ]
     },
     "execution_count": 8,
     "metadata": {},
     "output_type": "execute_result"
    }
   ],
   "source": [
    "x//2"
   ]
  },
  {
   "cell_type": "code",
   "execution_count": 9,
   "id": "0bea81dd",
   "metadata": {},
   "outputs": [
    {
     "data": {
      "text/plain": [
       "True"
      ]
     },
     "execution_count": 9,
     "metadata": {},
     "output_type": "execute_result"
    }
   ],
   "source": [
    "x>y"
   ]
  },
  {
   "cell_type": "code",
   "execution_count": 10,
   "id": "ce820733",
   "metadata": {},
   "outputs": [
    {
     "data": {
      "text/plain": [
       "False"
      ]
     },
     "execution_count": 10,
     "metadata": {},
     "output_type": "execute_result"
    }
   ],
   "source": [
    "x<y"
   ]
  },
  {
   "cell_type": "code",
   "execution_count": 11,
   "id": "6b51535b",
   "metadata": {},
   "outputs": [
    {
     "data": {
      "text/plain": [
       "True"
      ]
     },
     "execution_count": 11,
     "metadata": {},
     "output_type": "execute_result"
    }
   ],
   "source": [
    "x>=y"
   ]
  },
  {
   "cell_type": "code",
   "execution_count": 12,
   "id": "24d3fd9b",
   "metadata": {},
   "outputs": [
    {
     "data": {
      "text/plain": [
       "False"
      ]
     },
     "execution_count": 12,
     "metadata": {},
     "output_type": "execute_result"
    }
   ],
   "source": [
    "x<=y"
   ]
  },
  {
   "cell_type": "code",
   "execution_count": 13,
   "id": "0dd23ddb",
   "metadata": {},
   "outputs": [
    {
     "data": {
      "text/plain": [
       "False"
      ]
     },
     "execution_count": 13,
     "metadata": {},
     "output_type": "execute_result"
    }
   ],
   "source": [
    "x==y"
   ]
  },
  {
   "cell_type": "code",
   "execution_count": 14,
   "id": "2829f70b",
   "metadata": {},
   "outputs": [
    {
     "data": {
      "text/plain": [
       "True"
      ]
     },
     "execution_count": 14,
     "metadata": {},
     "output_type": "execute_result"
    }
   ],
   "source": [
    "x!=y"
   ]
  },
  {
   "cell_type": "code",
   "execution_count": 15,
   "id": "be0f2690",
   "metadata": {},
   "outputs": [
    {
     "name": "stdout",
     "output_type": "stream",
     "text": [
      "True\n"
     ]
    }
   ],
   "source": [
    "#Logical Operator\n",
    "x=True\n",
    "y=False\n",
    " \n",
    "print(x or y)"
   ]
  },
  {
   "cell_type": "code",
   "execution_count": 16,
   "id": "51d4bbe9",
   "metadata": {},
   "outputs": [
    {
     "name": "stdout",
     "output_type": "stream",
     "text": [
      "False\n"
     ]
    }
   ],
   "source": [
    "print(x and y)"
   ]
  },
  {
   "cell_type": "code",
   "execution_count": 17,
   "id": "85f1f1e9",
   "metadata": {},
   "outputs": [
    {
     "name": "stdout",
     "output_type": "stream",
     "text": [
      "True\n"
     ]
    }
   ],
   "source": [
    "print(not y)"
   ]
  },
  {
   "cell_type": "code",
   "execution_count": 18,
   "id": "4e5bc9dc",
   "metadata": {},
   "outputs": [],
   "source": [
    "# Bitwise\n",
    "\n",
    "x = 2\n",
    "y = 3"
   ]
  },
  {
   "cell_type": "code",
   "execution_count": 19,
   "id": "47fe4bdf",
   "metadata": {},
   "outputs": [
    {
     "name": "stdout",
     "output_type": "stream",
     "text": [
      "2\n"
     ]
    }
   ],
   "source": [
    "print(x & y)"
   ]
  },
  {
   "cell_type": "code",
   "execution_count": 20,
   "id": "74c5aecc",
   "metadata": {},
   "outputs": [
    {
     "name": "stdout",
     "output_type": "stream",
     "text": [
      "3\n"
     ]
    }
   ],
   "source": [
    "print(x | y)"
   ]
  },
  {
   "cell_type": "code",
   "execution_count": 21,
   "id": "0a90191b",
   "metadata": {},
   "outputs": [
    {
     "name": "stdout",
     "output_type": "stream",
     "text": [
      "0\n"
     ]
    }
   ],
   "source": [
    "print(x >> 2)"
   ]
  },
  {
   "cell_type": "code",
   "execution_count": 22,
   "id": "d97dc183",
   "metadata": {},
   "outputs": [
    {
     "name": "stdout",
     "output_type": "stream",
     "text": [
      "24\n"
     ]
    }
   ],
   "source": [
    "print(y << 3)"
   ]
  },
  {
   "cell_type": "code",
   "execution_count": 23,
   "id": "d2490c8b",
   "metadata": {},
   "outputs": [
    {
     "name": "stdout",
     "output_type": "stream",
     "text": [
      "-3\n"
     ]
    }
   ],
   "source": [
    "print(~x)"
   ]
  },
  {
   "cell_type": "code",
   "execution_count": 24,
   "id": "d80dc47b",
   "metadata": {},
   "outputs": [
    {
     "name": "stdout",
     "output_type": "stream",
     "text": [
      "3\n"
     ]
    }
   ],
   "source": [
    "# Assignment\n",
    "a = 3\n",
    "print(a)"
   ]
  },
  {
   "cell_type": "code",
   "execution_count": 25,
   "id": "6214a07f",
   "metadata": {},
   "outputs": [
    {
     "name": "stdout",
     "output_type": "stream",
     "text": [
      "6\n"
     ]
    }
   ],
   "source": [
    "a += 3\n",
    "# a = a + 3\n",
    "print(a)"
   ]
  },
  {
   "cell_type": "code",
   "execution_count": 26,
   "id": "b6bec19c",
   "metadata": {},
   "outputs": [
    {
     "name": "stdout",
     "output_type": "stream",
     "text": [
      "3\n"
     ]
    }
   ],
   "source": [
    "a-=3\n",
    "print(a)"
   ]
  },
  {
   "cell_type": "code",
   "execution_count": 28,
   "id": "3498ca9e",
   "metadata": {},
   "outputs": [
    {
     "name": "stdout",
     "output_type": "stream",
     "text": [
      "27\n"
     ]
    }
   ],
   "source": [
    "a*=3\n",
    "print(a)"
   ]
  },
  {
   "cell_type": "code",
   "execution_count": 29,
   "id": "4ff6d3f3",
   "metadata": {},
   "outputs": [],
   "source": [
    "a = a + 3\n",
    "a += 3"
   ]
  },
  {
   "cell_type": "code",
   "execution_count": 30,
   "id": "57ffe3f2",
   "metadata": {},
   "outputs": [
    {
     "name": "stdout",
     "output_type": "stream",
     "text": [
      "True\n"
     ]
    }
   ],
   "source": [
    "a = 3\n",
    "b = 3\n",
    "\n",
    "print(a is b)"
   ]
  },
  {
   "cell_type": "code",
   "execution_count": 31,
   "id": "f55e44ca",
   "metadata": {},
   "outputs": [
    {
     "name": "stdout",
     "output_type": "stream",
     "text": [
      "False\n"
     ]
    }
   ],
   "source": [
    "a = [1,2,3]\n",
    "b = [1,2,3]\n",
    "\n",
    "print(a is b)"
   ]
  },
  {
   "cell_type": "code",
   "execution_count": 32,
   "id": "5aed4878",
   "metadata": {},
   "outputs": [
    {
     "name": "stdout",
     "output_type": "stream",
     "text": [
      "True\n"
     ]
    }
   ],
   "source": [
    "a = \"Hello-world\"\n",
    "b = \"Hello-world\"\n",
    "\n",
    "print(a is not b)"
   ]
  },
  {
   "cell_type": "code",
   "execution_count": 33,
   "id": "19d98b9a",
   "metadata": {},
   "outputs": [
    {
     "name": "stdout",
     "output_type": "stream",
     "text": [
      "False\n"
     ]
    }
   ],
   "source": [
    "x = \"Delhi\"\n",
    "\n",
    "print(\"D\" not in x)"
   ]
  },
  {
   "cell_type": "code",
   "execution_count": 34,
   "id": "8dd40c11",
   "metadata": {},
   "outputs": [
    {
     "name": "stdout",
     "output_type": "stream",
     "text": [
      "True\n"
     ]
    }
   ],
   "source": [
    "x = \"Delhi\"\n",
    "\n",
    "print(\"D\" in x)"
   ]
  },
  {
   "cell_type": "code",
   "execution_count": 35,
   "id": "ec6fd5e6",
   "metadata": {},
   "outputs": [
    {
     "name": "stdout",
     "output_type": "stream",
     "text": [
      "False\n"
     ]
    }
   ],
   "source": [
    "x = (1,2,3)\n",
    "print(5 in x)"
   ]
  },
  {
   "cell_type": "code",
   "execution_count": null,
   "id": "bec9e703",
   "metadata": {},
   "outputs": [],
   "source": []
  }
 ],
 "metadata": {
  "kernelspec": {
   "display_name": "Python 3 (ipykernel)",
   "language": "python",
   "name": "python3"
  },
  "language_info": {
   "codemirror_mode": {
    "name": "ipython",
    "version": 3
   },
   "file_extension": ".py",
   "mimetype": "text/x-python",
   "name": "python",
   "nbconvert_exporter": "python",
   "pygments_lexer": "ipython3",
   "version": "3.9.12"
  }
 },
 "nbformat": 4,
 "nbformat_minor": 5
}
