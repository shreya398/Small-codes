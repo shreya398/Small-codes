{
 "cells": [
  {
   "cell_type": "code",
   "execution_count": null,
   "id": "c8112b81",
   "metadata": {},
   "outputs": [],
   "source": [
    "#Python program to swap first and Last element of list"
   ]
  },
  {
   "cell_type": "code",
   "execution_count": 1,
   "id": "a0ba0c31",
   "metadata": {},
   "outputs": [],
   "source": [
    "def swapList(newList):\n",
    "    size=len(newList)\n",
    "    temp=newList[0]\n",
    "    newList[0]=newList[size-1]\n",
    "    newList[size-1]=temp\n",
    "    return newList"
   ]
  },
  {
   "cell_type": "code",
   "execution_count": 2,
   "id": "e2d824ed",
   "metadata": {},
   "outputs": [],
   "source": [
    "newList=[12,35,9,56,24]"
   ]
  },
  {
   "cell_type": "code",
   "execution_count": 3,
   "id": "5deaa289",
   "metadata": {},
   "outputs": [
    {
     "name": "stdout",
     "output_type": "stream",
     "text": [
      "[24, 35, 9, 56, 12]\n"
     ]
    }
   ],
   "source": [
    "print(swapList(newList))"
   ]
  },
  {
   "cell_type": "code",
   "execution_count": 4,
   "id": "24e8cad7",
   "metadata": {},
   "outputs": [
    {
     "data": {
      "text/plain": [
       "24"
      ]
     },
     "execution_count": 4,
     "metadata": {},
     "output_type": "execute_result"
    }
   ],
   "source": [
    "newList[0]"
   ]
  },
  {
   "cell_type": "code",
   "execution_count": 6,
   "id": "1fa398b1",
   "metadata": {},
   "outputs": [],
   "source": [
    "def swaplist(newlist):\n",
    "    newlist[0],newlist[-1]=newlist[-1],newlist[0]\n",
    "    return newlist"
   ]
  },
  {
   "cell_type": "code",
   "execution_count": 7,
   "id": "a0f1d9fb",
   "metadata": {},
   "outputs": [],
   "source": [
    "newlist=[23,45,56,78,90,12]"
   ]
  },
  {
   "cell_type": "code",
   "execution_count": 8,
   "id": "34b01fc2",
   "metadata": {},
   "outputs": [
    {
     "name": "stdout",
     "output_type": "stream",
     "text": [
      "[12, 45, 56, 78, 90, 23]\n"
     ]
    }
   ],
   "source": [
    "print(swaplist(newlist))"
   ]
  },
  {
   "cell_type": "code",
   "execution_count": null,
   "id": "899cce39",
   "metadata": {},
   "outputs": [],
   "source": [
    "#Reversing the List"
   ]
  },
  {
   "cell_type": "code",
   "execution_count": 9,
   "id": "5ac0d9bf",
   "metadata": {},
   "outputs": [],
   "source": [
    "def Reverse(lst):\n",
    "    new_lst=lst[::-1]\n",
    "    return new_lst"
   ]
  },
  {
   "cell_type": "code",
   "execution_count": 10,
   "id": "0bcfc53c",
   "metadata": {},
   "outputs": [
    {
     "name": "stdout",
     "output_type": "stream",
     "text": [
      "[20, 19, 18, 17, 16, 15, 10]\n"
     ]
    }
   ],
   "source": [
    "lst=[10,15,16,17,18,19,20]\n",
    "print(Reverse(lst))"
   ]
  },
  {
   "cell_type": "code",
   "execution_count": 11,
   "id": "8ba1c082",
   "metadata": {},
   "outputs": [
    {
     "name": "stdout",
     "output_type": "stream",
     "text": [
      "[15, 14, 13, 12, 11, 10]\n"
     ]
    }
   ],
   "source": [
    "lt=[10,11,12,13,14,15]\n",
    "l=[]\n",
    "for i in lt:\n",
    "    l.insert(0,i)\n",
    "print(l)"
   ]
  },
  {
   "cell_type": "code",
   "execution_count": null,
   "id": "520a942e",
   "metadata": {},
   "outputs": [],
   "source": [
    "#count the number of occurrences"
   ]
  },
  {
   "cell_type": "code",
   "execution_count": 12,
   "id": "e5123f04",
   "metadata": {},
   "outputs": [],
   "source": [
    "def countX(lst, x):\n",
    "    count=0\n",
    "    for ele in lst:\n",
    "        if(ele==x):\n",
    "            count=count+1\n",
    "    return count"
   ]
  },
  {
   "cell_type": "code",
   "execution_count": 13,
   "id": "42ea4273",
   "metadata": {},
   "outputs": [
    {
     "data": {
      "text/plain": [
       "4"
      ]
     },
     "execution_count": 13,
     "metadata": {},
     "output_type": "execute_result"
    }
   ],
   "source": [
    "lst=[8,6,8,10,12,10,12,8,9,2,8,7,6]\n",
    "x=8\n",
    "countX(lst, x)"
   ]
  },
  {
   "cell_type": "code",
   "execution_count": 14,
   "id": "f4f69890",
   "metadata": {},
   "outputs": [
    {
     "name": "stdout",
     "output_type": "stream",
     "text": [
      "Element Count\n",
      "2    3\n",
      "1    2\n",
      "3    2\n",
      "4    2\n",
      "5    2\n",
      "dtype: int64\n"
     ]
    }
   ],
   "source": [
    "import pandas as pd\n",
    "l=[1,1,2,2,2,3,3,4,4,5,5]\n",
    "count=pd.Series(l).value_counts()\n",
    "print(\"Element Count\")\n",
    "print(count)"
   ]
  },
  {
   "cell_type": "code",
   "execution_count": null,
   "id": "fcf3c8bb",
   "metadata": {},
   "outputs": [],
   "source": [
    "#Python program to find sum and average of the list"
   ]
  },
  {
   "cell_type": "code",
   "execution_count": 16,
   "id": "e3e48e8b",
   "metadata": {},
   "outputs": [
    {
     "name": "stdout",
     "output_type": "stream",
     "text": [
      "46\n",
      "5.75\n"
     ]
    }
   ],
   "source": [
    "L=[4,5,1,2,9,7,10,8]\n",
    "count=sum(L)\n",
    "avg=count/len(L)\n",
    "print(count)\n",
    "print(avg)"
   ]
  },
  {
   "cell_type": "code",
   "execution_count": 18,
   "id": "e4176ea9",
   "metadata": {},
   "outputs": [
    {
     "name": "stdout",
     "output_type": "stream",
     "text": [
      "sum= 46\n",
      "average= 5.75\n"
     ]
    }
   ],
   "source": [
    "import numpy as np\n",
    "L=[4,5,1,2,9,7,10,8]\n",
    "sum_=np.sum(L)\n",
    "avg=np.average(L)\n",
    "print(\"sum=\",sum_)\n",
    "print(\"average=\",avg)"
   ]
  },
  {
   "cell_type": "code",
   "execution_count": null,
   "id": "2b51286c",
   "metadata": {},
   "outputs": [],
   "source": [
    "#Multiply all values in the list"
   ]
  },
  {
   "cell_type": "code",
   "execution_count": 3,
   "id": "0535ae3f",
   "metadata": {},
   "outputs": [],
   "source": [
    "def multiplyList(myList):\n",
    "    result=1\n",
    "    for x in myList:\n",
    "        result=result*x\n",
    "    return result"
   ]
  },
  {
   "cell_type": "code",
   "execution_count": 20,
   "id": "0c15ec7d",
   "metadata": {},
   "outputs": [],
   "source": [
    "list1=[5,6,7,8,9,4,5]"
   ]
  },
  {
   "cell_type": "code",
   "execution_count": 21,
   "id": "c708aad2",
   "metadata": {},
   "outputs": [
    {
     "data": {
      "text/plain": [
       "302400"
      ]
     },
     "execution_count": 21,
     "metadata": {},
     "output_type": "execute_result"
    }
   ],
   "source": [
    "multiplyList(list1)"
   ]
  },
  {
   "cell_type": "code",
   "execution_count": 4,
   "id": "258a6faa",
   "metadata": {},
   "outputs": [],
   "source": [
    "list1=[1,1,2,3]"
   ]
  },
  {
   "cell_type": "code",
   "execution_count": 5,
   "id": "de5c2356",
   "metadata": {},
   "outputs": [
    {
     "data": {
      "text/plain": [
       "6"
      ]
     },
     "execution_count": 5,
     "metadata": {},
     "output_type": "execute_result"
    }
   ],
   "source": [
    "multiplyList(list1)"
   ]
  },
  {
   "cell_type": "code",
   "execution_count": 6,
   "id": "ed7ad722",
   "metadata": {},
   "outputs": [],
   "source": [
    "#Smallest nuumber in a list\n"
   ]
  },
  {
   "cell_type": "code",
   "execution_count": 8,
   "id": "938ec7ab",
   "metadata": {},
   "outputs": [
    {
     "name": "stdout",
     "output_type": "stream",
     "text": [
      "Smallest element in list: 20\n"
     ]
    }
   ],
   "source": [
    "list1=[32,76,89,20,80,90,67,90,56,43,23]\n",
    "list1.sort()\n",
    "print('Smallest element in list:',list1[0])"
   ]
  },
  {
   "cell_type": "code",
   "execution_count": 11,
   "id": "a609a4e7",
   "metadata": {},
   "outputs": [
    {
     "name": "stdout",
     "output_type": "stream",
     "text": [
      "Smallest element in list: 20\n"
     ]
    }
   ],
   "source": [
    "list1=[32,76,89,20,80,90,67,90,56,43,23]\n",
    "list1.sort()\n",
    "print('Smallest element in list:',min(list1))"
   ]
  },
  {
   "cell_type": "code",
   "execution_count": 12,
   "id": "ef26a4af",
   "metadata": {},
   "outputs": [],
   "source": [
    "list1=[32,76,89,20,80,90,67,90,56,43,23]\n",
    "list1.sort(reverse=True)"
   ]
  },
  {
   "cell_type": "code",
   "execution_count": 14,
   "id": "e5548a2a",
   "metadata": {},
   "outputs": [
    {
     "data": {
      "text/plain": [
       "20"
      ]
     },
     "execution_count": 14,
     "metadata": {},
     "output_type": "execute_result"
    }
   ],
   "source": [
    "list1[-1]"
   ]
  },
  {
   "cell_type": "code",
   "execution_count": 15,
   "id": "01d774ce",
   "metadata": {},
   "outputs": [
    {
     "name": "stdout",
     "output_type": "stream",
     "text": [
      "Smallest element in list: 20.4\n"
     ]
    }
   ],
   "source": [
    "list1=[32,76.7,89,20.4,80,90,67,90,56.8,43,23]\n",
    "list1.sort()\n",
    "print('Smallest element in list:',list1[0])"
   ]
  },
  {
   "cell_type": "code",
   "execution_count": null,
   "id": "c4340a92",
   "metadata": {},
   "outputs": [],
   "source": [
    "#Largest number in list"
   ]
  },
  {
   "cell_type": "code",
   "execution_count": 19,
   "id": "c9b5c81f",
   "metadata": {},
   "outputs": [
    {
     "name": "stdout",
     "output_type": "stream",
     "text": [
      "Max element in list: 90\n"
     ]
    }
   ],
   "source": [
    "list1=[32,76,89,20,80,90,67,90,56,43,23]\n",
    "list1.sort()\n",
    "print('Max element in list:',list1[-1])"
   ]
  },
  {
   "cell_type": "code",
   "execution_count": 20,
   "id": "bbd440c8",
   "metadata": {},
   "outputs": [
    {
     "name": "stdout",
     "output_type": "stream",
     "text": [
      "Max element in list: 90\n"
     ]
    }
   ],
   "source": [
    "list1=[32,76,89,20,80,90,67,90,56,43,23]\n",
    "list1.sort()\n",
    "print('Max element in list:',max(list1))"
   ]
  },
  {
   "cell_type": "code",
   "execution_count": 21,
   "id": "84076e12",
   "metadata": {},
   "outputs": [],
   "source": [
    "def maxelement(lst):\n",
    "    print(max(lst))"
   ]
  },
  {
   "cell_type": "code",
   "execution_count": 29,
   "id": "552affc9",
   "metadata": {},
   "outputs": [],
   "source": [
    "lst=[34,67,78,89,90,78,67,56,45,34,23,12]"
   ]
  },
  {
   "cell_type": "code",
   "execution_count": 23,
   "id": "fa7d226b",
   "metadata": {},
   "outputs": [
    {
     "name": "stdout",
     "output_type": "stream",
     "text": [
      "90\n"
     ]
    }
   ],
   "source": [
    " maxelement(lst)"
   ]
  },
  {
   "cell_type": "code",
   "execution_count": 24,
   "id": "e6faf002",
   "metadata": {},
   "outputs": [
    {
     "data": {
      "text/plain": [
       "[40, 10, 50, 20, 60, 30]"
      ]
     },
     "execution_count": 24,
     "metadata": {},
     "output_type": "execute_result"
    }
   ],
   "source": [
    "#Second largest number in list\n",
    "list1=[10,20,30,40,50,60,50,10]\n",
    "list2=list(set(list1))\n",
    "list2"
   ]
  },
  {
   "cell_type": "code",
   "execution_count": 25,
   "id": "90b52a96",
   "metadata": {},
   "outputs": [],
   "source": [
    "list2.sort()"
   ]
  },
  {
   "cell_type": "code",
   "execution_count": 27,
   "id": "7bdaedd3",
   "metadata": {},
   "outputs": [
    {
     "data": {
      "text/plain": [
       "50"
      ]
     },
     "execution_count": 27,
     "metadata": {},
     "output_type": "execute_result"
    }
   ],
   "source": [
    "list2[-2]"
   ]
  },
  {
   "cell_type": "code",
   "execution_count": 34,
   "id": "6704e82e",
   "metadata": {},
   "outputs": [],
   "source": [
    "def second_largest(lst):\n",
    "    lst.sort()\n",
    "    print(\"Second largest element is:\",sorted(lst)[-2])"
   ]
  },
  {
   "cell_type": "code",
   "execution_count": 35,
   "id": "a7a6f773",
   "metadata": {},
   "outputs": [
    {
     "name": "stdout",
     "output_type": "stream",
     "text": [
      "Second largest element is: 89\n"
     ]
    }
   ],
   "source": [
    "second_largest(lst)"
   ]
  },
  {
   "cell_type": "code",
   "execution_count": 36,
   "id": "02c60bfd",
   "metadata": {},
   "outputs": [
    {
     "name": "stdout",
     "output_type": "stream",
     "text": [
      "10\n",
      "4\n",
      "66\n"
     ]
    }
   ],
   "source": [
    "#Print even number in list\n",
    "list1=[10,21,4,45,66,93]\n",
    "for num in list1:\n",
    "    if num%2==0:\n",
    "        print(num)\n"
   ]
  },
  {
   "cell_type": "code",
   "execution_count": null,
   "id": "99c85a4c",
   "metadata": {},
   "outputs": [],
   "source": [
    "#Print odd numbers in list"
   ]
  },
  {
   "cell_type": "code",
   "execution_count": 37,
   "id": "0ede93bb",
   "metadata": {},
   "outputs": [
    {
     "name": "stdout",
     "output_type": "stream",
     "text": [
      "21\n",
      "45\n",
      "93\n"
     ]
    }
   ],
   "source": [
    "list1=[10,21,4,45,66,93]\n",
    "for num in list1:\n",
    "    if num%2!=0:\n",
    "        print(num)"
   ]
  },
  {
   "cell_type": "code",
   "execution_count": 38,
   "id": "653823f4",
   "metadata": {},
   "outputs": [
    {
     "name": "stdout",
     "output_type": "stream",
     "text": [
      "4 6 8 10 12 14 "
     ]
    }
   ],
   "source": [
    "#Program to print all even nuumbers in range\n",
    "for even_numbers in range(4,15,2):\n",
    "    print(even_numbers,end=' ')"
   ]
  },
  {
   "cell_type": "code",
   "execution_count": null,
   "id": "7b25acf4",
   "metadata": {},
   "outputs": [],
   "source": [
    "#Program to count all even and odd in list"
   ]
  },
  {
   "cell_type": "code",
   "execution_count": 41,
   "id": "6cf24d15",
   "metadata": {},
   "outputs": [],
   "source": [
    "\n",
    "def count(lst):\n",
    "    even_count, odd_count=0,0\n",
    "    for num in lst:\n",
    "        if num%2==0:\n",
    "            even_count+=1\n",
    "        else:\n",
    "            odd_count+=1\n",
    "    print(\"Even numbers in the list:\",even_count)\n",
    "    print(\"Odd numbers in the list\",odd_count)\n",
    "    "
   ]
  },
  {
   "cell_type": "code",
   "execution_count": 40,
   "id": "99e4f7b7",
   "metadata": {},
   "outputs": [],
   "source": [
    "lst=[20,90,80,78,67,56]"
   ]
  },
  {
   "cell_type": "code",
   "execution_count": 42,
   "id": "87e00403",
   "metadata": {},
   "outputs": [
    {
     "name": "stdout",
     "output_type": "stream",
     "text": [
      "Even numbers in the list: 5\n",
      "Odd numbers in the list 1\n"
     ]
    }
   ],
   "source": [
    "count(lst)"
   ]
  },
  {
   "cell_type": "code",
   "execution_count": null,
   "id": "7d65671d",
   "metadata": {},
   "outputs": [],
   "source": []
  }
 ],
 "metadata": {
  "kernelspec": {
   "display_name": "Python 3 (ipykernel)",
   "language": "python",
   "name": "python3"
  },
  "language_info": {
   "codemirror_mode": {
    "name": "ipython",
    "version": 3
   },
   "file_extension": ".py",
   "mimetype": "text/x-python",
   "name": "python",
   "nbconvert_exporter": "python",
   "pygments_lexer": "ipython3",
   "version": "3.9.12"
  }
 },
 "nbformat": 4,
 "nbformat_minor": 5
}
