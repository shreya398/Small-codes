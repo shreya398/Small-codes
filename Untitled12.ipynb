{
 "cells": [
  {
   "cell_type": "code",
   "execution_count": 2,
   "id": "ce7b8637",
   "metadata": {},
   "outputs": [],
   "source": [
    "#Python program to print positive number in list\n"
   ]
  },
  {
   "cell_type": "code",
   "execution_count": 5,
   "id": "9840aa75",
   "metadata": {},
   "outputs": [
    {
     "name": "stdout",
     "output_type": "stream",
     "text": [
      "Positive number: 23\n",
      "Positive number: 8\n",
      "Positive number: 34\n",
      "Positive number: 65\n"
     ]
    }
   ],
   "source": [
    "list1=[23,-9,8,34,-1,65,-7]\n",
    "for num in list1:\n",
    "    if num>0:\n",
    "        print(\"Positive number:\",num)"
   ]
  },
  {
   "cell_type": "code",
   "execution_count": 9,
   "id": "0b820242",
   "metadata": {},
   "outputs": [
    {
     "name": "stdout",
     "output_type": "stream",
     "text": [
      "23 8 34 65 0 "
     ]
    }
   ],
   "source": [
    "list1=[23,-9,8,34,-1,65,-7,0]\n",
    "for num in list1:\n",
    "    if num>=0:\n",
    "        print(num,end=\" \")"
   ]
  },
  {
   "cell_type": "code",
   "execution_count": 13,
   "id": "0d7e6fb9",
   "metadata": {},
   "outputs": [],
   "source": [
    "def num(list1):\n",
    "    for num in list1:\n",
    "        if num>0:\n",
    "            print(\"Positive number:\",num)"
   ]
  },
  {
   "cell_type": "code",
   "execution_count": 14,
   "id": "3e34fc0c",
   "metadata": {},
   "outputs": [],
   "source": [
    "list1=[23,-9,8,34,-1,65,-7]"
   ]
  },
  {
   "cell_type": "code",
   "execution_count": 15,
   "id": "b2ba0f3a",
   "metadata": {},
   "outputs": [
    {
     "name": "stdout",
     "output_type": "stream",
     "text": [
      "Positive number: 23\n",
      "Positive number: 8\n",
      "Positive number: 34\n",
      "Positive number: 65\n"
     ]
    }
   ],
   "source": [
    "num(list1)"
   ]
  },
  {
   "cell_type": "code",
   "execution_count": 19,
   "id": "163f0d6c",
   "metadata": {},
   "outputs": [],
   "source": [
    "#Python program to print negative number in list"
   ]
  },
  {
   "cell_type": "code",
   "execution_count": 20,
   "id": "3019c294",
   "metadata": {},
   "outputs": [
    {
     "name": "stdout",
     "output_type": "stream",
     "text": [
      "Negative number: -9\n",
      "Negative number: -1\n",
      "Negative number: -7\n"
     ]
    }
   ],
   "source": [
    "list1=[23,-9,8,34,-1,65,-7]\n",
    "for num in list1:\n",
    "    if num<0:\n",
    "        print(\"Negative number:\",num)"
   ]
  },
  {
   "cell_type": "code",
   "execution_count": 18,
   "id": "4a5e488f",
   "metadata": {},
   "outputs": [],
   "source": [
    "#Python program to count positive and negative number in list"
   ]
  },
  {
   "cell_type": "code",
   "execution_count": 25,
   "id": "88ea2168",
   "metadata": {},
   "outputs": [],
   "source": [
    "def num(lst):\n",
    "    positive_count,negative_count=0,0\n",
    "    for num in lst:\n",
    "        if num>=0:\n",
    "            positive_count+=1\n",
    "        else:\n",
    "            negative_count+=1\n",
    "    print(\"positive number in list:\",positive_count)\n",
    "    print(\"negative number in list:\",negative_count)"
   ]
  },
  {
   "cell_type": "code",
   "execution_count": 26,
   "id": "950fd305",
   "metadata": {},
   "outputs": [],
   "source": [
    "lst=[-1,45,-78,32,-4,89,91,2010,-51,-77,-48]"
   ]
  },
  {
   "cell_type": "code",
   "execution_count": 27,
   "id": "a892384a",
   "metadata": {},
   "outputs": [
    {
     "name": "stdout",
     "output_type": "stream",
     "text": [
      "positive number in list: 5\n",
      "negative number in list: 6\n"
     ]
    }
   ],
   "source": [
    "num(lst)"
   ]
  },
  {
   "cell_type": "code",
   "execution_count": null,
   "id": "37e74211",
   "metadata": {},
   "outputs": [],
   "source": [
    "#Remove empty tuples from a list of tuples function to remove empty tuples using list comprehension"
   ]
  },
  {
   "cell_type": "code",
   "execution_count": 28,
   "id": "2ab2f06f",
   "metadata": {},
   "outputs": [
    {
     "name": "stdout",
     "output_type": "stream",
     "text": [
      "[('ram', '15', '8'), ('laxman', 'sita'), ('krishna', 'akbar', '45'), ('', '')]\n"
     ]
    }
   ],
   "source": [
    "def Remove(tuples):\n",
    "    tuples=[t for t in tuples if t]\n",
    "    return tuples\n",
    "tuples=[(),('ram','15','8'),(),('laxman','sita'),('krishna','akbar','45'),('',''),()]\n",
    "print(Remove(tuples))"
   ]
  },
  {
   "cell_type": "code",
   "execution_count": 29,
   "id": "b515395a",
   "metadata": {},
   "outputs": [
    {
     "name": "stdout",
     "output_type": "stream",
     "text": [
      "[1, 2, 5, 9]\n"
     ]
    }
   ],
   "source": [
    "lis=[1,2,1,2,3,4,5,1,1,2,5,6,7,8,9,9]\n",
    "uniqueList=[]\n",
    "duplicateList=[]\n",
    "for i in lis:\n",
    "    if i not in uniqueList:\n",
    "        uniqueList.append(i)\n",
    "    elif i not in duplicateList:\n",
    "        duplicateList.append(i)\n",
    "print(duplicateList)"
   ]
  },
  {
   "cell_type": "code",
   "execution_count": null,
   "id": "16146d6f",
   "metadata": {},
   "outputs": [],
   "source": []
  },
  {
   "cell_type": "code",
   "execution_count": null,
   "id": "b79169d4",
   "metadata": {},
   "outputs": [],
   "source": []
  },
  {
   "cell_type": "code",
   "execution_count": null,
   "id": "bd400b42",
   "metadata": {},
   "outputs": [],
   "source": []
  },
  {
   "cell_type": "code",
   "execution_count": null,
   "id": "7018d52d",
   "metadata": {},
   "outputs": [],
   "source": []
  },
  {
   "cell_type": "code",
   "execution_count": null,
   "id": "7932a12d",
   "metadata": {},
   "outputs": [],
   "source": []
  }
 ],
 "metadata": {
  "kernelspec": {
   "display_name": "Python 3 (ipykernel)",
   "language": "python",
   "name": "python3"
  },
  "language_info": {
   "codemirror_mode": {
    "name": "ipython",
    "version": 3
   },
   "file_extension": ".py",
   "mimetype": "text/x-python",
   "name": "python",
   "nbconvert_exporter": "python",
   "pygments_lexer": "ipython3",
   "version": "3.9.12"
  }
 },
 "nbformat": 4,
 "nbformat_minor": 5
}
