{
 "cells": [
  {
   "cell_type": "code",
   "execution_count": 1,
   "id": "4401130e",
   "metadata": {},
   "outputs": [],
   "source": [
    "name=\"Shreya Subhash Guggare\""
   ]
  },
  {
   "cell_type": "code",
   "execution_count": 2,
   "id": "7a25e28a",
   "metadata": {},
   "outputs": [
    {
     "data": {
      "text/plain": [
       "'Shreya subhash guggare'"
      ]
     },
     "execution_count": 2,
     "metadata": {},
     "output_type": "execute_result"
    }
   ],
   "source": [
    "#Capitalize - makes first character of String Capital and rest all lower\n",
    "name.capitalize()"
   ]
  },
  {
   "cell_type": "code",
   "execution_count": 14,
   "id": "da0321ff",
   "metadata": {},
   "outputs": [
    {
     "data": {
      "text/plain": [
       "'S h r e y a   S u b h a s h   G u g g a r e'"
      ]
     },
     "execution_count": 14,
     "metadata": {},
     "output_type": "execute_result"
    }
   ],
   "source": [
    "\" \".join(name)"
   ]
  },
  {
   "cell_type": "code",
   "execution_count": 15,
   "id": "158cfd84",
   "metadata": {},
   "outputs": [
    {
     "data": {
      "text/plain": [
       "<reversed at 0x1861ad9bb80>"
      ]
     },
     "execution_count": 15,
     "metadata": {},
     "output_type": "execute_result"
    }
   ],
   "source": [
    "#Reversed - reverses a string\n",
    "reversed(name)"
   ]
  },
  {
   "cell_type": "code",
   "execution_count": 16,
   "id": "6574e024",
   "metadata": {},
   "outputs": [
    {
     "data": {
      "text/plain": [
       "'e r a g g u G   h s a h b u S   a y e r h S'"
      ]
     },
     "execution_count": 16,
     "metadata": {},
     "output_type": "execute_result"
    }
   ],
   "source": [
    "# use .join to display reversed string\n",
    "\" \".join(reversed(name))"
   ]
  },
  {
   "cell_type": "code",
   "execution_count": 17,
   "id": "8ba0db63",
   "metadata": {},
   "outputs": [
    {
     "data": {
      "text/plain": [
       "['e',\n",
       " 'r',\n",
       " 'a',\n",
       " 'g',\n",
       " 'g',\n",
       " 'u',\n",
       " 'G',\n",
       " ' ',\n",
       " 'h',\n",
       " 's',\n",
       " 'a',\n",
       " 'h',\n",
       " 'b',\n",
       " 'u',\n",
       " 'S',\n",
       " ' ',\n",
       " 'a',\n",
       " 'y',\n",
       " 'e',\n",
       " 'r',\n",
       " 'h',\n",
       " 'S']"
      ]
     },
     "execution_count": 17,
     "metadata": {},
     "output_type": "execute_result"
    }
   ],
   "source": [
    "list(reversed(name))"
   ]
  },
  {
   "cell_type": "code",
   "execution_count": 19,
   "id": "7bbfa41c",
   "metadata": {},
   "outputs": [
    {
     "data": {
      "text/plain": [
       "['Shreya', 'Subhash', 'Guggare']"
      ]
     },
     "execution_count": 19,
     "metadata": {},
     "output_type": "execute_result"
    }
   ],
   "source": [
    "name.split(\" \")"
   ]
  },
  {
   "cell_type": "code",
   "execution_count": 21,
   "id": "e14b0c18",
   "metadata": {},
   "outputs": [
    {
     "data": {
      "text/plain": [
       "['Guggare', 'Subhash', 'Shreya']"
      ]
     },
     "execution_count": 21,
     "metadata": {},
     "output_type": "execute_result"
    }
   ],
   "source": [
    "name.split(\" \")[::-1]"
   ]
  },
  {
   "cell_type": "code",
   "execution_count": 32,
   "id": "40c6cd7e",
   "metadata": {},
   "outputs": [
    {
     "data": {
      "text/plain": [
       "'Subhash'"
      ]
     },
     "execution_count": 32,
     "metadata": {},
     "output_type": "execute_result"
    }
   ],
   "source": [
    "name.split(\" \")[::-1][1]"
   ]
  },
  {
   "cell_type": "code",
   "execution_count": 23,
   "id": "6062c831",
   "metadata": {},
   "outputs": [
    {
     "data": {
      "text/plain": [
       "'Shreya'"
      ]
     },
     "execution_count": 23,
     "metadata": {},
     "output_type": "execute_result"
    }
   ],
   "source": [
    "name.split(\" \")[::-1][2]"
   ]
  },
  {
   "cell_type": "code",
   "execution_count": 24,
   "id": "ea7dbf36",
   "metadata": {},
   "outputs": [
    {
     "data": {
      "text/plain": [
       "'S * h * r * e * y * a *   * S * u * b * h * a * s * h *   * G * u * g * g * a * r * e'"
      ]
     },
     "execution_count": 24,
     "metadata": {},
     "output_type": "execute_result"
    }
   ],
   "source": [
    "\" * \".join(name)"
   ]
  },
  {
   "cell_type": "code",
   "execution_count": 25,
   "id": "70377f49",
   "metadata": {},
   "outputs": [
    {
     "data": {
      "text/plain": [
       "'Shreya Subhash Guggare'"
      ]
     },
     "execution_count": 25,
     "metadata": {},
     "output_type": "execute_result"
    }
   ],
   "source": [
    "#Return a copy of the string with leading and trailing whitespace removed.\n",
    "name.strip()"
   ]
  },
  {
   "cell_type": "code",
   "execution_count": 26,
   "id": "dc6559e2",
   "metadata": {},
   "outputs": [],
   "source": [
    "a = 'jandmnflkdrg    '"
   ]
  },
  {
   "cell_type": "code",
   "execution_count": 27,
   "id": "b181ec3a",
   "metadata": {},
   "outputs": [
    {
     "data": {
      "text/plain": [
       "'jandmnflkdrg'"
      ]
     },
     "execution_count": 27,
     "metadata": {},
     "output_type": "execute_result"
    }
   ],
   "source": [
    "a.strip()"
   ]
  },
  {
   "cell_type": "code",
   "execution_count": 28,
   "id": "6a1f40f5",
   "metadata": {},
   "outputs": [
    {
     "data": {
      "text/plain": [
       "'jandmnflkdrg    '"
      ]
     },
     "execution_count": 28,
     "metadata": {},
     "output_type": "execute_result"
    }
   ],
   "source": [
    "a"
   ]
  },
  {
   "cell_type": "code",
   "execution_count": 29,
   "id": "33fb5124",
   "metadata": {},
   "outputs": [],
   "source": [
    "b= \"Good Morning Dharwad\""
   ]
  },
  {
   "cell_type": "code",
   "execution_count": 30,
   "id": "c499ec47",
   "metadata": {},
   "outputs": [
    {
     "data": {
      "text/plain": [
       "'Good Morning Sankeshwar'"
      ]
     },
     "execution_count": 30,
     "metadata": {},
     "output_type": "execute_result"
    }
   ],
   "source": [
    "b.replace('Dharwad','Sankeshwar')"
   ]
  },
  {
   "cell_type": "code",
   "execution_count": 31,
   "id": "f3f71045",
   "metadata": {},
   "outputs": [
    {
     "data": {
      "text/plain": [
       "'G  d Morning Dharwad'"
      ]
     },
     "execution_count": 31,
     "metadata": {},
     "output_type": "execute_result"
    }
   ],
   "source": [
    "b.replace(\"oo\",\"  \")"
   ]
  },
  {
   "cell_type": "code",
   "execution_count": 33,
   "id": "c9d93fdd",
   "metadata": {},
   "outputs": [
    {
     "data": {
      "text/plain": [
       "'Shreya Subhash Guggare'"
      ]
     },
     "execution_count": 33,
     "metadata": {},
     "output_type": "execute_result"
    }
   ],
   "source": [
    "name"
   ]
  },
  {
   "cell_type": "code",
   "execution_count": 34,
   "id": "db3a7185",
   "metadata": {},
   "outputs": [
    {
     "data": {
      "text/plain": [
       "False"
      ]
     },
     "execution_count": 34,
     "metadata": {},
     "output_type": "execute_result"
    }
   ],
   "source": [
    "name.islower()"
   ]
  },
  {
   "cell_type": "code",
   "execution_count": 35,
   "id": "e0fda065",
   "metadata": {},
   "outputs": [
    {
     "data": {
      "text/plain": [
       "False"
      ]
     },
     "execution_count": 35,
     "metadata": {},
     "output_type": "execute_result"
    }
   ],
   "source": [
    "name.isupper()"
   ]
  },
  {
   "cell_type": "code",
   "execution_count": 36,
   "id": "201dd54b",
   "metadata": {},
   "outputs": [
    {
     "data": {
      "text/plain": [
       "False"
      ]
     },
     "execution_count": 36,
     "metadata": {},
     "output_type": "execute_result"
    }
   ],
   "source": [
    "\"\".isspace()"
   ]
  },
  {
   "cell_type": "code",
   "execution_count": 37,
   "id": "e8e53a54",
   "metadata": {},
   "outputs": [
    {
     "data": {
      "text/plain": [
       "True"
      ]
     },
     "execution_count": 37,
     "metadata": {},
     "output_type": "execute_result"
    }
   ],
   "source": [
    "\" \".isspace()"
   ]
  },
  {
   "cell_type": "code",
   "execution_count": 38,
   "id": "51541dbb",
   "metadata": {},
   "outputs": [
    {
     "data": {
      "text/plain": [
       "True"
      ]
     },
     "execution_count": 38,
     "metadata": {},
     "output_type": "execute_result"
    }
   ],
   "source": [
    "name.endswith(\"e\")"
   ]
  },
  {
   "cell_type": "code",
   "execution_count": 39,
   "id": "b0fb1330",
   "metadata": {},
   "outputs": [
    {
     "data": {
      "text/plain": [
       "False"
      ]
     },
     "execution_count": 39,
     "metadata": {},
     "output_type": "execute_result"
    }
   ],
   "source": [
    "name.endswith(\"t\")"
   ]
  },
  {
   "cell_type": "code",
   "execution_count": 40,
   "id": "75b6fc40",
   "metadata": {},
   "outputs": [
    {
     "data": {
      "text/plain": [
       "True"
      ]
     },
     "execution_count": 40,
     "metadata": {},
     "output_type": "execute_result"
    }
   ],
   "source": [
    "name.split(\" \")[1].endswith(\"h\")"
   ]
  },
  {
   "cell_type": "code",
   "execution_count": 41,
   "id": "2f4e5664",
   "metadata": {},
   "outputs": [],
   "source": [
    "x= \"jndf745732d\""
   ]
  },
  {
   "cell_type": "code",
   "execution_count": 42,
   "id": "3e0be329",
   "metadata": {},
   "outputs": [
    {
     "data": {
      "text/plain": [
       "True"
      ]
     },
     "execution_count": 42,
     "metadata": {},
     "output_type": "execute_result"
    }
   ],
   "source": [
    "x.isalnum()"
   ]
  },
  {
   "cell_type": "code",
   "execution_count": null,
   "id": "a2107a9a",
   "metadata": {},
   "outputs": [],
   "source": [
    "#Reversing the string"
   ]
  },
  {
   "cell_type": "code",
   "execution_count": 43,
   "id": "1d31e98a",
   "metadata": {},
   "outputs": [],
   "source": [
    "n=\"Shreya\""
   ]
  },
  {
   "cell_type": "code",
   "execution_count": 45,
   "id": "a7f6ecf1",
   "metadata": {},
   "outputs": [
    {
     "name": "stdout",
     "output_type": "stream",
     "text": [
      "a\n",
      "y\n",
      "e\n",
      "r\n",
      "h\n",
      "S\n"
     ]
    }
   ],
   "source": [
    "l=len(n)-1\n",
    "while l!=-1:\n",
    "    print(n[l])\n",
    "    l=l-1"
   ]
  },
  {
   "cell_type": "code",
   "execution_count": 46,
   "id": "852bebe7",
   "metadata": {},
   "outputs": [
    {
     "name": "stdout",
     "output_type": "stream",
     "text": [
      "ayerhS"
     ]
    }
   ],
   "source": [
    "l=len(n)-1\n",
    "while l!=-1:\n",
    "    print(n[l],end=(\"\"))\n",
    "    l=l-1"
   ]
  },
  {
   "cell_type": "code",
   "execution_count": 47,
   "id": "b6a0e4e4",
   "metadata": {},
   "outputs": [
    {
     "data": {
      "text/plain": [
       "'ayerhS'"
      ]
     },
     "execution_count": 47,
     "metadata": {},
     "output_type": "execute_result"
    }
   ],
   "source": [
    "n[::-1]"
   ]
  },
  {
   "cell_type": "code",
   "execution_count": null,
   "id": "efcb81f5",
   "metadata": {},
   "outputs": [],
   "source": [
    "#spliting the name into different columns"
   ]
  },
  {
   "cell_type": "code",
   "execution_count": 4,
   "id": "1a28a54e",
   "metadata": {},
   "outputs": [],
   "source": [
    "import pandas as pd"
   ]
  },
  {
   "cell_type": "code",
   "execution_count": 5,
   "id": "0a8aba54",
   "metadata": {},
   "outputs": [],
   "source": [
    "df= pd.DataFrame({\"fullname\":[\"Shreya Subhash Guggare\"]})"
   ]
  },
  {
   "cell_type": "code",
   "execution_count": 6,
   "id": "a9521f3b",
   "metadata": {},
   "outputs": [
    {
     "data": {
      "text/html": [
       "<div>\n",
       "<style scoped>\n",
       "    .dataframe tbody tr th:only-of-type {\n",
       "        vertical-align: middle;\n",
       "    }\n",
       "\n",
       "    .dataframe tbody tr th {\n",
       "        vertical-align: top;\n",
       "    }\n",
       "\n",
       "    .dataframe thead th {\n",
       "        text-align: right;\n",
       "    }\n",
       "</style>\n",
       "<table border=\"1\" class=\"dataframe\">\n",
       "  <thead>\n",
       "    <tr style=\"text-align: right;\">\n",
       "      <th></th>\n",
       "      <th>fullname</th>\n",
       "    </tr>\n",
       "  </thead>\n",
       "  <tbody>\n",
       "    <tr>\n",
       "      <th>0</th>\n",
       "      <td>Shreya Subhash Guggare</td>\n",
       "    </tr>\n",
       "  </tbody>\n",
       "</table>\n",
       "</div>"
      ],
      "text/plain": [
       "                 fullname\n",
       "0  Shreya Subhash Guggare"
      ]
     },
     "execution_count": 6,
     "metadata": {},
     "output_type": "execute_result"
    }
   ],
   "source": [
    "df"
   ]
  },
  {
   "cell_type": "code",
   "execution_count": 56,
   "id": "0cd33cb5",
   "metadata": {},
   "outputs": [
    {
     "data": {
      "text/plain": [
       "'Shreya Subhash Guggare'"
      ]
     },
     "execution_count": 56,
     "metadata": {},
     "output_type": "execute_result"
    }
   ],
   "source": [
    "df.values[0][0]"
   ]
  },
  {
   "cell_type": "code",
   "execution_count": 57,
   "id": "c72ec454",
   "metadata": {},
   "outputs": [
    {
     "data": {
      "text/plain": [
       "['Shreya', 'Subhash', 'Guggare']"
      ]
     },
     "execution_count": 57,
     "metadata": {},
     "output_type": "execute_result"
    }
   ],
   "source": [
    "df.values[0][0].split(\" \")"
   ]
  },
  {
   "cell_type": "code",
   "execution_count": 60,
   "id": "6110c513",
   "metadata": {},
   "outputs": [
    {
     "data": {
      "text/plain": [
       "'Shreya Subhash Guggare'"
      ]
     },
     "execution_count": 60,
     "metadata": {},
     "output_type": "execute_result"
    }
   ],
   "source": [
    "df.fullname.array[0].spilt(\" \")"
   ]
  },
  {
   "cell_type": "code",
   "execution_count": 61,
   "id": "56ec904d",
   "metadata": {},
   "outputs": [
    {
     "data": {
      "text/plain": [
       "dtype('O')"
      ]
     },
     "execution_count": 61,
     "metadata": {},
     "output_type": "execute_result"
    }
   ],
   "source": [
    "df.fullname.dtypes"
   ]
  },
  {
   "cell_type": "code",
   "execution_count": 62,
   "id": "49953d64",
   "metadata": {},
   "outputs": [
    {
     "data": {
      "text/plain": [
       "<pandas.core.strings.accessor.StringMethods at 0x1861c0ff7f0>"
      ]
     },
     "execution_count": 62,
     "metadata": {},
     "output_type": "execute_result"
    }
   ],
   "source": [
    "#converting object dtype into string\n",
    "df.fullname.str"
   ]
  },
  {
   "cell_type": "code",
   "execution_count": 63,
   "id": "f66764c4",
   "metadata": {},
   "outputs": [
    {
     "data": {
      "text/plain": [
       "pandas.core.strings.accessor.StringMethods"
      ]
     },
     "execution_count": 63,
     "metadata": {},
     "output_type": "execute_result"
    }
   ],
   "source": [
    "type(df.fullname.str)"
   ]
  },
  {
   "cell_type": "code",
   "execution_count": 64,
   "id": "ff743199",
   "metadata": {},
   "outputs": [
    {
     "data": {
      "text/plain": [
       "dtype('O')"
      ]
     },
     "execution_count": 64,
     "metadata": {},
     "output_type": "execute_result"
    }
   ],
   "source": [
    "df.fullname.dtypes"
   ]
  },
  {
   "cell_type": "code",
   "execution_count": 65,
   "id": "0b53a198",
   "metadata": {},
   "outputs": [
    {
     "data": {
      "text/plain": [
       "0    [Shreya, Subhash, Guggare]\n",
       "Name: fullname, dtype: object"
      ]
     },
     "execution_count": 65,
     "metadata": {},
     "output_type": "execute_result"
    }
   ],
   "source": [
    "df.fullname.str.split(\" \")"
   ]
  },
  {
   "cell_type": "code",
   "execution_count": 7,
   "id": "0408f565",
   "metadata": {},
   "outputs": [
    {
     "data": {
      "text/html": [
       "<div>\n",
       "<style scoped>\n",
       "    .dataframe tbody tr th:only-of-type {\n",
       "        vertical-align: middle;\n",
       "    }\n",
       "\n",
       "    .dataframe tbody tr th {\n",
       "        vertical-align: top;\n",
       "    }\n",
       "\n",
       "    .dataframe thead th {\n",
       "        text-align: right;\n",
       "    }\n",
       "</style>\n",
       "<table border=\"1\" class=\"dataframe\">\n",
       "  <thead>\n",
       "    <tr style=\"text-align: right;\">\n",
       "      <th></th>\n",
       "      <th>0</th>\n",
       "      <th>1</th>\n",
       "      <th>2</th>\n",
       "    </tr>\n",
       "  </thead>\n",
       "  <tbody>\n",
       "    <tr>\n",
       "      <th>0</th>\n",
       "      <td>Shreya</td>\n",
       "      <td>Subhash</td>\n",
       "      <td>Guggare</td>\n",
       "    </tr>\n",
       "  </tbody>\n",
       "</table>\n",
       "</div>"
      ],
      "text/plain": [
       "        0        1        2\n",
       "0  Shreya  Subhash  Guggare"
      ]
     },
     "execution_count": 7,
     "metadata": {},
     "output_type": "execute_result"
    }
   ],
   "source": [
    "df.fullname.str.split(\" \",expand=True)"
   ]
  },
  {
   "cell_type": "code",
   "execution_count": 8,
   "id": "356badea",
   "metadata": {},
   "outputs": [
    {
     "data": {
      "text/html": [
       "<div>\n",
       "<style scoped>\n",
       "    .dataframe tbody tr th:only-of-type {\n",
       "        vertical-align: middle;\n",
       "    }\n",
       "\n",
       "    .dataframe tbody tr th {\n",
       "        vertical-align: top;\n",
       "    }\n",
       "\n",
       "    .dataframe thead th {\n",
       "        text-align: right;\n",
       "    }\n",
       "</style>\n",
       "<table border=\"1\" class=\"dataframe\">\n",
       "  <thead>\n",
       "    <tr style=\"text-align: right;\">\n",
       "      <th></th>\n",
       "      <th>fullname</th>\n",
       "      <th>first_name</th>\n",
       "      <th>middle_name</th>\n",
       "      <th>last_name</th>\n",
       "    </tr>\n",
       "  </thead>\n",
       "  <tbody>\n",
       "    <tr>\n",
       "      <th>0</th>\n",
       "      <td>Shreya Subhash Guggare</td>\n",
       "      <td>Shreya</td>\n",
       "      <td>Subhash</td>\n",
       "      <td>Guggare</td>\n",
       "    </tr>\n",
       "  </tbody>\n",
       "</table>\n",
       "</div>"
      ],
      "text/plain": [
       "                 fullname first_name middle_name last_name\n",
       "0  Shreya Subhash Guggare     Shreya     Subhash   Guggare"
      ]
     },
     "execution_count": 8,
     "metadata": {},
     "output_type": "execute_result"
    }
   ],
   "source": [
    "df[[\"first_name\",\"middle_name\",\"last_name\"]]=df.fullname.str.split(\" \",expand=True)\n",
    "df"
   ]
  },
  {
   "cell_type": "code",
   "execution_count": 9,
   "id": "03ed5697",
   "metadata": {},
   "outputs": [],
   "source": [
    "#Printing the all the vowels in the string"
   ]
  },
  {
   "cell_type": "code",
   "execution_count": 13,
   "id": "300a4d31",
   "metadata": {},
   "outputs": [
    {
     "name": "stdout",
     "output_type": "stream",
     "text": [
      "e a u a u a e "
     ]
    }
   ],
   "source": [
    "name=\"Shreya Subhash Guggare\"\n",
    "vowels=\"AEIOUaeiou\"\n",
    "for i in name:\n",
    "    if i in vowels:\n",
    "        print (i,end=(\" \"))"
   ]
  },
  {
   "cell_type": "code",
   "execution_count": 14,
   "id": "d450114d",
   "metadata": {},
   "outputs": [],
   "source": [
    "def vowels(string):\n",
    "    vowels=\"AEIOUaeiou\"\n",
    "    for i in string:\n",
    "        if i in vowels:\n",
    "            print(i,end=\" \")"
   ]
  },
  {
   "cell_type": "code",
   "execution_count": 15,
   "id": "40d3db73",
   "metadata": {},
   "outputs": [
    {
     "name": "stdout",
     "output_type": "stream",
     "text": [
      "O E O U "
     ]
    }
   ],
   "source": [
    "vowels(\"LOVE YOU\")"
   ]
  },
  {
   "cell_type": "code",
   "execution_count": null,
   "id": "3a31d7fb",
   "metadata": {},
   "outputs": [],
   "source": []
  }
 ],
 "metadata": {
  "kernelspec": {
   "display_name": "Python 3 (ipykernel)",
   "language": "python",
   "name": "python3"
  },
  "language_info": {
   "codemirror_mode": {
    "name": "ipython",
    "version": 3
   },
   "file_extension": ".py",
   "mimetype": "text/x-python",
   "name": "python",
   "nbconvert_exporter": "python",
   "pygments_lexer": "ipython3",
   "version": "3.9.12"
  }
 },
 "nbformat": 4,
 "nbformat_minor": 5
}
