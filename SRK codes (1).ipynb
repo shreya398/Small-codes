{
 "cells": [
  {
   "cell_type": "code",
   "execution_count": 4,
   "id": "a9aa64b9",
   "metadata": {},
   "outputs": [],
   "source": [
    "# maximum of two numbers\n",
    "def max_of_two(a,b):\n",
    "    if a>b:  \n",
    "        return a \n",
    "    else: \n",
    "        return b"
   ]
  },
  {
   "cell_type": "code",
   "execution_count": 3,
   "id": "29b7da88",
   "metadata": {},
   "outputs": [
    {
     "data": {
      "text/plain": [
       "5"
      ]
     },
     "execution_count": 3,
     "metadata": {},
     "output_type": "execute_result"
    }
   ],
   "source": [
    "max_of_two(3,5)"
   ]
  },
  {
   "cell_type": "code",
   "execution_count": 5,
   "id": "635f3c79",
   "metadata": {},
   "outputs": [
    {
     "data": {
      "text/plain": [
       "50"
      ]
     },
     "execution_count": 5,
     "metadata": {},
     "output_type": "execute_result"
    }
   ],
   "source": [
    "abs(-50)"
   ]
  },
  {
   "cell_type": "code",
   "execution_count": 68,
   "id": "b263d6fb",
   "metadata": {},
   "outputs": [],
   "source": [
    "# absolute of number\n",
    "def absulute(a):\n",
    "    return max(a,-a)"
   ]
  },
  {
   "cell_type": "code",
   "execution_count": 69,
   "id": "e8931f35",
   "metadata": {},
   "outputs": [
    {
     "data": {
      "text/plain": [
       "59"
      ]
     },
     "execution_count": 69,
     "metadata": {},
     "output_type": "execute_result"
    }
   ],
   "source": [
    "absulute(-59)"
   ]
  },
  {
   "cell_type": "code",
   "execution_count": 70,
   "id": "6c4c9c99",
   "metadata": {},
   "outputs": [
    {
     "data": {
      "text/plain": [
       "38"
      ]
     },
     "execution_count": 70,
     "metadata": {},
     "output_type": "execute_result"
    }
   ],
   "source": [
    "absulute(38)"
   ]
  },
  {
   "cell_type": "code",
   "execution_count": 9,
   "id": "f7779efa",
   "metadata": {},
   "outputs": [],
   "source": [
    "#maximum of three numbers\n",
    "def max_of_3(a,b,c):\n",
    "    if a>b:\n",
    "        return a\n",
    "    elif b>c:\n",
    "        return b\n",
    "    else:\n",
    "        return c"
   ]
  },
  {
   "cell_type": "code",
   "execution_count": 10,
   "id": "88a8f6f3",
   "metadata": {},
   "outputs": [
    {
     "data": {
      "text/plain": [
       "3"
      ]
     },
     "execution_count": 10,
     "metadata": {},
     "output_type": "execute_result"
    }
   ],
   "source": [
    "max_of_3(1,2,3)"
   ]
  },
  {
   "cell_type": "code",
   "execution_count": 11,
   "id": "eff8bb80",
   "metadata": {},
   "outputs": [
    {
     "data": {
      "text/plain": [
       "3"
      ]
     },
     "execution_count": 11,
     "metadata": {},
     "output_type": "execute_result"
    }
   ],
   "source": [
    "max_of_3(3,2,1)"
   ]
  },
  {
   "cell_type": "code",
   "execution_count": 12,
   "id": "11c0e299",
   "metadata": {},
   "outputs": [],
   "source": [
    "l=[1,2,3,4,5,6,7,8,9]"
   ]
  },
  {
   "cell_type": "code",
   "execution_count": 27,
   "id": "6ffc7f31",
   "metadata": {},
   "outputs": [],
   "source": [
    "#maximum value in a list\n",
    "def max(list):\n",
    "    l=list\n",
    "    max=l[0]\n",
    "    for i in range(len(l)):\n",
    "        if l[i]>max:\n",
    "            max=l[i]\n",
    "    return max"
   ]
  },
  {
   "cell_type": "code",
   "execution_count": 13,
   "id": "7e8e546b",
   "metadata": {},
   "outputs": [
    {
     "data": {
      "text/plain": [
       "1"
      ]
     },
     "execution_count": 13,
     "metadata": {},
     "output_type": "execute_result"
    }
   ],
   "source": [
    "l[0]"
   ]
  },
  {
   "cell_type": "code",
   "execution_count": 29,
   "id": "6c58f2fc",
   "metadata": {},
   "outputs": [
    {
     "data": {
      "text/plain": [
       "8"
      ]
     },
     "execution_count": 29,
     "metadata": {},
     "output_type": "execute_result"
    }
   ],
   "source": [
    "max([5,8,3,8,2,])"
   ]
  },
  {
   "cell_type": "code",
   "execution_count": 30,
   "id": "62365a67",
   "metadata": {},
   "outputs": [
    {
     "data": {
      "text/plain": [
       "45"
      ]
     },
     "execution_count": 30,
     "metadata": {},
     "output_type": "execute_result"
    }
   ],
   "source": [
    "sum(l)"
   ]
  },
  {
   "cell_type": "code",
   "execution_count": 31,
   "id": "510fee93",
   "metadata": {},
   "outputs": [],
   "source": [
    "#sum of all values in a list\n",
    "def sum_list(list):\n",
    "    l=list\n",
    "    sum=0\n",
    "    for i in range(len(l)):\n",
    "        sum=l[i]+sum\n",
    "    return sum"
   ]
  },
  {
   "cell_type": "code",
   "execution_count": 32,
   "id": "a1fe7876",
   "metadata": {},
   "outputs": [
    {
     "data": {
      "text/plain": [
       "45"
      ]
     },
     "execution_count": 32,
     "metadata": {},
     "output_type": "execute_result"
    }
   ],
   "source": [
    "sum_list(l)"
   ]
  },
  {
   "cell_type": "code",
   "execution_count": 33,
   "id": "f6aa12f8",
   "metadata": {},
   "outputs": [
    {
     "data": {
      "text/plain": [
       "9"
      ]
     },
     "execution_count": 33,
     "metadata": {},
     "output_type": "execute_result"
    }
   ],
   "source": [
    "len(l)"
   ]
  },
  {
   "cell_type": "code",
   "execution_count": 51,
   "id": "519cd0aa",
   "metadata": {},
   "outputs": [],
   "source": [
    "#second maximum\n",
    "def second_max(list):\n",
    "    l=list\n",
    "    max=l[0]\n",
    "    for i in range(len(l)):\n",
    "        if l[i]>max:\n",
    "            max=l[i-2]\n",
    "            \n",
    "    return max"
   ]
  },
  {
   "cell_type": "code",
   "execution_count": 52,
   "id": "f99a1afa",
   "metadata": {},
   "outputs": [
    {
     "data": {
      "text/plain": [
       "9"
      ]
     },
     "execution_count": 52,
     "metadata": {},
     "output_type": "execute_result"
    }
   ],
   "source": [
    "second_max(l)"
   ]
  },
  {
   "cell_type": "code",
   "execution_count": 54,
   "id": "85f84975",
   "metadata": {},
   "outputs": [],
   "source": [
    "#minimum value in a list\n",
    "def min(list):\n",
    "    l=list\n",
    "    min=l[0]  \n",
    "    for i in range(len(l)):\n",
    "        if l[i]<min:\n",
    "            min=l[i]\n",
    "    return min      "
   ]
  },
  {
   "cell_type": "code",
   "execution_count": 55,
   "id": "6b482f9a",
   "metadata": {},
   "outputs": [
    {
     "data": {
      "text/plain": [
       "1"
      ]
     },
     "execution_count": 55,
     "metadata": {},
     "output_type": "execute_result"
    }
   ],
   "source": [
    "min(l)"
   ]
  },
  {
   "cell_type": "code",
   "execution_count": 1,
   "id": "5e2cd52f",
   "metadata": {},
   "outputs": [],
   "source": [
    "#diagonal elements in a matrix\n",
    "def diagonal_elements(a):\n",
    "    m=n=len(a)\n",
    "    de=[]\n",
    "    for i in range(m):\n",
    "        for j in range(n):\n",
    "            if i==j:\n",
    "                de.append(a[i][j])\n",
    "    return de\n",
    "    "
   ]
  },
  {
   "cell_type": "code",
   "execution_count": 2,
   "id": "68b461ab",
   "metadata": {},
   "outputs": [
    {
     "data": {
      "text/plain": [
       "[2, 7]"
      ]
     },
     "execution_count": 2,
     "metadata": {},
     "output_type": "execute_result"
    }
   ],
   "source": [
    "diagonal_elements([[2,4],[6,7]])"
   ]
  },
  {
   "cell_type": "code",
   "execution_count": 59,
   "id": "1a92a316",
   "metadata": {},
   "outputs": [],
   "source": [
    "matrix=[[1,2,3],[4,5,6],[7,8,9]]"
   ]
  },
  {
   "cell_type": "code",
   "execution_count": 60,
   "id": "afe75319",
   "metadata": {},
   "outputs": [
    {
     "data": {
      "text/plain": [
       "[1, 5, 9]"
      ]
     },
     "execution_count": 60,
     "metadata": {},
     "output_type": "execute_result"
    }
   ],
   "source": [
    "diagonal_elements(matrix)"
   ]
  },
  {
   "cell_type": "code",
   "execution_count": null,
   "id": "51133965",
   "metadata": {},
   "outputs": [],
   "source": [
    "#sum of elements in a diagonal elements\n",
    "def diagonal_elements(a):\n",
    "    M=a\n",
    "    m=n=len(M)\n",
    "    de=[]\n",
    "    for i in range(m):\n",
    "        for j in range(n):\n",
    "            if i==j:\n",
    "                de.append(M[i][j])\n",
    "    sumrd=sum(de)\n",
    "    \n",
    "    "
   ]
  },
  {
   "cell_type": "code",
   "execution_count": 61,
   "id": "8301b1e7",
   "metadata": {},
   "outputs": [
    {
     "data": {
      "text/plain": [
       "[[7, 8, 9], [4, 5, 6], [1, 2, 3]]"
      ]
     },
     "execution_count": 61,
     "metadata": {},
     "output_type": "execute_result"
    }
   ],
   "source": [
    "matrix[::-1]"
   ]
  },
  {
   "cell_type": "code",
   "execution_count": 75,
   "id": "4944fd91",
   "metadata": {},
   "outputs": [],
   "source": [
    "def diagonal_elements(a):\n",
    "    M=a\n",
    "    m=n=len(M)\n",
    "    de=[]\n",
    "    for i in range(m):\n",
    "        for j in range(n):\n",
    "            if i==abs(j-(n-1)):\n",
    "                de.append(M[i][j])\n",
    "    return de"
   ]
  },
  {
   "cell_type": "code",
   "execution_count": 76,
   "id": "b96878a2",
   "metadata": {},
   "outputs": [
    {
     "data": {
      "text/plain": [
       "[3, 5, 7]"
      ]
     },
     "execution_count": 76,
     "metadata": {},
     "output_type": "execute_result"
    }
   ],
   "source": [
    "diagonal_elements(matrix)"
   ]
  },
  {
   "cell_type": "code",
   "execution_count": 77,
   "id": "cf7a0ab7",
   "metadata": {},
   "outputs": [],
   "source": [
    "m=[[1,2,3,4],[5,6,7,8],[9,10,11,12],[13,14,15,16]]"
   ]
  },
  {
   "cell_type": "code",
   "execution_count": 78,
   "id": "76edf7b5",
   "metadata": {},
   "outputs": [
    {
     "data": {
      "text/plain": [
       "[4, 7, 10, 13]"
      ]
     },
     "execution_count": 78,
     "metadata": {},
     "output_type": "execute_result"
    }
   ],
   "source": [
    "diagonal_elements(m)"
   ]
  },
  {
   "cell_type": "code",
   "execution_count": 79,
   "id": "62970212",
   "metadata": {},
   "outputs": [],
   "source": [
    "def diagonal_elements(a):\n",
    "    M=a\n",
    "    m=n=len(M)\n",
    "    de=[]\n",
    "    for i in range(m):\n",
    "        for j in range(n):\n",
    "            if i==j:\n",
    "                de.append(M[i][j])\n",
    "    sumrd=sum(de)\n",
    "    le=[]\n",
    "    for i in range(m):\n",
    "        for j in range(n):\n",
    "            if i==abs(j-(n-1)):\n",
    "                le.append(M[i][j])\n",
    "    sumle=sum(le)\n",
    "    diff=abs(sumrd-sumle)\n",
    "    return diff"
   ]
  },
  {
   "cell_type": "code",
   "execution_count": 82,
   "id": "4563121b",
   "metadata": {},
   "outputs": [
    {
     "data": {
      "text/plain": [
       "7"
      ]
     },
     "execution_count": 82,
     "metadata": {},
     "output_type": "execute_result"
    }
   ],
   "source": [
    "diagonal_elements(a)"
   ]
  },
  {
   "cell_type": "code",
   "execution_count": 81,
   "id": "850361cb",
   "metadata": {},
   "outputs": [],
   "source": [
    "a=[[6,3],[4,8]]"
   ]
  },
  {
   "cell_type": "code",
   "execution_count": 93,
   "id": "7c8c5133",
   "metadata": {},
   "outputs": [],
   "source": [
    "#factorial\n",
    "def factorial(a):\n",
    "    mul=1\n",
    "    for i in range(1,a+1):\n",
    "        mul=i*mul\n",
    "    return mul\n",
    "    \n"
   ]
  },
  {
   "cell_type": "code",
   "execution_count": 95,
   "id": "a801bfd4",
   "metadata": {},
   "outputs": [
    {
     "data": {
      "text/plain": [
       "120"
      ]
     },
     "execution_count": 95,
     "metadata": {},
     "output_type": "execute_result"
    }
   ],
   "source": [
    "factorial(5)"
   ]
  },
  {
   "cell_type": "code",
   "execution_count": 1,
   "id": "9b47a898",
   "metadata": {},
   "outputs": [],
   "source": [
    "def recursive_factorial(a):\n",
    "    return (a*recursive_factorial(a-1))\n"
   ]
  },
  {
   "cell_type": "code",
   "execution_count": null,
   "id": "a15a938b",
   "metadata": {},
   "outputs": [],
   "source": [
    "recursive_factorial(5)"
   ]
  },
  {
   "cell_type": "code",
   "execution_count": 6,
   "id": "efec4a3a",
   "metadata": {},
   "outputs": [],
   "source": [
    "#swap\n",
    "def swap(a,b):\n",
    "    z=a\n",
    "    a=b\n",
    "    b=z\n",
    "    return(a,b)"
   ]
  },
  {
   "cell_type": "code",
   "execution_count": 7,
   "id": "361b8aa8",
   "metadata": {},
   "outputs": [
    {
     "data": {
      "text/plain": [
       "(4, 3)"
      ]
     },
     "execution_count": 7,
     "metadata": {},
     "output_type": "execute_result"
    }
   ],
   "source": [
    "swap(3,4)"
   ]
  },
  {
   "cell_type": "code",
   "execution_count": 18,
   "id": "7a5ffcc2",
   "metadata": {},
   "outputs": [],
   "source": [
    "#sorting\n",
    "def sort(list):\n",
    "    l=list\n",
    "    n=len(l)\n",
    "    for i in range(n):\n",
    "        for j in range(n-1):\n",
    "            if l[i]<l[j]:\n",
    "                temp=l[i]\n",
    "                l[i]=l[j]\n",
    "                l[j]=temp\n",
    "    return l       "
   ]
  },
  {
   "cell_type": "code",
   "execution_count": 19,
   "id": "2f745949",
   "metadata": {},
   "outputs": [
    {
     "data": {
      "text/plain": [
       "[1, 2, 4, 8, 9]"
      ]
     },
     "execution_count": 19,
     "metadata": {},
     "output_type": "execute_result"
    }
   ],
   "source": [
    "sort([4,8,2,1,9])"
   ]
  },
  {
   "cell_type": "code",
   "execution_count": 1,
   "id": "52ed4b76",
   "metadata": {},
   "outputs": [],
   "source": [
    "#ascending and descending\n",
    "def sort(list, accending=True):\n",
    "    \n",
    "    l=list\n",
    "    n=len(l)\n",
    "    \n",
    "    if accending==False:\n",
    "        for i in range(n):\n",
    "            for j in range(n-1):\n",
    "                if l[i]>l[j]:\n",
    "                    temp=l[i]\n",
    "                    l[i]=l[j]\n",
    "                    l[j]=temp\n",
    "        return l     \n",
    "    elif accending==True:\n",
    "        for i in range(n):\n",
    "            for j in range(n-1):\n",
    "                if l[i]<l[j]:\n",
    "                    temp=l[i]\n",
    "                    l[i]=l[j]\n",
    "                    l[j]=temp\n",
    "        return l \n",
    "        "
   ]
  },
  {
   "cell_type": "code",
   "execution_count": 2,
   "id": "d2528ac4",
   "metadata": {},
   "outputs": [
    {
     "data": {
      "text/plain": [
       "[6, 4, 4, 2, 0]"
      ]
     },
     "execution_count": 2,
     "metadata": {},
     "output_type": "execute_result"
    }
   ],
   "source": [
    "sort([4,6,2,4,0],accending=False)"
   ]
  },
  {
   "cell_type": "code",
   "execution_count": 3,
   "id": "6ab302e1",
   "metadata": {},
   "outputs": [
    {
     "data": {
      "text/plain": [
       "[0, 2, 4, 4, 6]"
      ]
     },
     "execution_count": 3,
     "metadata": {},
     "output_type": "execute_result"
    }
   ],
   "source": [
    "sort([4,6,2,4,0],accending=True)"
   ]
  },
  {
   "cell_type": "code",
   "execution_count": 35,
   "id": "e24795d7",
   "metadata": {},
   "outputs": [],
   "source": [
    "import numpy as np\n",
    "m2=np.random.randint(1,20,6)"
   ]
  },
  {
   "cell_type": "code",
   "execution_count": 37,
   "id": "aa071119",
   "metadata": {},
   "outputs": [
    {
     "data": {
      "text/plain": [
       "array([[13, 16,  8],\n",
       "       [14, 19, 15]])"
      ]
     },
     "execution_count": 37,
     "metadata": {},
     "output_type": "execute_result"
    }
   ],
   "source": [
    "m2.reshape(2,3)"
   ]
  },
  {
   "cell_type": "code",
   "execution_count": 64,
   "id": "a383096a",
   "metadata": {},
   "outputs": [],
   "source": [
    " sum_of_metrices(M1,M2)"
   ]
  },
  {
   "cell_type": "code",
   "execution_count": 73,
   "id": "f2587bc4",
   "metadata": {},
   "outputs": [],
   "source": [
    "#Addition of two numbers\n",
    "def addition_two_number(a,b):\n",
    "    sum=[]\n",
    "    num1=a\n",
    "    num2=b\n",
    "    sum=num1+num2\n",
    "    return sum  "
   ]
  },
  {
   "cell_type": "code",
   "execution_count": 74,
   "id": "8824fd8d",
   "metadata": {},
   "outputs": [
    {
     "data": {
      "text/plain": [
       "13"
      ]
     },
     "execution_count": 74,
     "metadata": {},
     "output_type": "execute_result"
    }
   ],
   "source": [
    "addition_two_number(6,7)"
   ]
  },
  {
   "cell_type": "code",
   "execution_count": 77,
   "id": "da888acb",
   "metadata": {},
   "outputs": [],
   "source": [
    "#Square root of a number\n",
    "def square_root_number(a):\n",
    "    num_sqrt=[]\n",
    "    num=a\n",
    "    num_sqrt=num**0.5\n",
    "    return num_sqrt"
   ]
  },
  {
   "cell_type": "code",
   "execution_count": 78,
   "id": "9f54bacf",
   "metadata": {},
   "outputs": [
    {
     "data": {
      "text/plain": [
       "2.8284271247461903"
      ]
     },
     "execution_count": 78,
     "metadata": {},
     "output_type": "execute_result"
    }
   ],
   "source": [
    "square_root_number(8)"
   ]
  },
  {
   "cell_type": "code",
   "execution_count": 79,
   "id": "3f87ac72",
   "metadata": {},
   "outputs": [],
   "source": [
    "#Area of triangle\n",
    "def area_of_triangle(a,b,c):\n",
    "    num1=a\n",
    "    num2=b\n",
    "    num3=c\n",
    "    area=[]\n",
    "    s=(a+b+c)/2\n",
    "    area=(s*(s-a)*(s-b)*(s-c))**0.5\n",
    "    return area\n",
    "    "
   ]
  },
  {
   "cell_type": "code",
   "execution_count": 80,
   "id": "d23ec0a3",
   "metadata": {},
   "outputs": [
    {
     "data": {
      "text/plain": [
       "14.696938456699069"
      ]
     },
     "execution_count": 80,
     "metadata": {},
     "output_type": "execute_result"
    }
   ],
   "source": [
    "area_of_triangle(5,6,7)"
   ]
  },
  {
   "cell_type": "code",
   "execution_count": 83,
   "id": "e1772297",
   "metadata": {},
   "outputs": [],
   "source": [
    "#Check if number is positive or negative \n",
    "def number_is_positive_or_negative(a):\n",
    "    num=a\n",
    "    if(num>0):\n",
    "        return positive\n",
    "    elif(num<0):\n",
    "        return negative\n",
    "    else:\n",
    "        return zero"
   ]
  },
  {
   "cell_type": "code",
   "execution_count": 86,
   "id": "ae34e78e",
   "metadata": {},
   "outputs": [
    {
     "name": "stdout",
     "output_type": "stream",
     "text": [
      "The number is positive\n"
     ]
    }
   ],
   "source": [
    "number_is_positive_or_negative(7)"
   ]
  },
  {
   "cell_type": "code",
   "execution_count": 85,
   "id": "ba60e20f",
   "metadata": {},
   "outputs": [],
   "source": [
    "#Check if number is positive or negative \n",
    "def number_is_positive_or_negative(a):\n",
    "    num=a\n",
    "    if(num>0):\n",
    "        print(\"The number is positive\")\n",
    "    elif(num<0):\n",
    "        print(\"The number is negative\")\n",
    "    else:\n",
    "        print(\"The number is zero\")"
   ]
  },
  {
   "cell_type": "code",
   "execution_count": 87,
   "id": "cca2153b",
   "metadata": {},
   "outputs": [
    {
     "name": "stdout",
     "output_type": "stream",
     "text": [
      "The number is negative\n"
     ]
    }
   ],
   "source": [
    "number_is_positive_or_negative(-10)"
   ]
  },
  {
   "cell_type": "code",
   "execution_count": 9,
   "id": "0dd84c4b",
   "metadata": {},
   "outputs": [],
   "source": [
    "#Check if number is even or odd\n",
    "def number_is_even_or_odd(a):\n",
    "    num=a\n",
    "    if(num%2==0):\n",
    "        print(\"The number is even\")\n",
    "    else:\n",
    "        print(\"The number is odd\")\n",
    "        "
   ]
  },
  {
   "cell_type": "code",
   "execution_count": 10,
   "id": "5b76989c",
   "metadata": {},
   "outputs": [
    {
     "name": "stdout",
     "output_type": "stream",
     "text": [
      "The number is odd\n"
     ]
    }
   ],
   "source": [
    "number_is_even_or_odd(9)\n"
   ]
  },
  {
   "cell_type": "code",
   "execution_count": 11,
   "id": "7437e936",
   "metadata": {},
   "outputs": [
    {
     "name": "stdout",
     "output_type": "stream",
     "text": [
      "The number is even\n"
     ]
    }
   ],
   "source": [
    "number_is_even_or_odd(8)"
   ]
  },
  {
   "cell_type": "code",
   "execution_count": 12,
   "id": "1c02e251",
   "metadata": {},
   "outputs": [
    {
     "name": "stdout",
     "output_type": "stream",
     "text": [
      "The number is even\n"
     ]
    }
   ],
   "source": [
    "number_is_even_or_odd(100)"
   ]
  },
  {
   "cell_type": "code",
   "execution_count": 13,
   "id": "8c290639",
   "metadata": {},
   "outputs": [
    {
     "name": "stdout",
     "output_type": "stream",
     "text": [
      "The number is even\n"
     ]
    }
   ],
   "source": [
    "number_is_even_or_odd(202)"
   ]
  },
  {
   "cell_type": "code",
   "execution_count": 14,
   "id": "d507e349",
   "metadata": {},
   "outputs": [
    {
     "name": "stdout",
     "output_type": "stream",
     "text": [
      "The number is even\n"
     ]
    }
   ],
   "source": [
    "number_is_even_or_odd(20004)"
   ]
  },
  {
   "cell_type": "code",
   "execution_count": 15,
   "id": "e536cd1f",
   "metadata": {},
   "outputs": [
    {
     "name": "stdout",
     "output_type": "stream",
     "text": [
      "The number is odd\n"
     ]
    }
   ],
   "source": [
    "number_is_even_or_odd(10000001)"
   ]
  },
  {
   "cell_type": "code",
   "execution_count": 19,
   "id": "2eb8a322",
   "metadata": {},
   "outputs": [],
   "source": [
    "#Check if the year is leap or not\n",
    "def leap_year(a):\n",
    "    year=a\n",
    "    if(year%4==0&year%400==0):\n",
    "        print(\"The year is leap year\")\n",
    "    else:\n",
    "        print(\"The year is not leap year\")\n",
    "        "
   ]
  },
  {
   "cell_type": "code",
   "execution_count": 20,
   "id": "641d73e5",
   "metadata": {},
   "outputs": [
    {
     "name": "stdout",
     "output_type": "stream",
     "text": [
      "The year is leap year\n"
     ]
    }
   ],
   "source": [
    "leap_year(2000)"
   ]
  },
  {
   "cell_type": "code",
   "execution_count": 21,
   "id": "66cce96f",
   "metadata": {},
   "outputs": [
    {
     "name": "stdout",
     "output_type": "stream",
     "text": [
      "The year is not leap year\n"
     ]
    }
   ],
   "source": [
    "leap_year(1999)"
   ]
  },
  {
   "cell_type": "code",
   "execution_count": 22,
   "id": "9be7d2a5",
   "metadata": {},
   "outputs": [
    {
     "name": "stdout",
     "output_type": "stream",
     "text": [
      "The year is not leap year\n"
     ]
    }
   ],
   "source": [
    "leap_year(1101)"
   ]
  },
  {
   "cell_type": "code",
   "execution_count": 23,
   "id": "c7858448",
   "metadata": {},
   "outputs": [
    {
     "name": "stdout",
     "output_type": "stream",
     "text": [
      "The year is not leap year\n"
     ]
    }
   ],
   "source": [
    "leap_year(2023)"
   ]
  },
  {
   "cell_type": "code",
   "execution_count": 30,
   "id": "95ad819d",
   "metadata": {},
   "outputs": [],
   "source": [
    "#CHeck if number is prime number or not\n",
    "def prime_number(a):\n",
    "    num=a\n",
    "    flag=False\n",
    "    if num==1:\n",
    "        print(num,\"is not a prime number\")\n",
    "    elif num>1:\n",
    "        for i  in range(2,num):\n",
    "            if(num%i)==0:\n",
    "                flag=True\n",
    "                break\n",
    "    if flag:\n",
    "            print(num,\"is not a prime number\")\n",
    "    else:\n",
    "        print(num,\"is prime number\")\n"
   ]
  },
  {
   "cell_type": "code",
   "execution_count": 31,
   "id": "29360151",
   "metadata": {},
   "outputs": [
    {
     "name": "stdout",
     "output_type": "stream",
     "text": [
      "5 is prime number\n"
     ]
    }
   ],
   "source": [
    "prime_number(5)"
   ]
  },
  {
   "cell_type": "code",
   "execution_count": 32,
   "id": "8685a21e",
   "metadata": {},
   "outputs": [
    {
     "name": "stdout",
     "output_type": "stream",
     "text": [
      "29 is prime number\n"
     ]
    }
   ],
   "source": [
    "prime_number(29)"
   ]
  },
  {
   "cell_type": "code",
   "execution_count": 33,
   "id": "10a4ca8d",
   "metadata": {},
   "outputs": [
    {
     "name": "stdout",
     "output_type": "stream",
     "text": [
      "10 is not a prime number\n"
     ]
    }
   ],
   "source": [
    "prime_number(10)"
   ]
  },
  {
   "cell_type": "code",
   "execution_count": 34,
   "id": "46efceb1",
   "metadata": {},
   "outputs": [
    {
     "name": "stdout",
     "output_type": "stream",
     "text": [
      "27 is not a prime number\n"
     ]
    }
   ],
   "source": [
    "prime_number(27)"
   ]
  },
  {
   "cell_type": "code",
   "execution_count": 2,
   "id": "f37d74da",
   "metadata": {},
   "outputs": [
    {
     "name": "stdout",
     "output_type": "stream",
     "text": [
      "[4, 6, 8]\n",
      "[10, 12, 14]\n",
      "[16, 9, 11]\n"
     ]
    }
   ],
   "source": [
    "#Addition of two matrices\n",
    "X=[[1,2,3],[4,5,6],[7,8,9]]\n",
    "Y=[[3,4,5],[6,7,8],[9,1,2]]\n",
    "results=[[0,0,0],[0,0,0],[0,0,0]]\n",
    "for i in range(len(X)):\n",
    "    for j in range(len(X[0])):\n",
    "        results[i][j]=X[i][j]+Y[i][j]\n",
    "for r in results:\n",
    "    print(r)\n",
    "   "
   ]
  },
  {
   "cell_type": "code",
   "execution_count": null,
   "id": "e5b49699",
   "metadata": {},
   "outputs": [],
   "source": []
  }
 ],
 "metadata": {
  "kernelspec": {
   "display_name": "Python 3 (ipykernel)",
   "language": "python",
   "name": "python3"
  },
  "language_info": {
   "codemirror_mode": {
    "name": "ipython",
    "version": 3
   },
   "file_extension": ".py",
   "mimetype": "text/x-python",
   "name": "python",
   "nbconvert_exporter": "python",
   "pygments_lexer": "ipython3",
   "version": "3.9.12"
  }
 },
 "nbformat": 4,
 "nbformat_minor": 5
}
