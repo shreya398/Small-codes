{
 "cells": [
  {
   "cell_type": "markdown",
   "id": "5e6542c7",
   "metadata": {},
   "source": [
    "# Print"
   ]
  },
  {
   "cell_type": "code",
   "execution_count": 2,
   "id": "c7a71e34",
   "metadata": {},
   "outputs": [
    {
     "name": "stdout",
     "output_type": "stream",
     "text": [
      "Hello World\n"
     ]
    }
   ],
   "source": [
    "print(\"Hello World\")"
   ]
  },
  {
   "cell_type": "markdown",
   "id": "738cec93",
   "metadata": {},
   "source": [
    "# Input"
   ]
  },
  {
   "cell_type": "code",
   "execution_count": 4,
   "id": "2d49815b",
   "metadata": {},
   "outputs": [
    {
     "name": "stdout",
     "output_type": "stream",
     "text": [
      "Enter your nameshreya\n"
     ]
    },
    {
     "data": {
      "text/plain": [
       "'shreya'"
      ]
     },
     "execution_count": 4,
     "metadata": {},
     "output_type": "execute_result"
    }
   ],
   "source": [
    "input(\"Enter your name\")"
   ]
  },
  {
   "cell_type": "markdown",
   "id": "46f345d8",
   "metadata": {},
   "source": [
    "# Type"
   ]
  },
  {
   "cell_type": "code",
   "execution_count": 7,
   "id": "30cba64c",
   "metadata": {},
   "outputs": [
    {
     "data": {
      "text/plain": [
       "bool"
      ]
     },
     "execution_count": 7,
     "metadata": {},
     "output_type": "execute_result"
    }
   ],
   "source": [
    "a=True\n",
    "type(a)"
   ]
  },
  {
   "cell_type": "markdown",
   "id": "693ac7f6",
   "metadata": {},
   "source": [
    "# int "
   ]
  },
  {
   "cell_type": "code",
   "execution_count": 8,
   "id": "70da5f98",
   "metadata": {},
   "outputs": [
    {
     "data": {
      "text/plain": [
       "5"
      ]
     },
     "execution_count": 8,
     "metadata": {},
     "output_type": "execute_result"
    }
   ],
   "source": [
    "int(5.6)\n",
    "# float\n",
    "# str\n",
    "# list\n",
    "# tuple"
   ]
  },
  {
   "cell_type": "markdown",
   "id": "0c41ef5e",
   "metadata": {},
   "source": [
    "# abs"
   ]
  },
  {
   "cell_type": "code",
   "execution_count": 9,
   "id": "f7ba8b80",
   "metadata": {},
   "outputs": [
    {
     "data": {
      "text/plain": [
       "4"
      ]
     },
     "execution_count": 9,
     "metadata": {},
     "output_type": "execute_result"
    }
   ],
   "source": [
    "abs(-4)"
   ]
  },
  {
   "cell_type": "markdown",
   "id": "7f5f8d21",
   "metadata": {},
   "source": [
    "# pow"
   ]
  },
  {
   "cell_type": "code",
   "execution_count": 10,
   "id": "c5fd07a9",
   "metadata": {},
   "outputs": [
    {
     "data": {
      "text/plain": [
       "0.125"
      ]
     },
     "execution_count": 10,
     "metadata": {},
     "output_type": "execute_result"
    }
   ],
   "source": [
    "pow(2,-3)"
   ]
  },
  {
   "cell_type": "markdown",
   "id": "8b4e2fc8",
   "metadata": {},
   "source": [
    "# min/max"
   ]
  },
  {
   "cell_type": "code",
   "execution_count": 11,
   "id": "3f06946f",
   "metadata": {},
   "outputs": [
    {
     "data": {
      "text/plain": [
       "'a'"
      ]
     },
     "execution_count": 11,
     "metadata": {},
     "output_type": "execute_result"
    }
   ],
   "source": [
    "min(\"kolkata\")"
   ]
  },
  {
   "cell_type": "markdown",
   "id": "22024518",
   "metadata": {},
   "source": [
    "# round"
   ]
  },
  {
   "cell_type": "code",
   "execution_count": 12,
   "id": "7d2306ab",
   "metadata": {},
   "outputs": [],
   "source": [
    "c=22/7"
   ]
  },
  {
   "cell_type": "code",
   "execution_count": 14,
   "id": "083414d9",
   "metadata": {},
   "outputs": [
    {
     "data": {
      "text/plain": [
       "3"
      ]
     },
     "execution_count": 14,
     "metadata": {},
     "output_type": "execute_result"
    }
   ],
   "source": [
    "round(c)"
   ]
  },
  {
   "cell_type": "markdown",
   "id": "af9dfdd5",
   "metadata": {},
   "source": [
    "# divmod"
   ]
  },
  {
   "cell_type": "code",
   "execution_count": 15,
   "id": "78ec6a98",
   "metadata": {},
   "outputs": [
    {
     "data": {
      "text/plain": [
       "(2, 1)"
      ]
     },
     "execution_count": 15,
     "metadata": {},
     "output_type": "execute_result"
    }
   ],
   "source": [
    "divmod(5,2)"
   ]
  },
  {
   "cell_type": "markdown",
   "id": "602578b6",
   "metadata": {},
   "source": [
    "# bin/oct/hex"
   ]
  },
  {
   "cell_type": "code",
   "execution_count": 16,
   "id": "30043ab7",
   "metadata": {},
   "outputs": [
    {
     "data": {
      "text/plain": [
       "'0x4'"
      ]
     },
     "execution_count": 16,
     "metadata": {},
     "output_type": "execute_result"
    }
   ],
   "source": [
    "hex(4)"
   ]
  },
  {
   "cell_type": "markdown",
   "id": "08f70a93",
   "metadata": {},
   "source": [
    "# id"
   ]
  },
  {
   "cell_type": "code",
   "execution_count": 17,
   "id": "21115a36",
   "metadata": {},
   "outputs": [
    {
     "data": {
      "text/plain": [
       "2204283529584"
      ]
     },
     "execution_count": 17,
     "metadata": {},
     "output_type": "execute_result"
    }
   ],
   "source": [
    "a=3\n",
    "id(a)"
   ]
  },
  {
   "cell_type": "markdown",
   "id": "2e770d72",
   "metadata": {},
   "source": [
    "# ord"
   ]
  },
  {
   "cell_type": "code",
   "execution_count": 18,
   "id": "cd721c54",
   "metadata": {},
   "outputs": [
    {
     "data": {
      "text/plain": [
       "65"
      ]
     },
     "execution_count": 18,
     "metadata": {},
     "output_type": "execute_result"
    }
   ],
   "source": [
    "ord('A')"
   ]
  },
  {
   "cell_type": "markdown",
   "id": "6abe100e",
   "metadata": {},
   "source": [
    "# len"
   ]
  },
  {
   "cell_type": "code",
   "execution_count": 19,
   "id": "d232c64b",
   "metadata": {},
   "outputs": [
    {
     "data": {
      "text/plain": [
       "3"
      ]
     },
     "execution_count": 19,
     "metadata": {},
     "output_type": "execute_result"
    }
   ],
   "source": [
    "len([1,2,3])"
   ]
  },
  {
   "cell_type": "markdown",
   "id": "c74282fb",
   "metadata": {},
   "source": [
    "# sum"
   ]
  },
  {
   "cell_type": "code",
   "execution_count": 20,
   "id": "25902e13",
   "metadata": {},
   "outputs": [
    {
     "data": {
      "text/plain": [
       "15"
      ]
     },
     "execution_count": 20,
     "metadata": {},
     "output_type": "execute_result"
    }
   ],
   "source": [
    "sum({1,2,3,4,5})"
   ]
  },
  {
   "cell_type": "markdown",
   "id": "1097d61b",
   "metadata": {},
   "source": [
    "# help"
   ]
  },
  {
   "cell_type": "code",
   "execution_count": 21,
   "id": "1d8c76c8",
   "metadata": {},
   "outputs": [
    {
     "name": "stdout",
     "output_type": "stream",
     "text": [
      "Help on built-in function print in module builtins:\n",
      "\n",
      "print(...)\n",
      "    print(value, ..., sep=' ', end='\\n', file=sys.stdout, flush=False)\n",
      "    \n",
      "    Prints the values to a stream, or to sys.stdout by default.\n",
      "    Optional keyword arguments:\n",
      "    file:  a file-like object (stream); defaults to the current sys.stdout.\n",
      "    sep:   string inserted between values, default a space.\n",
      "    end:   string appended after the last value, default a newline.\n",
      "    flush: whether to forcibly flush the stream.\n",
      "\n"
     ]
    }
   ],
   "source": [
    "help('print')"
   ]
  },
  {
   "cell_type": "code",
   "execution_count": 22,
   "id": "08ee15c4",
   "metadata": {},
   "outputs": [
    {
     "name": "stdout",
     "output_type": "stream",
     "text": [
      "Help on built-in function sum in module builtins:\n",
      "\n",
      "sum(iterable, /, start=0)\n",
      "    Return the sum of a 'start' value (default: 0) plus an iterable of numbers\n",
      "    \n",
      "    When the iterable is empty, return the start value.\n",
      "    This function is intended specifically for use with numeric values and may\n",
      "    reject non-numeric types.\n",
      "\n"
     ]
    }
   ],
   "source": [
    "help('sum')"
   ]
  },
  {
   "cell_type": "markdown",
   "id": "7b5a9179",
   "metadata": {},
   "source": [
    "# What are modules?\n",
    "Consider a module to be the same as a code library.\n",
    "\n",
    "A file containing a set of functions you want to include in your application.\n",
    "Examples of python modules\n",
    "* Math\n",
    "* Random\n",
    "* os\n",
    "* time"
   ]
  },
  {
   "cell_type": "code",
   "execution_count": 23,
   "id": "00589414",
   "metadata": {},
   "outputs": [
    {
     "name": "stdout",
     "output_type": "stream",
     "text": [
      "\n",
      "Please wait a moment while I gather a list of all available modules...\n",
      "\n"
     ]
    },
    {
     "name": "stderr",
     "output_type": "stream",
     "text": [
      "C:\\Users\\shrey\\anaconda3\\lib\\site-packages\\Crypto\\SelfTest\\PublicKey\\test_ECC_NIST.py:764: UserWarning: Warning: skipping extended tests for P-192 tests from point-at-infinity.org\n",
      "  tv_pai = load_test_vectors((\"PublicKey\", \"ECC\"),\n",
      "C:\\Users\\shrey\\anaconda3\\lib\\site-packages\\Crypto\\SelfTest\\PublicKey\\test_ECC_NIST.py:785: UserWarning: Warning: skipping extended tests for P-224 tests from point-at-infinity.org\n",
      "  tv_pai = load_test_vectors((\"PublicKey\", \"ECC\"),\n",
      "C:\\Users\\shrey\\anaconda3\\lib\\site-packages\\Crypto\\SelfTest\\PublicKey\\test_ECC_NIST.py:806: UserWarning: Warning: skipping extended tests for P-256 tests from point-at-infinity.org\n",
      "  tv_pai = load_test_vectors((\"PublicKey\", \"ECC\"),\n",
      "C:\\Users\\shrey\\anaconda3\\lib\\site-packages\\Crypto\\SelfTest\\PublicKey\\test_ECC_NIST.py:827: UserWarning: Warning: skipping extended tests for P-384 tests from point-at-infinity.org\n",
      "  tv_pai = load_test_vectors((\"PublicKey\", \"ECC\"),\n",
      "C:\\Users\\shrey\\anaconda3\\lib\\site-packages\\Crypto\\SelfTest\\PublicKey\\test_ECC_NIST.py:848: UserWarning: Warning: skipping extended tests for P-521 tests from point-at-infinity.org\n",
      "  tv_pai = load_test_vectors((\"PublicKey\", \"ECC\"),\n",
      "C:\\Users\\shrey\\anaconda3\\lib\\site-packages\\Crypto\\SelfTest\\Signature\\test_pkcs1_15.py:70: UserWarning: Warning: skipping extended tests for Signature Verification 186-3\n",
      "  test_vectors_verify = load_test_vectors((\"Signature\", \"PKCS1-v1.5\"),\n",
      "C:\\Users\\shrey\\anaconda3\\lib\\site-packages\\Crypto\\SelfTest\\Signature\\test_pkcs1_15.py:117: UserWarning: Warning: skipping extended tests for Signature Generation 186-2\n",
      "  test_vectors_sign  = load_test_vectors((\"Signature\", \"PKCS1-v1.5\"),\n",
      "C:\\Users\\shrey\\anaconda3\\lib\\site-packages\\Crypto\\SelfTest\\Signature\\test_pkcs1_15.py:122: UserWarning: Warning: skipping extended tests for Signature Generation 186-3\n",
      "  test_vectors_sign += load_test_vectors((\"Signature\", \"PKCS1-v1.5\"),\n",
      "C:\\Users\\shrey\\anaconda3\\lib\\site-packages\\Crypto\\SelfTest\\Signature\\test_pss.py:117: UserWarning: Warning: skipping extended tests for Signature Verification 186-3\n",
      "  test_vectors_verify = load_test_vectors((\"Signature\", \"PKCS1-PSS\"),\n",
      "C:\\Users\\shrey\\anaconda3\\lib\\site-packages\\Crypto\\SelfTest\\Signature\\test_pss.py:169: UserWarning: Warning: skipping extended tests for Signature Generation 186-2\n",
      "  test_vectors_sign = load_test_vectors((\"Signature\", \"PKCS1-PSS\"),\n",
      "C:\\Users\\shrey\\anaconda3\\lib\\site-packages\\Crypto\\SelfTest\\Signature\\test_pss.py:174: UserWarning: Warning: skipping extended tests for Signature Generation 186-3\n",
      "  test_vectors_sign += load_test_vectors((\"Signature\", \"PKCS1-PSS\"),\n",
      "C:\\Users\\shrey\\anaconda3\\lib\\site-packages\\Crypto\\SelfTest\\Signature\\test_dss.py:159: UserWarning: Warning: skipping extended tests for Signature Verification 186-3\n",
      "  test_vectors_verify = load_test_vectors((\"Signature\", \"DSA\"),\n",
      "C:\\Users\\shrey\\anaconda3\\lib\\site-packages\\Crypto\\SelfTest\\Signature\\test_dss.py:197: UserWarning: Warning: skipping extended tests for Signature Creation 186-3\n",
      "  test_vectors_sign = load_test_vectors((\"Signature\", \"DSA\"),\n",
      "C:\\Users\\shrey\\anaconda3\\lib\\site-packages\\Crypto\\SelfTest\\Signature\\test_dss.py:307: UserWarning: Warning: skipping extended tests for ECDSA Signature Verification 186-3\n",
      "  test_vectors_verify = load_test_vectors((\"Signature\", \"ECDSA\"),\n",
      "C:\\Users\\shrey\\anaconda3\\lib\\site-packages\\Crypto\\SelfTest\\Signature\\test_dss.py:314: UserWarning: Warning: skipping extended tests for ECDSA Signature Verification 186-3\n",
      "  test_vectors_verify += load_test_vectors((\"Signature\", \"ECDSA\"),\n",
      "C:\\Users\\shrey\\anaconda3\\lib\\site-packages\\Crypto\\SelfTest\\Signature\\test_dss.py:357: UserWarning: Warning: skipping extended tests for ECDSA Signature Verification 186-3\n",
      "  test_vectors_sign = load_test_vectors((\"Signature\", \"ECDSA\"),\n",
      "WARNING: AstropyDeprecationWarning: The private astropy._erfa module has been made into its own package, pyerfa, which is a dependency of astropy and can be imported directly using \"import erfa\" [astropy._erfa]\n",
      "C:\\Users\\shrey\\anaconda3\\lib\\site-packages\\nltk\\twitter\\__init__.py:20: UserWarning: The twython library has not been installed. Some functionality from the twitter package will not be available.\n",
      "  warnings.warn(\n",
      "C:\\Users\\shrey\\anaconda3\\lib\\site-packages\\_distutils_hack\\__init__.py:30: UserWarning: Setuptools is replacing distutils.\n",
      "  warnings.warn(\"Setuptools is replacing distutils.\")\n",
      "No QCoreApplication instance found. Application patches not applied. You have to call load_stylesheet function after instantiation of QApplication to take effect. \n",
      "C:\\Users\\shrey\\anaconda3\\lib\\pkgutil.py:108: VisibleDeprecationWarning:\n",
      "\n",
      "zmq.eventloop.minitornado is deprecated in pyzmq 14.0 and will be removed.\n",
      "    Install tornado itself to use zmq with the tornado IOLoop.\n",
      "    \n",
      "\n"
     ]
    },
    {
     "name": "stdout",
     "output_type": "stream",
     "text": [
      "Crypto              comtypes            msgpack             socks\n",
      "Cython              concurrent          msilib              sockshandler\n",
      "IPython             conda               msvcrt              sortedcollections\n",
      "OpenSSL             conda_build         multidict           sortedcontainers\n",
      "PIL                 conda_content_trust multipledispatch    soupsieve\n",
      "PyQt5               conda_env           multiprocessing     spacy\n",
      "TBB                 conda_pack          munkres             spacy_legacy\n",
      "__future__          conda_package_handling murmurhash          spacy_loggers\n",
      "_abc                conda_token         mypy_extensions     speech_recognition\n",
      "_aix_support        conda_verify        nacl                sphinx\n",
      "_argon2_cffi_bindings confection          navigator_updater   spyder\n",
      "_ast                configparser        nbclassic           spyder_kernels\n",
      "_asyncio            constantly          nbclient            sqlalchemy\n",
      "_bisect             contextlib          nbconvert           sqlite3\n",
      "_black_version      contextvars         nbformat            sre_compile\n",
      "_blake2             cookiecutter        nest_asyncio        sre_constants\n",
      "_bootlocale         copy                netbios             sre_parse\n",
      "_bootsubprocess     copyreg             netrc               srsly\n",
      "_bz2                crypt               networkx            ssl\n",
      "_cffi_backend       cryptography        nltk                sspi\n",
      "_codecs             cssselect           nntplib             sspicon\n",
      "_codecs_cn          csv                 nose                stack_data\n",
      "_codecs_hk          ctypes              notebook            stat\n",
      "_codecs_iso2022     curl                nt                  statistics\n",
      "_codecs_jp          curses              ntpath              statsmodels\n",
      "_codecs_kr          cwp                 ntsecuritycon       streamlit\n",
      "_codecs_tw          cycler              nturl2path          string\n",
      "_collections        cymem               numba               stringprep\n",
      "_collections_abc    cython              numbergen           struct\n",
      "_compat_pickle      cytoolz             numbers             subprocess\n",
      "_compression        daal4py             numexpr             sunau\n",
      "_contextvars        dask                numpy               symbol\n",
      "_csv                dataclasses         numpydoc            sympy\n",
      "_ctypes             datashader          odbc                symtable\n",
      "_ctypes_test        datashape           olefile             sys\n",
      "_datetime           datetime            onedal              sysconfig\n",
      "_decimal            dateutil            opcode              tables\n",
      "_distutils_hack     dbi                 openpyxl            tabnanny\n",
      "_elementtree        dbm                 operator            tabulate\n",
      "_functools          dde                 optparse            tarfile\n",
      "_hashlib            debugpy             os                  tbb\n",
      "_heapq              decimal             packaging           tblib\n",
      "_imp                decorator           pandas              telnetlib\n",
      "_io                 defusedxml          pandocfilters       tempfile\n",
      "_json               diff_match_patch    panel               tenacity\n",
      "_locale             difflib             param               terminado\n",
      "_lsprof             dis                 paramiko            test\n",
      "_lzma               distributed         parsel              test_pycosat\n",
      "_markupbase         distutils           parser              testpath\n",
      "_md5                doctest             parso               text_unidecode\n",
      "_msi                docutils            partd               textdistance\n",
      "_multibytecodec     docx                past                textract\n",
      "_multiprocessing    docx2txt            pathlib             textwrap\n",
      "_nsis               ebcdic              pathspec            thinc\n",
      "_opcode             email               pathy               this\n",
      "_operator           encodings           patsy               threading\n",
      "_osx_support        ensurepip           pdb                 threadpoolctl\n",
      "_overlapped         entrypoints         pdfminer            three_merge\n",
      "_peg_parser         enum                pep8                tifffile\n",
      "_pickle             erfa                perfmon             time\n",
      "_plotly_future_     errno               pexpect             timeit\n",
      "_plotly_utils       et_xmlfile          pickle              timer\n",
      "_py_abc             executing           pickleshare         tinycss\n",
      "_pydecimal          extract_msg         pickletools         tkinter\n",
      "_pyio               fastjsonschema      pip                 tldextract\n",
      "_pyrsistent_version faulthandler        pipes               tlz\n",
      "_pytest             filecmp             pkg_resources       token\n",
      "_queue              fileinput           pkginfo             tokenize\n",
      "_random             filelock            pkgutil             toml\n",
      "_sha1               flake8              platform            tomli\n",
      "_sha256             flask               plistlib            toolz\n",
      "_sha3               fnmatch             plotly              tornado\n",
      "_sha512             fontTools           pluggy              tqdm\n",
      "_signal             formatter           poplib              trace\n",
      "_sitebuiltins       fractions           posixpath           traceback\n",
      "_socket             frozenlist          poyo                tracemalloc\n",
      "_sqlite3            fsspec              pprint              traitlets\n",
      "_sre                ftplib              pptx                tty\n",
      "_ssl                functools           preshed             turtle\n",
      "_stat               future              profile             turtledemo\n",
      "_statistics         gc                  prometheus_client   twisted\n",
      "_string             genericpath         prompt_toolkit      typed_ast\n",
      "_strptime           gensim              protego             typer\n",
      "_struct             getopt              pstats              types\n",
      "_symtable           getpass             psutil              typing\n",
      "_system_path        gettext             pty                 typing_extensions\n",
      "_testbuffer         git                 ptyprocess          tzdata\n",
      "_testcapi           gitdb               pure_eval           tzlocal\n",
      "_testconsole        glob                pvectorc            ujson\n",
      "_testimportmultiple glob2               py                  unicodedata\n",
      "_testinternalcapi   google_crc32c       py_compile          unidecode\n",
      "_testmultiphase     graphlib            pyarrow             unittest\n",
      "_thread             greenlet            pyasn1              urllib\n",
      "_threading_local    grpc                pyasn1_modules      urllib3\n",
      "_tkinter            gzip                pyclbr              uu\n",
      "_tracemalloc        h5py                pycodestyle         uuid\n",
      "_uuid               hamcrest            pycosat             validators\n",
      "_warnings           hashlib             pycparser           venv\n",
      "_weakref            heapdict            pyct                w3lib\n",
      "_weakrefset         heapq               pycurl              warnings\n",
      "_win32sysloader     hmac                pydantic            wasabi\n",
      "_winapi             holoviews           pydeck              watchdog\n",
      "_winxptheme         html                pydispatch          wave\n",
      "_xxsubinterpreters  http                pydoc               wcwidth\n",
      "_yaml               hvplot              pydoc_data          weakref\n",
      "_zoneinfo           hyperlink           pydocstyle          webbrowser\n",
      "abc                 idlelib             pyexpat             webencodings\n",
      "adodbapi            idna                pyflakes            websocket\n",
      "afxres              imagecodecs         pygments            werkzeug\n",
      "aifc                imageio             pylab               wheel\n",
      "aiohttp             imagesize           pylint              widgetsnbextension\n",
      "aiosignal           imapclient          pyls_spyder         win2kras\n",
      "alabaster           imaplib             pylsp               win32api\n",
      "altair              imghdr              pylsp_black         win32clipboard\n",
      "anaconda_navigator  imp                 pylsp_jsonrpc       win32com\n",
      "anaconda_project    importlib           pympler             win32con\n",
      "antigravity         importlib_metadata  pyodbc              win32console\n",
      "anyio               incremental         pyparsing           win32cred\n",
      "app                 inflection          pyreadline          win32crypt\n",
      "appdirs             iniconfig           pyrsistent          win32cryptcon\n",
      "argcomplete         inspect             pytest              win32ctypes\n",
      "argon2              intake              pythoncom           win32event\n",
      "argparse            intervaltree        pytz                win32evtlog\n",
      "array               io                  pytz_deprecation_shim win32evtlogutil\n",
      "arrow               ipaddress           pyviz_comms         win32file\n",
      "ast                 ipykernel           pywin               win32gui\n",
      "astroid             ipykernel_launcher  pywin32_bootstrap   win32gui_struct\n",
      "astropy             ipython_genutils    pywin32_testutil    win32help\n",
      "asttokens           ipywidgets          pywintypes          win32inet\n",
      "async_timeout       isapi               pywt                win32inetcon\n",
      "asynchat            isort               pyximport           win32job\n",
      "asyncio             isympy              qdarkstyle          win32lz\n",
      "asyncore            itemadapter         qstylizer           win32net\n",
      "atexit              itemloaders         qtawesome           win32netcon\n",
      "atomicwrites        itertools           qtconsole           win32pdh\n",
      "attr                itsdangerous        qtpy                win32pdhquery\n",
      "attrs               jdcal               queue               win32pdhutil\n",
      "audioop             jedi                queuelib            win32pipe\n",
      "automat             jinja2              quopri              win32print\n",
      "autopep8            jinja2_time         random              win32process\n",
      "babel               jmespath            rasutil             win32profile\n",
      "backcall            joblib              re                  win32ras\n",
      "backports           json                readline            win32rcparser\n",
      "base64              json5               regcheck            win32security\n",
      "bcrypt              jsonschema          regex               win32service\n",
      "bdb                 jupyter             regutil             win32serviceutil\n",
      "binaryornot         jupyter_client      repo_cli            win32timezone\n",
      "binascii            jupyter_console     reprlib             win32trace\n",
      "binhex              jupyter_core        requests            win32traceutil\n",
      "binstar_client      jupyter_server      requests_file       win32transaction\n",
      "bisect              jupyterlab          rich                win32ts\n",
      "bitarray            jupyterlab_plotly   rlcompleter         win32ui\n",
      "bkcharts            jupyterlab_pygments rope                win32uiole\n",
      "black               jupyterlab_server   rsa                 win32verstamp\n",
      "blackd              jupyterlab_widgets  rtree               win32wnet\n",
      "bleach              jwt                 ruamel_yaml         win_inet_pton\n",
      "blib2to3            keyring             run                 win_unicode_console\n",
      "blinker             keyword             runpy               wincertstore\n",
      "blis                kiwisolver          s3transfer          winerror\n",
      "bokeh               langcodes           sched               winioctlcon\n",
      "boto3               lazy_object_proxy   scipy               winnt\n",
      "botocore            lib2to3             scrapy              winperf\n",
      "bottleneck          libarchive          seaborn             winpty\n",
      "brotli              libfuturize         secrets             winreg\n",
      "bs4                 libpasteurize       select              winsound\n",
      "builtins            lief                selectors           winxpgui\n",
      "bz2                 linecache           semver              winxptheme\n",
      "cProfile            llvmlite            send2trash          wordcloud\n",
      "cachetools          locale              service_identity    wrapt\n",
      "calendar            locket              servicemanager      wsgiref\n",
      "catalogue           logging             setuptools          xarray\n",
      "certifi             lxml                shelve              xdrlib\n",
      "cffi                lzma                shlex               xgboost\n",
      "cgi                 mailbox             shutil              xlrd\n",
      "cgitb               mailcap             signal              xlsxwriter\n",
      "chardet             markdown            sip                 xlwings\n",
      "charset_normalizer  markupsafe          sipconfig           xml\n",
      "chunk               marshal             sipdistutils        xmlrpc\n",
      "click               math                site                xxsubtype\n",
      "cloudpickle         matplotlib          six                 yaml\n",
      "clyent              matplotlib_inline   skimage             yapf\n",
      "cmath               mccabe              sklearn             yapftests\n",
      "cmd                 menuinst            sklearnex           yarl\n",
      "code                mimetypes           slugify             zict\n",
      "codecs              mistune             smart_open          zipapp\n",
      "codeop              mkl                 smmap               zipfile\n",
      "collections         mkl_fft             smtpd               zipimport\n",
      "colorama            mkl_random          smtplib             zipp\n",
      "colorcet            mmap                snappy              zlib\n",
      "colorsys            mmapfile            sndhdr              zmq\n",
      "commctrl            mmsystem            sniffio             zoneinfo\n",
      "commonmark          mock                snowballstemmer     zope\n",
      "compileall          modulefinder        socket              \n",
      "compressed_rtf      mpmath              socketserver        \n",
      "\n",
      "Enter any module name to get more help.  Or, type \"modules spam\" to search\n",
      "for modules whose name or summary contain the string \"spam\".\n",
      "\n"
     ]
    }
   ],
   "source": [
    "help('modules')"
   ]
  },
  {
   "cell_type": "code",
   "execution_count": 24,
   "id": "9539c8bb",
   "metadata": {},
   "outputs": [],
   "source": [
    "import math"
   ]
  },
  {
   "cell_type": "code",
   "execution_count": 25,
   "id": "eb0c2718",
   "metadata": {},
   "outputs": [
    {
     "data": {
      "text/plain": [
       "3.141592653589793"
      ]
     },
     "execution_count": 25,
     "metadata": {},
     "output_type": "execute_result"
    }
   ],
   "source": [
    "math.pi"
   ]
  },
  {
   "cell_type": "code",
   "execution_count": 26,
   "id": "2859db04",
   "metadata": {},
   "outputs": [
    {
     "data": {
      "text/plain": [
       "2.718281828459045"
      ]
     },
     "execution_count": 26,
     "metadata": {},
     "output_type": "execute_result"
    }
   ],
   "source": [
    "math.e"
   ]
  },
  {
   "cell_type": "code",
   "execution_count": 27,
   "id": "bdb777f4",
   "metadata": {},
   "outputs": [
    {
     "data": {
      "text/plain": [
       "120"
      ]
     },
     "execution_count": 27,
     "metadata": {},
     "output_type": "execute_result"
    }
   ],
   "source": [
    "math.factorial(5)"
   ]
  },
  {
   "cell_type": "code",
   "execution_count": 28,
   "id": "c1e2b470",
   "metadata": {},
   "outputs": [
    {
     "data": {
      "text/plain": [
       "7"
      ]
     },
     "execution_count": 28,
     "metadata": {},
     "output_type": "execute_result"
    }
   ],
   "source": [
    "math.ceil(6.3)"
   ]
  },
  {
   "cell_type": "code",
   "execution_count": 29,
   "id": "61cff64c",
   "metadata": {},
   "outputs": [
    {
     "data": {
      "text/plain": [
       "6"
      ]
     },
     "execution_count": 29,
     "metadata": {},
     "output_type": "execute_result"
    }
   ],
   "source": [
    "math.floor(6.9)"
   ]
  },
  {
   "cell_type": "code",
   "execution_count": 31,
   "id": "981ee942",
   "metadata": {},
   "outputs": [
    {
     "data": {
      "text/plain": [
       "25.0"
      ]
     },
     "execution_count": 31,
     "metadata": {},
     "output_type": "execute_result"
    }
   ],
   "source": [
    "math.sqrt(625)"
   ]
  },
  {
   "cell_type": "code",
   "execution_count": 32,
   "id": "9806f1ad",
   "metadata": {},
   "outputs": [],
   "source": [
    "import random"
   ]
  },
  {
   "cell_type": "code",
   "execution_count": 34,
   "id": "34ddc207",
   "metadata": {},
   "outputs": [
    {
     "data": {
      "text/plain": [
       "36"
      ]
     },
     "execution_count": 34,
     "metadata": {},
     "output_type": "execute_result"
    }
   ],
   "source": [
    "random.randint(1,60)"
   ]
  },
  {
   "cell_type": "code",
   "execution_count": 36,
   "id": "ba00ed9f",
   "metadata": {},
   "outputs": [
    {
     "data": {
      "text/plain": [
       "[1, 5, 2, 3, 6, 4]"
      ]
     },
     "execution_count": 36,
     "metadata": {},
     "output_type": "execute_result"
    }
   ],
   "source": [
    "a=[1,2,3,4,5,6]\n",
    "random.shuffle(a)\n",
    "a"
   ]
  },
  {
   "cell_type": "code",
   "execution_count": 37,
   "id": "73c4e420",
   "metadata": {},
   "outputs": [],
   "source": [
    "import time"
   ]
  },
  {
   "cell_type": "code",
   "execution_count": 38,
   "id": "83f091ee",
   "metadata": {},
   "outputs": [
    {
     "data": {
      "text/plain": [
       "1680795385.1412165"
      ]
     },
     "execution_count": 38,
     "metadata": {},
     "output_type": "execute_result"
    }
   ],
   "source": [
    "time.time()"
   ]
  },
  {
   "cell_type": "code",
   "execution_count": 39,
   "id": "81db86ad",
   "metadata": {},
   "outputs": [
    {
     "data": {
      "text/plain": [
       "'Thu Apr  6 21:07:13 2023'"
      ]
     },
     "execution_count": 39,
     "metadata": {},
     "output_type": "execute_result"
    }
   ],
   "source": [
    "time.ctime()"
   ]
  },
  {
   "cell_type": "code",
   "execution_count": 41,
   "id": "c86fcdb6",
   "metadata": {},
   "outputs": [
    {
     "name": "stdout",
     "output_type": "stream",
     "text": [
      "Hello\n",
      "World\n"
     ]
    }
   ],
   "source": [
    "print(\"Hello\")\n",
    "time.sleep(3)\n",
    "print(\"World\")"
   ]
  },
  {
   "cell_type": "code",
   "execution_count": 42,
   "id": "46e874d7",
   "metadata": {},
   "outputs": [],
   "source": [
    "import os"
   ]
  },
  {
   "cell_type": "code",
   "execution_count": 43,
   "id": "eaf3b8f9",
   "metadata": {},
   "outputs": [
    {
     "data": {
      "text/plain": [
       "'C:\\\\Users\\\\shrey'"
      ]
     },
     "execution_count": 43,
     "metadata": {},
     "output_type": "execute_result"
    }
   ],
   "source": [
    "os.getcwd()"
   ]
  },
  {
   "cell_type": "code",
   "execution_count": 44,
   "id": "1ddae3d9",
   "metadata": {},
   "outputs": [
    {
     "data": {
      "text/plain": [
       "['.anaconda',\n",
       " '.astropy',\n",
       " '.conda',\n",
       " '.condarc',\n",
       " '.continuum',\n",
       " '.gitconfig',\n",
       " '.ipynb_checkpoints',\n",
       " '.ipython',\n",
       " '.jupyter',\n",
       " '.matplotlib',\n",
       " '.spyder-py3',\n",
       " '.streamlit',\n",
       " '1.logistic.py',\n",
       " '3D Objects',\n",
       " 'AAPL.csv',\n",
       " 'anaconda3',\n",
       " 'app.py',\n",
       " 'AppData',\n",
       " 'Apple Stock Price Prediction Time Series (38).ipynb',\n",
       " 'Application Data',\n",
       " 'cleaned_data.csv',\n",
       " 'Contacts',\n",
       " 'Cookies',\n",
       " 'Desktop',\n",
       " 'Documents',\n",
       " 'Downloads',\n",
       " 'Favorites',\n",
       " 'IntelGraphicsProfiles',\n",
       " 'Jedi',\n",
       " 'Links',\n",
       " 'Local Settings',\n",
       " 'LSTM.ipynb',\n",
       " 'Microsoft',\n",
       " 'model.pkl',\n",
       " 'model1.pkl',\n",
       " 'model2.pkl',\n",
       " 'model5.pkl',\n",
       " 'model7.pkl',\n",
       " 'model8.pkl',\n",
       " 'model_RF.pkl',\n",
       " 'Music',\n",
       " 'My Documents',\n",
       " 'my_random_forest,joblib',\n",
       " 'NetHood',\n",
       " 'NLP Project NEW.ipynb',\n",
       " 'NTUSER.DAT',\n",
       " 'ntuser.dat.LOG1',\n",
       " 'ntuser.dat.LOG2',\n",
       " 'NTUSER.DAT{1aeec1b5-4549-11ed-9787-ccaba7e092af}.TM.blf',\n",
       " 'NTUSER.DAT{1aeec1b5-4549-11ed-9787-ccaba7e092af}.TMContainer00000000000000000001.regtrans-ms',\n",
       " 'NTUSER.DAT{1aeec1b5-4549-11ed-9787-ccaba7e092af}.TMContainer00000000000000000002.regtrans-ms',\n",
       " 'ntuser.ini',\n",
       " 'OneDrive',\n",
       " 'Pandas practice.ipynb',\n",
       " 'PCA assignment.ipynb',\n",
       " 'PCA.ipynb',\n",
       " 'Peoplesoft Admin_G Ananda Rayudu.doc',\n",
       " 'pickle.pkl',\n",
       " 'Pictures',\n",
       " 'PrintHood',\n",
       " 'PROJECT EDA.ipynb',\n",
       " 'project.ipynb',\n",
       " 'project2.ipynb',\n",
       " 'Recent',\n",
       " 'requirement.txt',\n",
       " 'Resumes-20230305T142927Z-001.zip',\n",
       " 'sarima63.ipynb',\n",
       " 'Saved Games',\n",
       " 'scraping data from resume.ipynb',\n",
       " 'seaborn-data',\n",
       " 'Searches',\n",
       " 'SendTo',\n",
       " 'Shreya  SSSSS Project.ipynb',\n",
       " 'SRK codes.ipynb',\n",
       " 'Start Menu',\n",
       " 'String codes.ipynb',\n",
       " 'Templates',\n",
       " 'Time series (AAPL) (3).ipynb',\n",
       " 'Time_series_(AAPL)_(S) (1).ipynb',\n",
       " 'Untitled.ipynb',\n",
       " 'Untitled1.ipynb',\n",
       " 'Untitled10.ipynb',\n",
       " 'Untitled2.ipynb',\n",
       " 'Untitled3.ipynb',\n",
       " 'Untitled4.ipynb',\n",
       " 'Untitled5.ipynb',\n",
       " 'Untitled6.ipynb',\n",
       " 'Untitled7.ipynb',\n",
       " 'Untitled8.ipynb',\n",
       " 'Untitled9.ipynb',\n",
       " 'Videos',\n",
       " 'wine.csv']"
      ]
     },
     "execution_count": 44,
     "metadata": {},
     "output_type": "execute_result"
    }
   ],
   "source": [
    "os.listdir()"
   ]
  },
  {
   "cell_type": "code",
   "execution_count": null,
   "id": "b581a2ad",
   "metadata": {},
   "outputs": [],
   "source": []
  }
 ],
 "metadata": {
  "kernelspec": {
   "display_name": "Python 3 (ipykernel)",
   "language": "python",
   "name": "python3"
  },
  "language_info": {
   "codemirror_mode": {
    "name": "ipython",
    "version": 3
   },
   "file_extension": ".py",
   "mimetype": "text/x-python",
   "name": "python",
   "nbconvert_exporter": "python",
   "pygments_lexer": "ipython3",
   "version": "3.9.12"
  }
 },
 "nbformat": 4,
 "nbformat_minor": 5
}
