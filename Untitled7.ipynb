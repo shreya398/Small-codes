{
 "cells": [
  {
   "cell_type": "markdown",
   "id": "b7919cfa",
   "metadata": {},
   "source": [
    "# if-else statement"
   ]
  },
  {
   "cell_type": "code",
   "execution_count": 24,
   "id": "f81ccd7f",
   "metadata": {},
   "outputs": [
    {
     "name": "stdout",
     "output_type": "stream",
     "text": [
      "Enter your email idshreyasguggare2000@gmail.com\n",
      "Enter your password55678\n",
      "Password incorrect\n",
      "reenter the password12345\n",
      "Password is absolutely correct\n"
     ]
    }
   ],
   "source": [
    "#email-shreyasguggare2000@gmail.com\n",
    "#password-08-02-2000\n",
    "email=input(\"Enter your email id\")\n",
    "password=input(\"Enter your password\")\n",
    "\n",
    "if email == \"shreyasguggare2000@gmail.com\" and password== \"12345\":\n",
    "    print(\"Welcome\")\n",
    "elif email == \"shreyasguggare2000@gmail.com\" and password !=\"12345\":\n",
    "    print(\"Password incorrect\")\n",
    "    password = input(\"reenter the password\")\n",
    "    if password == \"12345\":\n",
    "        print(\"Password is absolutely correct\")\n",
    "    else:\n",
    "        print(\"still incorrect\")\n",
    "else:\n",
    "     print(\"error\")"
   ]
  },
  {
   "cell_type": "code",
   "execution_count": 16,
   "id": "f67a3ef9",
   "metadata": {},
   "outputs": [
    {
     "name": "stdout",
     "output_type": "stream",
     "text": [
      "Apna email batacampusx@gmail.com\n",
      "Apna passowrd bhi bata2345\n",
      "Password Incorrect\n",
      "Password fir se bol1234\n",
      "Finally correct\n"
     ]
    }
   ],
   "source": [
    "email = input(\"Apna email bata\")\n",
    "if '@' in email:\n",
    "    password = input(\"Apna passowrd bhi bata\")\n",
    "\n",
    "    if email == \"campusx@gmail.com\" and password == \"1234\":\n",
    "        print(\"Welcome\")\n",
    "    elif email == \"campusx@gmail.com\" and password != \"1234\":\n",
    "        print(\"Password Incorrect\")\n",
    "        password = input(\"Password fir se bol\")\n",
    "        if password == \"1234\":\n",
    "            print(\"Finally correct\")\n",
    "        else:\n",
    "            print(\"Still incorrect\")\n",
    "    else:\n",
    "        print(\"Incorrect credentials\")\n",
    "else:\n",
    "    print(\"Email galat hai sahi likho\")"
   ]
  },
  {
   "cell_type": "code",
   "execution_count": 27,
   "id": "73c69104",
   "metadata": {},
   "outputs": [
    {
     "name": "stdout",
     "output_type": "stream",
     "text": [
      "colorred\n",
      "Car has to stop\n"
     ]
    }
   ],
   "source": [
    "car=input(\"color\")\n",
    "if car==\"green\":\n",
    "    print(\"Car is allowed to go\")\n",
    "elif car==\"yellow\":\n",
    "    print(\"Car has to ba wait\")\n",
    "elif car==\"red\":\n",
    "    print(\"Car has to stop\")\n",
    "else:\n",
    "    print(\"Un recognized signal\")"
   ]
  },
  {
   "cell_type": "code",
   "execution_count": 31,
   "id": "25bee4da",
   "metadata": {},
   "outputs": [
    {
     "name": "stdout",
     "output_type": "stream",
     "text": [
      "Enter students nameshri\n",
      "Enter the class name4\n",
      " Enter students sectionbgh\n",
      "Enter students gradeD\n",
      "Name: shri\n",
      "Class: 4\n",
      "Section: bgh\n",
      "grade\n",
      "Good\n"
     ]
    }
   ],
   "source": [
    "name=input(\"Enter students name\")\n",
    "class_name=input(\"Enter the class name\")\n",
    "section=input(\" Enter students section\")\n",
    "grade=input(\"Enter students grade\")\n",
    "print(\"Name:\",name)\n",
    "print(\"Class:\",class_name)\n",
    "print(\"Section:\",section)\n",
    "print(\"grade\")\n",
    "if grade==\"A\":\n",
    "    print(\"Outstanding\")\n",
    "elif grade==\"B\":\n",
    "    print(\"Excellent\")\n",
    "elif grade==\"C\":\n",
    "    print(\"Very Good\")\n",
    "elif grade==\"D\":\n",
    "    print(\"Good\")\n",
    "elif grade==\"E\":\n",
    "    print(\"Satisfactory\")\n",
    "else:\n",
    "    print(\"Unrecognized\")\n"
   ]
  },
  {
   "cell_type": "code",
   "execution_count": null,
   "id": "71cc729b",
   "metadata": {},
   "outputs": [],
   "source": [
    "name=input(\"Enter Name\")\n",
    "cls=input(\"Enter class\")\n",
    "section=input(\"Enter section\")\n",
    "eng_mark=input(\"Enter english mark\")\n",
    "dzkh_mark=input(\"Enter Dzongkha mark\")\n",
    "math_mark=input(\"Enter Math mark\")\n",
    "history_mark=input(\"Enter history mark\")\n",
    "geo_mark=input(\"Enter geograpy mark\")\n",
    "\n",
    "percentage=eng_mark+dzkh_mark+math_mark+history_mark+geo_mark/5\n",
    "print(\"Percentage:\",percentage)\n",
    "\n",
    "print(\"Name:\",name)\n",
    "print(\"clas:\",cls)\n",
    "print(\"Section:\",section)\n",
    "print(\"Eng mark:\",eng_mark)\n",
    "print(\"Dzkh mark:\",dzkh_mark)\n",
    "print(\"Math mark:\",math_mark)\n",
    "print(\"History mark:\",history_mark)\n",
    "print(\"Geo mark:\",geo_mark)\n",
    "\n",
    "\n",
    "if percentage>=45:\n",
    "    print(\"pass\")\n",
    "    if percentage >=60 and percentage<=75:\n",
    "        print(\"good\")\n",
    "    elif percentage >=75 and percentage<=85:\n",
    "        print(\"very good\")\n",
    "    elif percentage >=85 and percentage<=100:\n",
    "        print(\"excellent\")\n",
    "    \n",
    "  "
   ]
  },
  {
   "cell_type": "code",
   "execution_count": 40,
   "id": "2abe9233",
   "metadata": {},
   "outputs": [
    {
     "name": "stdout",
     "output_type": "stream",
     "text": [
      "Enter name:shreya\n",
      "Enter class:10\n",
      "Enter section:A\n",
      "Enter English mark:65\n",
      "Enter Dzongkha mark:76\n",
      "Enter Math mark:12\n",
      "Enter History mark:55\n",
      "Enter Geography mark:20\n",
      "\n",
      "---------Printing result-------------\n",
      "Name: Shreya\n",
      "Class: 10\n",
      "Section: A\n",
      "Percentage: 45.6 %\n",
      "Pass!\n",
      "Remark: Just passed!\n"
     ]
    }
   ],
   "source": [
    "name = input(\"Enter name:\").title()\n",
    "clas = input(\"Enter class:\")\n",
    "section = input(\"Enter section:\")\n",
    "eng = float(input(\"Enter English mark:\"))\n",
    "dzo = float(input(\"Enter Dzongkha mark:\"))\n",
    "math = float(input(\"Enter Math mark:\"))\n",
    "his = float(input(\"Enter History mark:\"))\n",
    "geo = float(input(\"Enter Geography mark:\"))\n",
    " \n",
    "total_mark = eng + dzo + math + his + geo\n",
    "percentage = total_mark / 5\n",
    " \n",
    "print(\"\\n---------Printing result-------------\")\n",
    "print(\"Name:\", name)\n",
    "print(\"Class:\", clas)\n",
    "print(\"Section:\", section)\n",
    "print(\"Percentage:\", percentage,\"%\")\n",
    "if percentage < 0 or percentage > 100:\n",
    "    print(\"Error: percentage should be between 0 and 100 only!\")\n",
    "elif percentage < 45:\n",
    "    print(\"Failed!\")\n",
    "elif percentage >= 45:\n",
    "    print(\"Pass!\")\n",
    "    if percentage >=45 and percentage < 60:\n",
    "        print(\"Remark: Just passed!\")\n",
    "    elif percentage >= 60 and percentage < 75:\n",
    "        print(\"Remark: Good!\")\n",
    "    elif percentage >= 75 and percentage < 85:\n",
    "        print(\"Remark: Very Good!\")\n",
    "    elif percentage >= 85 and percentage < 100:\n",
    "        print(\"Remark: Excellent!\")\n"
   ]
  },
  {
   "cell_type": "code",
   "execution_count": null,
   "id": "7eb778bd",
   "metadata": {},
   "outputs": [],
   "source": []
  }
 ],
 "metadata": {
  "kernelspec": {
   "display_name": "Python 3 (ipykernel)",
   "language": "python",
   "name": "python3"
  },
  "language_info": {
   "codemirror_mode": {
    "name": "ipython",
    "version": 3
   },
   "file_extension": ".py",
   "mimetype": "text/x-python",
   "name": "python",
   "nbconvert_exporter": "python",
   "pygments_lexer": "ipython3",
   "version": "3.9.12"
  }
 },
 "nbformat": 4,
 "nbformat_minor": 5
}
